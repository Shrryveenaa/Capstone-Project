{
 "cells": [
  {
   "cell_type": "markdown",
   "id": "0b200a31",
   "metadata": {},
   "source": [
    "# make 1 dataframe of 3 csv file using concat/merge /join operation of pandas "
   ]
  },
  {
   "cell_type": "code",
   "execution_count": null,
   "id": "bcf82445",
   "metadata": {},
   "outputs": [],
   "source": [
    "import pandas as pd"
   ]
  },
  {
   "cell_type": "code",
   "execution_count": null,
   "id": "60cab170",
   "metadata": {},
   "outputs": [],
   "source": [
    "#Reading CSV files into seperate DataFrames\n",
    "\n",
    "df1 = pd.read_csv(\"Table1.csv\")\n",
    "df2 = pd.read_csv(\"Table2.csv\")\n",
    "df3 = pd.read_csv(\"Table3.csv\")\n"
   ]
  },
  {
   "cell_type": "code",
   "execution_count": null,
   "id": "26278a77",
   "metadata": {},
   "outputs": [],
   "source": [
    "result1 = pd.merge(df1, df2)"
   ]
  },
  {
   "cell_type": "code",
   "execution_count": null,
   "id": "fec4b613",
   "metadata": {},
   "outputs": [],
   "source": [
    "Final1 = pd.merge(result1, df2) "
   ]
  },
  {
   "cell_type": "code",
   "execution_count": null,
   "id": "400460f2",
   "metadata": {},
   "outputs": [],
   "source": [
    "Final1"
   ]
  },
  {
   "cell_type": "code",
   "execution_count": null,
   "id": "029c9585",
   "metadata": {},
   "outputs": [],
   "source": [
    "Final1.to_csv('Final_table.csv')\n",
    "Final1=pd.read_csv('Final_table.csv')"
   ]
  },
  {
   "cell_type": "code",
   "execution_count": null,
   "id": "9f6165a6",
   "metadata": {},
   "outputs": [],
   "source": [
    "#Perform EDA\n",
    "#Start by checking the shape and basic information of the merged dataframe\n",
    "P=Final1.shape\n"
   ]
  },
  {
   "cell_type": "code",
   "execution_count": null,
   "id": "100abb06",
   "metadata": {},
   "outputs": [],
   "source": [
    "Final1.info()"
   ]
  },
  {
   "cell_type": "code",
   "execution_count": null,
   "id": "b02c024e",
   "metadata": {},
   "outputs": [],
   "source": [
    "#Explore descriptive statistic of numerical coloumns\n",
    "Final1.describe()"
   ]
  },
  {
   "cell_type": "code",
   "execution_count": null,
   "id": "debedf55",
   "metadata": {},
   "outputs": [],
   "source": [
    "#Checking for missing values\n",
    "Final1.isnull().sum()"
   ]
  },
  {
   "cell_type": "code",
   "execution_count": null,
   "id": "d4f3680c",
   "metadata": {},
   "outputs": [],
   "source": [
    "#Explore the distribution of categories variables \n",
    "Final1['categorical_column'].value_counts()"
   ]
  },
  {
   "cell_type": "code",
   "execution_count": null,
   "id": "313d50df",
   "metadata": {},
   "outputs": [],
   "source": [
    "#Visualize the data using plots and charts For example use matplotlib or seaborn libraries to create visualization "
   ]
  },
  {
   "cell_type": "code",
   "execution_count": null,
   "id": "3a35465e",
   "metadata": {},
   "outputs": [],
   "source": [
    "import pandas as pd\n",
    "import numpy as np\n",
    "import matplotlib.pyplot as plt\n",
    "import seaborn as sns"
   ]
  },
  {
   "cell_type": "code",
   "execution_count": null,
   "id": "69a7cc20",
   "metadata": {},
   "outputs": [],
   "source": [
    "#Visualizing the data using plots and charts\n",
    "plt.figure(figsize=(10,6))\n",
    "sns.scatterplot(data=Final1,x='starrating',y='price')\n",
    "plt.title('starrating vs price')\n",
    "plt.xlabel('starrating')\n",
    "plt.ylabel('price')\n",
    "plt.show\n"
   ]
  },
  {
   "cell_type": "code",
   "execution_count": null,
   "id": "c7f9f0b7",
   "metadata": {},
   "outputs": [],
   "source": [
    "#BoxPlot\n",
    "plt.figure(figsize=(10,6))\n",
    "sns.boxplot(data=Final1,y='price')\n",
    "plt.title('price')\n",
    "plt.ylabel('price')\n",
    "plt.show"
   ]
  },
  {
   "cell_type": "code",
   "execution_count": null,
   "id": "f0f045bf",
   "metadata": {},
   "outputs": [],
   "source": [
    "#Categorical column you can create barplot or piechat\n",
    "plt.figure(figsize=(10,6))\n",
    "sns.countplot(data=Final1,x='starrating',y='price')\n",
    "plt.title('starrating vs price')\n",
    "plt.xlabel('starrating')\n",
    "plt.ylabel('count')\n",
    "plt.show"
   ]
  },
  {
   "cell_type": "markdown",
   "id": "38779cc8",
   "metadata": {},
   "source": [
    "# Machine Learning Price Prediction"
   ]
  },
  {
   "cell_type": "code",
   "execution_count": null,
   "id": "fe16510d",
   "metadata": {},
   "outputs": [],
   "source": [
    "#Import necessray libraries\n",
    "import pandas as pd\n",
    "from sklearn.model_selection import train_test_split\n",
    "from sklearn.preprocessing import StandardScaler\n",
    "from sklearn.linear_model import LinearRegression,LogisticRegression\n",
    "from sklearn.ensemble import RandomForestRegressor,RandomForestClassifier\n",
    "from sklearn.metrics import mean_squared_error,accuracy_score\n",
    "from sklearn.model_selection import GridSearchCV"
   ]
  },
  {
   "cell_type": "code",
   "execution_count": null,
   "id": "b2f48060",
   "metadata": {},
   "outputs": [],
   "source": [
    "#load the dataset\n",
    "data=pd.read_csv('file.csv')"
   ]
  },
  {
   "cell_type": "code",
   "execution_count": null,
   "id": "b20ddd98",
   "metadata": {},
   "outputs": [],
   "source": [
    "#Seperate the features and labels\n",
    "features = data.drop(['price','starrating'],axis=1)\n",
    "price_labels = data['price']\n",
    "starrating_labels = data['starrating']"
   ]
  },
  {
   "cell_type": "code",
   "execution_count": null,
   "id": "c0749ee7",
   "metadata": {},
   "outputs": [],
   "source": [
    "#Spliting the data into training and testing\n",
    "x_train,x_test,y_price_train,y_price_test = train_test_split(features,price_labels,test_size=0.2,random_state=42)\n",
    "x_train,x_test,y_rating_train,y_rating_test = train_test_split(features,starrating_labels,test_size=0.2,random_state=42)"
   ]
  },
  {
   "cell_type": "code",
   "execution_count": null,
   "id": "350cdf8b",
   "metadata": {},
   "outputs": [],
   "source": [
    "#Scaler the features\n",
    "scaler = StandardScaler()\n",
    "x_train_scaled = scaler.fit_transform(x_train)\n",
    "x_test_scaled = scaler.fit_transform(x_test)"
   ]
  },
  {
   "cell_type": "code",
   "execution_count": null,
   "id": "984d7886",
   "metadata": {},
   "outputs": [],
   "source": [
    "#Price prediction model\n",
    "price_model = RandomForestRegressor()\n",
    "price_model.fit(x_train_scaled,y_price_train)"
   ]
  },
  {
   "cell_type": "code",
   "execution_count": null,
   "id": "f7af6c53",
   "metadata": {},
   "outputs": [],
   "source": [
    "#Starrating prediction model\n",
    "starrating_model = RandomForestRegressor()\n",
    "starrating_model.fit(x_train_scaled,y_starrating_train)"
   ]
  },
  {
   "cell_type": "code",
   "execution_count": null,
   "id": "7fe0a264",
   "metadata": {},
   "outputs": [],
   "source": [
    "#Hyperparameter tuning\n",
    "params={'n_estimators':[50, 100, 200], 'max_depth':[None,5,10]}\n",
    "price_grid_search= GridSearchCV(price_model,params,cv=5)\n",
    "price_grid_search.fit(x_train_scaled,y_price_train)\n",
    "best_price_model = price_grid_search.best_estimator_"
   ]
  },
  {
   "cell_type": "code",
   "execution_count": null,
   "id": "78065448",
   "metadata": {},
   "outputs": [],
   "source": [
    "starrating_grid_search= GridSearchCV(starrating_model,params,cv=5)\n",
    "starrating_grid_search.fit(x_train_scaled,y_starrating_train)\n",
    "best_starrating_model = starrating_grid_search.best_estimator_"
   ]
  },
  {
   "cell_type": "code",
   "execution_count": null,
   "id": "4254e732",
   "metadata": {},
   "outputs": [],
   "source": [
    "#Predictions\n",
    "price_predictions=best_price_model.predict(x_test_scaled)\n",
    "starrating_predictions=best_starrating_model.predict(x_test_scaled)"
   ]
  },
  {
   "cell_type": "code",
   "execution_count": null,
   "id": "b3064c98",
   "metadata": {},
   "outputs": [],
   "source": [
    "#Evaluation\n",
    "price_rmse=mean_squared_error(y_price_test, price_predictions, squared=False)\n",
    "starrating_rmse=mean_squared_error(y_starrating_test, starrating_predictions, squared=False)"
   ]
  },
  {
   "cell_type": "code",
   "execution_count": null,
   "id": "3421b256",
   "metadata": {},
   "outputs": [],
   "source": [
    "print(\"Price RMSE:\",price_rmse)\n",
    "print(\"starrating Accuracy:\",starrating_accuracy)"
   ]
  },
  {
   "cell_type": "code",
   "execution_count": null,
   "id": "3fef77ac",
   "metadata": {},
   "outputs": [],
   "source": []
  },
  {
   "cell_type": "code",
   "execution_count": null,
   "id": "1f46e151",
   "metadata": {},
   "outputs": [],
   "source": []
  },
  {
   "cell_type": "code",
   "execution_count": null,
   "id": "182519d0",
   "metadata": {},
   "outputs": [],
   "source": []
  }
 ],
 "metadata": {
  "kernelspec": {
   "display_name": "Python 3 (ipykernel)",
   "language": "python",
   "name": "python3"
  },
  "language_info": {
   "codemirror_mode": {
    "name": "ipython",
    "version": 3
   },
   "file_extension": ".py",
   "mimetype": "text/x-python",
   "name": "python",
   "nbconvert_exporter": "python",
   "pygments_lexer": "ipython3",
   "version": "3.9.13"
  }
 },
 "nbformat": 4,
 "nbformat_minor": 5
}
