{
 "cells": [
  {
   "cell_type": "code",
   "execution_count": 11,
   "id": "08020915",
   "metadata": {},
   "outputs": [],
   "source": [
    "import requests\n",
    "from bs4 import BeautifulSoup\n",
    "import pandas as pd"
   ]
  },
  {
   "cell_type": "code",
   "execution_count": 12,
   "id": "175c0361",
   "metadata": {
    "scrolled": true
   },
   "outputs": [
    {
     "data": {
      "text/plain": [
       "<Response [200]>"
      ]
     },
     "execution_count": 12,
     "metadata": {},
     "output_type": "execute_result"
    }
   ],
   "source": [
    "page=requests.get(\"https://www.nike.com/w/shoes-y7ok\")\n",
    "page"
   ]
  },
  {
   "cell_type": "code",
   "execution_count": 13,
   "id": "a55e0bc4",
   "metadata": {},
   "outputs": [],
   "source": [
    "soup=BeautifulSoup(page.text,'html.parser')"
   ]
  },
  {
   "cell_type": "code",
   "execution_count": 15,
   "id": "426d54c9",
   "metadata": {},
   "outputs": [
    {
     "data": {
      "text/plain": [
       "[<div class=\"product-grid css-1hl0l1w\"><main><section><div class=\"product-grid__items css-hvew4t\" id=\"skip-to-products\"><div class=\"product-card product-grid__card css-1t0asop\" data-product-position=\"1\" data-testid=\"product-card\"><div class=\"product-card__body\" data-el-type=\"Card\" data-testid=\"product-card__body\"><figure><a class=\"product-card__link-overlay\" data-testid=\"product-card__link-overlay\" href=\"https://www.nike.com/t/air-force-1-07-mens-shoes-jBrhbr/CW2288-111\" tabindex=\"-1\">Nike Air Force 1 '07</a><a aria-label=\"Nike Air Force 1 '07\" class=\"product-card__img-link-overlay\" data-el-type=\"Hero\" data-testid=\"product-card__img-link-overlay\" href=\"https://www.nike.com/t/air-force-1-07-mens-shoes-jBrhbr/CW2288-111\"><div class=\"wall-image-loader css-1la3v4n\" data-testid=\"wall-image-loader\"><img alt=\"Nike Air Force 1 '07 Men's Shoes\" class=\"product-card__hero-image css-1fxh5tw\" height=\"100%\" loading=\"lazy\" sizes=\"\" src=\"data:image/gif;base64,R0lGODlhAQABAIAAAAAAAP///yH5BAEAAAAALAAAAAABAAEAAAIBRAA7\" srcset=\"\" width=\"100%\"/><noscript><img alt=\"Nike Air Force 1 '07 Men's Shoes\" class=\"product-card__hero-image css-1fxh5tw\" height=\"400\" loading=\"lazy\" width=\"400\"/></noscript></div></a><div class=\"product-card__info disable-animations for--product\"><div class=\"\"><div class=\"product-card__messaging accent--color\" data-testid=\"product-card__messaging\">Best Seller</div><div class=\"product-card__titles\"><div class=\"product-card__title\" id=\"Nike Air Force 1 '07\" role=\"link\">Nike Air Force 1 '07</div><div class=\"product-card__subtitle\" role=\"link\">Men's Shoes</div></div></div><div class=\"product-card__count-wrapper false false\" data-testid=\"product-card__count-wrapper \"><div class=\"product-card__count-item\"><button aria-expanded=\"false\" class=\"product-card__colorway-btn\" data-testid=\"product-card__colorway-btn\" type=\"button\"><div aria-label=\"Available in 4 Colors\" class=\"product-card__product-count\">4 Colors</div></button></div></div><div class=\"product-card__animation_wrapper\"><div class=\"product-card__price-wrapper\"><div class=\"product-card__price\" data-testid=\"product-card__price\" role=\"link\"><div class=\"product-price__wrapper css-9xqpgk\"><div class=\"product-price us__styling is--current-price css-11s12ax\" data-testid=\"product-price\" role=\"link\">$115</div></div></div></div></div></div></figure></div></div><div class=\"product-card product-grid__card css-1t0asop\" data-product-position=\"2\" data-testid=\"product-card\"><div class=\"product-card__body\" data-el-type=\"Card\" data-testid=\"product-card__body\"><figure><a class=\"product-card__link-overlay\" data-testid=\"product-card__link-overlay\" href=\"https://www.nike.com/t/air-jordan-3-retro-mens-shoes-5M3ZlK/CT8532-140\" tabindex=\"-1\">Air Jordan 3 Retro</a><a aria-label=\"Air Jordan 3 Retro\" class=\"product-card__img-link-overlay\" data-el-type=\"Hero\" data-testid=\"product-card__img-link-overlay\" href=\"https://www.nike.com/t/air-jordan-3-retro-mens-shoes-5M3ZlK/CT8532-140\"><div class=\"wall-image-loader css-1la3v4n\" data-testid=\"wall-image-loader\"><img alt=\"Air Jordan 3 Retro Men's Shoes\" class=\"product-card__hero-image css-1fxh5tw\" height=\"100%\" loading=\"lazy\" sizes=\"\" src=\"data:image/gif;base64,R0lGODlhAQABAIAAAAAAAP///yH5BAEAAAAALAAAAAABAAEAAAIBRAA7\" srcset=\"\" width=\"100%\"/><noscript><img alt=\"Air Jordan 3 Retro Men's Shoes\" class=\"product-card__hero-image css-1fxh5tw\" height=\"400\" loading=\"lazy\" width=\"400\"/></noscript></div></a><div class=\"product-card__info disable-animations for--product\"><div class=\"\"><div class=\"product-card__messaging accent--color\" data-testid=\"product-card__messaging\">Just In</div><div class=\"product-card__titles\"><div class=\"product-card__title\" id=\"Air Jordan 3 Retro\" role=\"link\">Air Jordan 3 Retro</div><div class=\"product-card__subtitle\" role=\"link\">Men's Shoes</div></div></div><div class=\"product-card__count-wrapper false false\" data-testid=\"product-card__count-wrapper \"><div class=\"product-card__count-item\"><button aria-expanded=\"false\" class=\"product-card__colorway-btn\" data-testid=\"product-card__colorway-btn\" type=\"button\"><div aria-label=\"Available in 2 Colors\" class=\"product-card__product-count\">2 Colors</div></button></div></div><div class=\"product-card__animation_wrapper\"><div class=\"product-card__price-wrapper\"><div class=\"product-card__price\" data-testid=\"product-card__price\" role=\"link\"><div class=\"product-price__wrapper css-9xqpgk\"><div class=\"product-price us__styling is--current-price css-11s12ax\" data-testid=\"product-price\" role=\"link\">$200</div></div></div></div></div></div></figure></div></div><div class=\"product-card product-grid__card css-1t0asop\" data-product-position=\"3\" data-testid=\"product-card\"><div class=\"product-card__body\" data-el-type=\"Card\" data-testid=\"product-card__body\"><figure><a class=\"product-card__link-overlay\" data-testid=\"product-card__link-overlay\" href=\"https://www.nike.com/t/jumpman-mvp-mens-shoes-gzmjDz/DZ4475-006\" tabindex=\"-1\">Jumpman MVP</a><a aria-label=\"Jumpman MVP\" class=\"product-card__img-link-overlay\" data-el-type=\"Hero\" data-testid=\"product-card__img-link-overlay\" href=\"https://www.nike.com/t/jumpman-mvp-mens-shoes-gzmjDz/DZ4475-006\"><div class=\"wall-image-loader css-1la3v4n\" data-testid=\"wall-image-loader\"><img alt=\"Jumpman MVP Men's Shoes\" class=\"product-card__hero-image css-1fxh5tw\" height=\"100%\" loading=\"lazy\" sizes=\"\" src=\"data:image/gif;base64,R0lGODlhAQABAIAAAAAAAP///yH5BAEAAAAALAAAAAABAAEAAAIBRAA7\" srcset=\"\" width=\"100%\"/><noscript><img alt=\"Jumpman MVP Men's Shoes\" class=\"product-card__hero-image css-1fxh5tw\" height=\"400\" loading=\"lazy\" width=\"400\"/></noscript></div></a><div class=\"product-card__info disable-animations\"><div class=\"\"><div class=\"product-card__titles\"><div class=\"product-card__title\" id=\"Jumpman MVP\" role=\"link\">Jumpman MVP</div><div class=\"product-card__subtitle\" role=\"link\">Men's Shoes</div></div></div><div class=\"product-card__count-wrapper false false\" data-testid=\"product-card__count-wrapper \"><div class=\"product-card__count-item\"><button aria-expanded=\"false\" class=\"product-card__colorway-btn\" data-testid=\"product-card__colorway-btn\" type=\"button\"><div aria-label=\"Available in 9 Colors\" class=\"product-card__product-count\">9 Colors</div></button></div></div><div class=\"product-card__animation_wrapper\"><div class=\"product-card__price-wrapper\"><div class=\"product-card__price\" data-testid=\"product-card__price\" role=\"link\"><div class=\"product-price__wrapper css-9xqpgk\"><div class=\"product-price us__styling is--current-price css-11s12ax\" data-testid=\"product-price\" role=\"link\">$165</div></div></div></div></div></div></figure></div></div><div class=\"product-card product-grid__card css-1t0asop\" data-product-position=\"4\" data-testid=\"product-card\"><div class=\"product-card__body\" data-el-type=\"Card\" data-testid=\"product-card__body\"><figure><a class=\"product-card__link-overlay\" data-testid=\"product-card__link-overlay\" href=\"https://www.nike.com/t/dunk-low-big-kids-shoes-RZGMsR/FV0374-100\" tabindex=\"-1\">Nike Dunk Low</a><a aria-label=\"Nike Dunk Low\" class=\"product-card__img-link-overlay\" data-el-type=\"Hero\" data-testid=\"product-card__img-link-overlay\" href=\"https://www.nike.com/t/dunk-low-big-kids-shoes-RZGMsR/FV0374-100\"><div class=\"wall-image-loader css-1la3v4n\" data-testid=\"wall-image-loader\"><img alt=\"Nike Dunk Low Big Kids' Shoes\" class=\"product-card__hero-image css-1fxh5tw\" height=\"100%\" loading=\"lazy\" sizes=\"\" src=\"data:image/gif;base64,R0lGODlhAQABAIAAAAAAAP///yH5BAEAAAAALAAAAAABAAEAAAIBRAA7\" srcset=\"\" width=\"100%\"/><noscript><img alt=\"Nike Dunk Low Big Kids' Shoes\" class=\"product-card__hero-image css-1fxh5tw\" height=\"400\" loading=\"lazy\" width=\"400\"/></noscript></div></a><div class=\"product-card__info disable-animations for--product\"><div class=\"\"><div class=\"product-card__messaging accent--color\" data-testid=\"product-card__messaging\">Best Seller</div><div class=\"product-card__titles\"><div class=\"product-card__title\" id=\"Nike Dunk Low\" role=\"link\">Nike Dunk Low</div><div class=\"product-card__subtitle\" role=\"link\">Big Kids' Shoes</div></div></div><div class=\"product-card__count-wrapper false false\" data-testid=\"product-card__count-wrapper \"><div class=\"product-card__count-item\"><button aria-expanded=\"false\" class=\"product-card__colorway-btn\" data-testid=\"product-card__colorway-btn\" type=\"button\"><div aria-label=\"Available in 1 Color\" class=\"product-card__product-count\">1 Color</div></button></div></div><div class=\"product-card__animation_wrapper\"><div class=\"product-card__price-wrapper\"><div class=\"product-card__price\" data-testid=\"product-card__price\" role=\"link\"><div class=\"product-price__wrapper css-9xqpgk\"><div class=\"product-price us__styling is--current-price css-11s12ax\" data-testid=\"product-price\" role=\"link\">$90</div></div></div></div></div></div></figure></div></div><div class=\"product-card product-grid__card css-1t0asop\" data-product-position=\"5\" data-testid=\"product-card\"><div class=\"product-card__body\" data-el-type=\"Card\" data-testid=\"product-card__body\"><figure><a class=\"product-card__link-overlay\" data-testid=\"product-card__link-overlay\" href=\"https://www.nike.com/t/dunk-low-womens-shoes-4W2Z5P/DD1503-101\" tabindex=\"-1\">Nike Dunk Low</a><a aria-label=\"Nike Dunk Low\" class=\"product-card__img-link-overlay\" data-el-type=\"Hero\" data-testid=\"product-card__img-link-overlay\" href=\"https://www.nike.com/t/dunk-low-womens-shoes-4W2Z5P/DD1503-101\"><div class=\"wall-image-loader css-1la3v4n\" data-testid=\"wall-image-loader\"><img alt=\"Nike Dunk Low Women's Shoes\" class=\"product-card__hero-image css-1fxh5tw\" height=\"100%\" loading=\"lazy\" sizes=\"\" src=\"data:image/gif;base64,R0lGODlhAQABAIAAAAAAAP///yH5BAEAAAAALAAAAAABAAEAAAIBRAA7\" srcset=\"\" width=\"100%\"/><noscript><img alt=\"Nike Dunk Low Women's Shoes\" class=\"product-card__hero-image css-1fxh5tw\" height=\"400\" loading=\"lazy\" width=\"400\"/></noscript></div></a><div class=\"product-card__info disable-animations for--product\"><div class=\"\"><div class=\"product-card__messaging accent--color\" data-testid=\"product-card__messaging\">Best Seller</div><div class=\"product-card__titles\"><div class=\"product-card__title\" id=\"Nike Dunk Low\" role=\"link\">Nike Dunk Low</div><div class=\"product-card__subtitle\" role=\"link\">Women's Shoes</div></div></div><div class=\"product-card__count-wrapper false false\" data-testid=\"product-card__count-wrapper \"><div class=\"product-card__count-item\"><button aria-expanded=\"false\" class=\"product-card__colorway-btn\" data-testid=\"product-card__colorway-btn\" type=\"button\"><div aria-label=\"Available in 1 Color\" class=\"product-card__product-count\">1 Color</div></button></div></div><div class=\"product-card__animation_wrapper\"><div class=\"product-card__price-wrapper\"><div class=\"product-card__price\" data-testid=\"product-card__price\" role=\"link\"><div class=\"product-price__wrapper css-9xqpgk\"><div class=\"product-price us__styling is--current-price css-11s12ax\" data-testid=\"product-price\" role=\"link\">$115</div></div></div></div></div></div></figure></div></div><div class=\"content-card product-grid__card css-1c61y0e\"><div class=\"image-loader content-card__image css-1d5fw3l\"><picture><source media=\"0\" srcset=\"\"/><img alt=\"SAVE UP TO 50%\" loading=\"lazy\" src=\"data:image/gif;base64,R0lGODlhAQABAIAAAAAAAP///yH5BAEAAAAALAAAAAABAAEAAAIBRAA7\"/></picture></div><div class=\"content-card__overlay is--bottom\"><div class=\"content-card__title is--marketing css-1dzaozt\">SAVE UP TO 50%</div><div class=\"content-card__body-text is--base css-1dzaozt\">No code needed—ends 12.20.</div></div></div><div class=\"product-card product-grid__card css-1t0asop\" data-product-position=\"7\" data-testid=\"product-card\"><div class=\"product-card__body\" data-el-type=\"Card\" data-testid=\"product-card__body\"><figure><a class=\"product-card__link-overlay\" data-testid=\"product-card__link-overlay\" href=\"https://www.nike.com/t/air-jordan-1-mid-mens-shoes-X5pM09/DQ8426-106\" tabindex=\"-1\">Air Jordan 1 Mid</a><a aria-label=\"Air Jordan 1 Mid\" class=\"product-card__img-link-overlay\" data-el-type=\"Hero\" data-testid=\"product-card__img-link-overlay\" href=\"https://www.nike.com/t/air-jordan-1-mid-mens-shoes-X5pM09/DQ8426-106\"><div class=\"wall-image-loader css-1la3v4n\" data-testid=\"wall-image-loader\"><img alt=\"Air Jordan 1 Mid Men's Shoes\" class=\"product-card__hero-image css-1fxh5tw\" height=\"100%\" loading=\"lazy\" sizes=\"\" src=\"data:image/gif;base64,R0lGODlhAQABAIAAAAAAAP///yH5BAEAAAAALAAAAAABAAEAAAIBRAA7\" srcset=\"\" width=\"100%\"/><noscript><img alt=\"Air Jordan 1 Mid Men's Shoes\" class=\"product-card__hero-image css-1fxh5tw\" height=\"400\" loading=\"lazy\" width=\"400\"/></noscript></div></a><div class=\"product-card__info disable-animations for--product\"><div class=\"\"><div class=\"product-card__messaging accent--color\" data-testid=\"product-card__messaging\">Best Seller</div><div class=\"product-card__titles\"><div class=\"product-card__title\" id=\"Air Jordan 1 Mid\" role=\"link\">Air Jordan 1 Mid</div><div class=\"product-card__subtitle\" role=\"link\">Men's Shoes</div></div></div><div class=\"product-card__count-wrapper false false\" data-testid=\"product-card__count-wrapper \"><div class=\"product-card__count-item\"><button aria-expanded=\"false\" class=\"product-card__colorway-btn\" data-testid=\"product-card__colorway-btn\" type=\"button\"><div aria-label=\"Available in 6 Colors\" class=\"product-card__product-count\">6 Colors</div></button></div></div><div class=\"product-card__animation_wrapper\"><div class=\"product-card__price-wrapper\"><div class=\"product-card__price\" data-testid=\"product-card__price\" role=\"link\"><div aria-label=\"current price $106.97, original price $125\" class=\"product-price__wrapper css-9xqpgk\"><div aria-hidden=\"true\" class=\"product-price is--current-price css-1ydfahe\" data-testid=\"product-price-reduced\" role=\"link\">$106.97</div><div aria-hidden=\"true\" class=\"product-price us__styling is--striked-out css-0\" data-testid=\"product-price\" role=\"link\">$125</div></div></div></div></div></div></figure></div></div><div class=\"product-card product-grid__card css-1t0asop\" data-product-position=\"8\" data-testid=\"product-card\"><div class=\"product-card__body\" data-el-type=\"Card\" data-testid=\"product-card__body\"><figure><a class=\"product-card__link-overlay\" data-testid=\"product-card__link-overlay\" href=\"https://www.nike.com/t/court-legacy-next-nature-womens-shoes-8r07x0/DH3161-100\" tabindex=\"-1\">Nike Court Legacy Next Nature</a><a aria-label=\"Nike Court Legacy Next Nature\" class=\"product-card__img-link-overlay\" data-el-type=\"Hero\" data-testid=\"product-card__img-link-overlay\" href=\"https://www.nike.com/t/court-legacy-next-nature-womens-shoes-8r07x0/DH3161-100\"><div class=\"wall-image-loader css-1la3v4n\" data-testid=\"wall-image-loader\"><img alt=\"Nike Court Legacy Next Nature Women's Shoes\" class=\"product-card__hero-image css-1fxh5tw\" height=\"100%\" loading=\"lazy\" sizes=\"\" src=\"data:image/gif;base64,R0lGODlhAQABAIAAAAAAAP///yH5BAEAAAAALAAAAAABAAEAAAIBRAA7\" srcset=\"\" width=\"100%\"/><noscript><img alt=\"Nike Court Legacy Next Nature Women's Shoes\" class=\"product-card__hero-image css-1fxh5tw\" height=\"400\" loading=\"lazy\" width=\"400\"/></noscript></div></a><div class=\"product-card__info disable-animations for--product\"><div class=\"\"><div class=\"product-card__messaging accent--color\" data-testid=\"product-card__messaging\">Best Seller</div><div class=\"product-card__titles\"><div class=\"product-card__title\" id=\"Nike Court Legacy Next Nature\" role=\"link\">Nike Court Legacy Next Nature</div><div class=\"product-card__subtitle\" role=\"link\">Women's Shoes</div></div></div><div class=\"product-card__count-wrapper false false\" data-testid=\"product-card__count-wrapper \"><div class=\"product-card__count-item\"><button aria-expanded=\"false\" class=\"product-card__colorway-btn\" data-testid=\"product-card__colorway-btn\" type=\"button\"><div aria-label=\"Available in 6 Colors\" class=\"product-card__product-count\">6 Colors</div></button></div></div><div class=\"product-card__animation_wrapper\"><div class=\"product-card__price-wrapper\"><div class=\"product-card__price\" data-testid=\"product-card__price\" role=\"link\"><div aria-label=\"current price $59.97, original price $70\" class=\"product-price__wrapper css-9xqpgk\"><div aria-hidden=\"true\" class=\"product-price is--current-price css-1ydfahe\" data-testid=\"product-price-reduced\" role=\"link\">$59.97</div><div aria-hidden=\"true\" class=\"product-price us__styling is--striked-out css-0\" data-testid=\"product-price\" role=\"link\">$70</div></div></div></div></div></div></figure></div></div><div class=\"product-card product-grid__card css-1t0asop\" data-product-position=\"9\" data-testid=\"product-card\"><div class=\"product-card__body\" data-el-type=\"Card\" data-testid=\"product-card__body\"><figure><a class=\"product-card__link-overlay\" data-testid=\"product-card__link-overlay\" href=\"https://www.nike.com/t/blazer-mid-77-womens-shoes-NPWfjm/CZ1055-100\" tabindex=\"-1\">Nike Blazer Mid '77</a><a aria-label=\"Nike Blazer Mid '77\" class=\"product-card__img-link-overlay\" data-el-type=\"Hero\" data-testid=\"product-card__img-link-overlay\" href=\"https://www.nike.com/t/blazer-mid-77-womens-shoes-NPWfjm/CZ1055-100\"><div class=\"wall-image-loader css-1la3v4n\" data-testid=\"wall-image-loader\"><img alt=\"Nike Blazer Mid '77 Women's Shoes\" class=\"product-card__hero-image css-1fxh5tw\" height=\"100%\" loading=\"lazy\" sizes=\"\" src=\"data:image/gif;base64,R0lGODlhAQABAIAAAAAAAP///yH5BAEAAAAALAAAAAABAAEAAAIBRAA7\" srcset=\"\" width=\"100%\"/><noscript><img alt=\"Nike Blazer Mid '77 Women's Shoes\" class=\"product-card__hero-image css-1fxh5tw\" height=\"400\" loading=\"lazy\" width=\"400\"/></noscript></div></a><div class=\"product-card__info disable-animations\"><div class=\"\"><div class=\"product-card__titles\"><div class=\"product-card__title\" id=\"Nike Blazer Mid '77\" role=\"link\">Nike Blazer Mid '77</div><div class=\"product-card__subtitle\" role=\"link\">Women's Shoes</div></div></div><div class=\"product-card__count-wrapper false false\" data-testid=\"product-card__count-wrapper \"><div class=\"product-card__count-item\"><button aria-expanded=\"false\" class=\"product-card__colorway-btn\" data-testid=\"product-card__colorway-btn\" type=\"button\"><div aria-label=\"Available in 5 Colors\" class=\"product-card__product-count\">5 Colors</div></button></div></div><div class=\"product-card__animation_wrapper\"><div class=\"product-card__price-wrapper\"><div class=\"product-card__price\" data-testid=\"product-card__price\" role=\"link\"><div class=\"product-price__wrapper css-9xqpgk\"><div class=\"product-price us__styling is--current-price css-11s12ax\" data-testid=\"product-price\" role=\"link\">$105</div></div></div></div></div></div></figure></div></div><div class=\"product-card product-grid__card css-1t0asop\" data-product-position=\"10\" data-testid=\"product-card\"><div class=\"product-card__body\" data-el-type=\"Card\" data-testid=\"product-card__body\"><figure><a class=\"product-card__link-overlay\" data-testid=\"product-card__link-overlay\" href=\"https://www.nike.com/t/gamma-force-shoes-4TR9Xf/FQ8877-100\" tabindex=\"-1\">Nike Gamma Force</a><a aria-label=\"Nike Gamma Force\" class=\"product-card__img-link-overlay\" data-el-type=\"Hero\" data-testid=\"product-card__img-link-overlay\" href=\"https://www.nike.com/t/gamma-force-shoes-4TR9Xf/FQ8877-100\"><div class=\"wall-image-loader css-1la3v4n\" data-testid=\"wall-image-loader\"><img alt=\"Nike Gamma Force Shoes\" class=\"product-card__hero-image css-1fxh5tw\" height=\"100%\" loading=\"lazy\" sizes=\"\" src=\"data:image/gif;base64,R0lGODlhAQABAIAAAAAAAP///yH5BAEAAAAALAAAAAABAAEAAAIBRAA7\" srcset=\"\" width=\"100%\"/><noscript><img alt=\"Nike Gamma Force Shoes\" class=\"product-card__hero-image css-1fxh5tw\" height=\"400\" loading=\"lazy\" width=\"400\"/></noscript></div></a><div class=\"product-card__info disable-animations\"><div class=\"\"><div class=\"product-card__titles\"><div class=\"product-card__title\" id=\"Nike Gamma Force\" role=\"link\">Nike Gamma Force</div><div class=\"product-card__subtitle\" role=\"link\">Shoes</div></div></div><div class=\"product-card__count-wrapper false false\" data-testid=\"product-card__count-wrapper \"><div class=\"product-card__count-item\"><button aria-expanded=\"false\" class=\"product-card__colorway-btn\" data-testid=\"product-card__colorway-btn\" type=\"button\"><div aria-label=\"Available in 9 Colors\" class=\"product-card__product-count\">9 Colors</div></button></div></div><div class=\"product-card__animation_wrapper\"><div class=\"product-card__price-wrapper\"><div class=\"product-card__price\" data-testid=\"product-card__price\" role=\"link\"><div aria-label=\"current price $80.97, original price $95\" class=\"product-price__wrapper css-9xqpgk\"><div aria-hidden=\"true\" class=\"product-price is--current-price css-1ydfahe\" data-testid=\"product-price-reduced\" role=\"link\">$80.97</div><div aria-hidden=\"true\" class=\"product-price us__styling is--striked-out css-0\" data-testid=\"product-price\" role=\"link\">$95</div></div></div></div></div></div></figure></div></div><div class=\"product-card product-grid__card css-1t0asop\" data-product-position=\"11\" data-testid=\"product-card\"><div class=\"product-card__body\" data-el-type=\"Card\" data-testid=\"product-card__body\"><figure><a class=\"product-card__link-overlay\" data-testid=\"product-card__link-overlay\" href=\"https://www.nike.com/t/dunk-low-cpHbZv/FV6909-800\" tabindex=\"-1\">Nike Dunk Low</a><a aria-label=\"Nike Dunk Low\" class=\"product-card__img-link-overlay\" data-el-type=\"Hero\" data-testid=\"product-card__img-link-overlay\" href=\"https://www.nike.com/t/dunk-low-cpHbZv/FV6909-800\"><div class=\"wall-image-loader css-1la3v4n\" data-testid=\"wall-image-loader\"><img alt=\"Nike Dunk Low Men's Shoes\" class=\"product-card__hero-image css-1fxh5tw\" height=\"100%\" loading=\"lazy\" sizes=\"\" src=\"data:image/gif;base64,R0lGODlhAQABAIAAAAAAAP///yH5BAEAAAAALAAAAAABAAEAAAIBRAA7\" srcset=\"\" width=\"100%\"/><noscript><img alt=\"Nike Dunk Low Men's Shoes\" class=\"product-card__hero-image css-1fxh5tw\" height=\"400\" loading=\"lazy\" width=\"400\"/></noscript></div></a><div class=\"product-card__info disable-animations for--product\"><div class=\"\"><div class=\"product-card__messaging accent--color\" data-testid=\"product-card__messaging\">Just In</div><div class=\"product-card__titles\"><div class=\"product-card__title\" id=\"Nike Dunk Low\" role=\"link\">Nike Dunk Low</div><div class=\"product-card__subtitle\" role=\"link\">Men's Shoes</div></div></div><div class=\"product-card__count-wrapper false false\" data-testid=\"product-card__count-wrapper \"><div class=\"product-card__count-item\"><button aria-expanded=\"false\" class=\"product-card__colorway-btn\" data-testid=\"product-card__colorway-btn\" type=\"button\"><div aria-label=\"Available in 1 Color\" class=\"product-card__product-count\">1 Color</div></button></div></div><div class=\"product-card__animation_wrapper\"><div class=\"product-card__price-wrapper\"><div class=\"product-card__price\" data-testid=\"product-card__price\" role=\"link\"><div class=\"product-price__wrapper css-9xqpgk\"><div class=\"product-price us__styling is--current-price css-11s12ax\" data-testid=\"product-price\" role=\"link\">$115</div></div></div></div></div></div></figure></div></div><div class=\"product-card product-grid__card css-1t0asop\" data-product-position=\"12\" data-testid=\"product-card\"><div class=\"product-card__body\" data-el-type=\"Card\" data-testid=\"product-card__body\"><figure><a class=\"product-card__link-overlay\" data-testid=\"product-card__link-overlay\" href=\"https://www.nike.com/t/air-force-1-le-big-kids-shoes-CZDf8b/DH2920-111\" tabindex=\"-1\">Nike Air Force 1 LE</a><a aria-label=\"Nike Air Force 1 LE\" class=\"product-card__img-link-overlay\" data-el-type=\"Hero\" data-testid=\"product-card__img-link-overlay\" href=\"https://www.nike.com/t/air-force-1-le-big-kids-shoes-CZDf8b/DH2920-111\"><div class=\"wall-image-loader css-1la3v4n\" data-testid=\"wall-image-loader\"><img alt=\"Nike Air Force 1 LE Big Kids' Shoes\" class=\"product-card__hero-image css-1fxh5tw\" height=\"100%\" loading=\"lazy\" sizes=\"\" src=\"data:image/gif;base64,R0lGODlhAQABAIAAAAAAAP///yH5BAEAAAAALAAAAAABAAEAAAIBRAA7\" srcset=\"\" width=\"100%\"/><noscript><img alt=\"Nike Air Force 1 LE Big Kids' Shoes\" class=\"product-card__hero-image css-1fxh5tw\" height=\"400\" loading=\"lazy\" width=\"400\"/></noscript></div></a><div class=\"product-card__info disable-animations for--product\"><div class=\"\"><div class=\"product-card__messaging accent--color\" data-testid=\"product-card__messaging\">Best Seller</div><div class=\"product-card__titles\"><div class=\"product-card__title\" id=\"Nike Air Force 1 LE\" role=\"link\">Nike Air Force 1 LE</div><div class=\"product-card__subtitle\" role=\"link\">Big Kids' Shoes</div></div></div><div class=\"product-card__count-wrapper false false\" data-testid=\"product-card__count-wrapper \"><div class=\"product-card__count-item\"><button aria-expanded=\"false\" class=\"product-card__colorway-btn\" data-testid=\"product-card__colorway-btn\" type=\"button\"><div aria-label=\"Available in 1 Color\" class=\"product-card__product-count\">1 Color</div></button></div></div><div class=\"product-card__animation_wrapper\"><div class=\"product-card__price-wrapper\"><div class=\"product-card__price\" data-testid=\"product-card__price\" role=\"link\"><div class=\"product-price__wrapper css-9xqpgk\"><div class=\"product-price us__styling is--current-price css-11s12ax\" data-testid=\"product-price\" role=\"link\">$90</div></div></div></div></div></div></figure></div></div><div class=\"product-card product-grid__card css-1t0asop\" data-product-position=\"13\" data-testid=\"product-card\"><div class=\"product-card__body\" data-el-type=\"Card\" data-testid=\"product-card__body\"><figure><a class=\"product-card__link-overlay\" data-testid=\"product-card__link-overlay\" href=\"https://www.nike.com/t/dunk-low-retro-premium-mens-shoes-RvlrvD/FB8895-300\" tabindex=\"-1\">Nike Dunk Low Retro Premium</a><a aria-label=\"Nike Dunk Low Retro Premium\" class=\"product-card__img-link-overlay\" data-el-type=\"Hero\" data-testid=\"product-card__img-link-overlay\" href=\"https://www.nike.com/t/dunk-low-retro-premium-mens-shoes-RvlrvD/FB8895-300\"><div class=\"wall-image-loader css-1la3v4n\" data-testid=\"wall-image-loader\"><img alt=\"Nike Dunk Low Retro Premium Men's Shoes\" class=\"product-card__hero-image css-1fxh5tw\" height=\"100%\" loading=\"lazy\" sizes=\"\" src=\"data:image/gif;base64,R0lGODlhAQABAIAAAAAAAP///yH5BAEAAAAALAAAAAABAAEAAAIBRAA7\" srcset=\"\" width=\"100%\"/><noscript><img alt=\"Nike Dunk Low Retro Premium Men's Shoes\" class=\"product-card__hero-image css-1fxh5tw\" height=\"400\" loading=\"lazy\" width=\"400\"/></noscript></div></a><div class=\"product-card__info disable-animations for--product\"><div class=\"\"><div class=\"product-card__messaging accent--color\" data-testid=\"product-card__messaging\">Just In</div><div class=\"product-card__titles\"><div class=\"product-card__title\" id=\"Nike Dunk Low Retro Premium\" role=\"link\">Nike Dunk Low Retro Premium</div><div class=\"product-card__subtitle\" role=\"link\">Men's Shoes</div></div></div><div class=\"product-card__count-wrapper false false\" data-testid=\"product-card__count-wrapper \"><div class=\"product-card__count-item\"><button aria-expanded=\"false\" class=\"product-card__colorway-btn\" data-testid=\"product-card__colorway-btn\" type=\"button\"><div aria-label=\"Available in 2 Colors\" class=\"product-card__product-count\">2 Colors</div></button></div></div><div class=\"product-card__animation_wrapper\"><div class=\"product-card__price-wrapper\"><div class=\"product-card__price\" data-testid=\"product-card__price\" role=\"link\"><div class=\"product-price__wrapper css-9xqpgk\"><div class=\"product-price us__styling is--current-price css-11s12ax\" data-testid=\"product-price\" role=\"link\">$125</div></div></div></div></div></div></figure></div></div><div class=\"product-card product-grid__card css-1t0asop\" data-product-position=\"14\" data-testid=\"product-card\"><div class=\"product-card__body\" data-el-type=\"Card\" data-testid=\"product-card__body\"><figure><a class=\"product-card__link-overlay\" data-testid=\"product-card__link-overlay\" href=\"https://www.nike.com/t/air-max-270-mens-shoes-KkLcGR/AH8050-002\" tabindex=\"-1\">Nike Air Max 270</a><a aria-label=\"Nike Air Max 270\" class=\"product-card__img-link-overlay\" data-el-type=\"Hero\" data-testid=\"product-card__img-link-overlay\" href=\"https://www.nike.com/t/air-max-270-mens-shoes-KkLcGR/AH8050-002\"><div class=\"wall-image-loader css-1la3v4n\" data-testid=\"wall-image-loader\"><img alt=\"Nike Air Max 270 Men's Shoes\" class=\"product-card__hero-image css-1fxh5tw\" height=\"100%\" loading=\"lazy\" sizes=\"\" src=\"data:image/gif;base64,R0lGODlhAQABAIAAAAAAAP///yH5BAEAAAAALAAAAAABAAEAAAIBRAA7\" srcset=\"\" width=\"100%\"/><noscript><img alt=\"Nike Air Max 270 Men's Shoes\" class=\"product-card__hero-image css-1fxh5tw\" height=\"400\" loading=\"lazy\" width=\"400\"/></noscript></div></a><div class=\"product-card__info disable-animations\"><div class=\"\"><div class=\"product-card__titles\"><div class=\"product-card__title\" id=\"Nike Air Max 270\" role=\"link\">Nike Air Max 270</div><div class=\"product-card__subtitle\" role=\"link\">Men's Shoes</div></div></div><div class=\"product-card__count-wrapper false false\" data-testid=\"product-card__count-wrapper \"><div class=\"product-card__count-item\"><button aria-expanded=\"false\" class=\"product-card__colorway-btn\" data-testid=\"product-card__colorway-btn\" type=\"button\"><div aria-label=\"Available in 5 Colors\" class=\"product-card__product-count\">5 Colors</div></button></div></div><div class=\"product-card__animation_wrapper\"><div class=\"product-card__price-wrapper\"><div class=\"product-card__price\" data-testid=\"product-card__price\" role=\"link\"><div class=\"product-price__wrapper css-9xqpgk\"><div class=\"product-price us__styling is--current-price css-11s12ax\" data-testid=\"product-price\" role=\"link\">$160</div></div></div></div></div></div></figure></div></div><div class=\"product-card product-grid__card css-1t0asop\" data-product-position=\"15\" data-testid=\"product-card\"><div class=\"product-card__body\" data-el-type=\"Card\" data-testid=\"product-card__body\"><figure><a class=\"product-card__link-overlay\" data-testid=\"product-card__link-overlay\" href=\"https://www.nike.com/t/dunk-low-big-kids-shoes-5XZjcs/FV3653-191\" tabindex=\"-1\">Nike Dunk Low</a><a aria-label=\"Nike Dunk Low\" class=\"product-card__img-link-overlay\" data-el-type=\"Hero\" data-testid=\"product-card__img-link-overlay\" href=\"https://www.nike.com/t/dunk-low-big-kids-shoes-5XZjcs/FV3653-191\"><div class=\"wall-image-loader css-1la3v4n\" data-testid=\"wall-image-loader\"><img alt=\"Nike Dunk Low Big Kids' Shoes\" class=\"product-card__hero-image css-1fxh5tw\" height=\"100%\" loading=\"lazy\" sizes=\"\" src=\"data:image/gif;base64,R0lGODlhAQABAIAAAAAAAP///yH5BAEAAAAALAAAAAABAAEAAAIBRAA7\" srcset=\"\" width=\"100%\"/><noscript><img alt=\"Nike Dunk Low Big Kids' Shoes\" class=\"product-card__hero-image css-1fxh5tw\" height=\"400\" loading=\"lazy\" width=\"400\"/></noscript></div></a><div class=\"product-card__info disable-animations\"><div class=\"\"><div class=\"product-card__titles\"><div class=\"product-card__title\" id=\"Nike Dunk Low\" role=\"link\">Nike Dunk Low</div><div class=\"product-card__subtitle\" role=\"link\">Big Kids' Shoes</div></div></div><div class=\"product-card__count-wrapper false false\" data-testid=\"product-card__count-wrapper \"><div class=\"product-card__count-item\"><button aria-expanded=\"false\" class=\"product-card__colorway-btn\" data-testid=\"product-card__colorway-btn\" type=\"button\"><div aria-label=\"Available in 1 Color\" class=\"product-card__product-count\">1 Color</div></button></div></div><div class=\"product-card__animation_wrapper\"><div class=\"product-card__price-wrapper\"><div class=\"product-card__price\" data-testid=\"product-card__price\" role=\"link\"><div class=\"product-price__wrapper css-9xqpgk\"><div class=\"product-price us__styling is--current-price css-11s12ax\" data-testid=\"product-price\" role=\"link\">$95</div></div></div></div></div></div></figure></div></div><div class=\"product-card product-grid__card css-1t0asop\" data-product-position=\"16\" data-testid=\"product-card\"><div class=\"product-card__body\" data-el-type=\"Card\" data-testid=\"product-card__body\"><figure><a class=\"product-card__link-overlay\" data-testid=\"product-card__link-overlay\" href=\"https://www.nike.com/t/air-force-1-07-womens-shoes-PqdxJw/FD1448-664\" tabindex=\"-1\">Nike Air Force 1 '07</a><a aria-label=\"Nike Air Force 1 '07\" class=\"product-card__img-link-overlay\" data-el-type=\"Hero\" data-testid=\"product-card__img-link-overlay\" href=\"https://www.nike.com/t/air-force-1-07-womens-shoes-PqdxJw/FD1448-664\"><div class=\"wall-image-loader css-1la3v4n\" data-testid=\"wall-image-loader\"><img alt=\"Nike Air Force 1 '07 Women's Shoes\" class=\"product-card__hero-image css-1fxh5tw\" height=\"100%\" loading=\"lazy\" sizes=\"\" src=\"data:image/gif;base64,R0lGODlhAQABAIAAAAAAAP///yH5BAEAAAAALAAAAAABAAEAAAIBRAA7\" srcset=\"\" width=\"100%\"/><noscript><img alt=\"Nike Air Force 1 '07 Women's Shoes\" class=\"product-card__hero-image css-1fxh5tw\" height=\"400\" loading=\"lazy\" width=\"400\"/></noscript></div></a><div class=\"product-card__info disable-animations\"><div class=\"\"><div class=\"product-card__titles\"><div class=\"product-card__title\" id=\"Nike Air Force 1 '07\" role=\"link\">Nike Air Force 1 '07</div><div class=\"product-card__subtitle\" role=\"link\">Women's Shoes</div></div></div><div class=\"product-card__count-wrapper false false\" data-testid=\"product-card__count-wrapper \"><div class=\"product-card__count-item\"><button aria-expanded=\"false\" class=\"product-card__colorway-btn\" data-testid=\"product-card__colorway-btn\" type=\"button\"><div aria-label=\"Available in 6 Colors\" class=\"product-card__product-count\">6 Colors</div></button></div></div><div class=\"product-card__animation_wrapper\"><div class=\"product-card__price-wrapper\"><div class=\"product-card__price\" data-testid=\"product-card__price\" role=\"link\"><div class=\"product-price__wrapper css-9xqpgk\"><div class=\"product-price us__styling is--current-price css-11s12ax\" data-testid=\"product-price\" role=\"link\">$110</div></div></div></div></div></div></figure></div></div><div class=\"product-card product-grid__card css-1t0asop\" data-product-position=\"17\" data-testid=\"product-card\"><div class=\"product-card__body\" data-el-type=\"Card\" data-testid=\"product-card__body\"><figure><a class=\"product-card__link-overlay\" data-testid=\"product-card__link-overlay\" href=\"https://www.nike.com/t/air-jordan-4-craft-olive-mens-shoes-GmXFz0/FB9927-200\" tabindex=\"-1\">Air Jordan 4 Craft \"Olive\"</a><a aria-label='Air Jordan 4 Craft \"Olive\"' class=\"product-card__img-link-overlay\" data-el-type=\"Hero\" data-testid=\"product-card__img-link-overlay\" href=\"https://www.nike.com/t/air-jordan-4-craft-olive-mens-shoes-GmXFz0/FB9927-200\"><div class=\"wall-image-loader css-1la3v4n\" data-testid=\"wall-image-loader\"><img alt=\"Air Jordan 4 Craft &quot;Olive&quot; Men's Shoes\" class=\"product-card__hero-image css-1fxh5tw\" height=\"100%\" loading=\"lazy\" sizes=\"\" src=\"data:image/gif;base64,R0lGODlhAQABAIAAAAAAAP///yH5BAEAAAAALAAAAAABAAEAAAIBRAA7\" srcset=\"\" width=\"100%\"/><noscript><img alt=\"Air Jordan 4 Craft &quot;Olive&quot; Men's Shoes\" class=\"product-card__hero-image css-1fxh5tw\" height=\"400\" loading=\"lazy\" width=\"400\"/></noscript></div></a><div class=\"product-card__info disable-animations for--product\"><div class=\"\"><div class=\"product-card__messaging accent--color\" data-testid=\"product-card__messaging\">Best Seller</div><div class=\"product-card__titles\"><div class=\"product-card__title\" id='Air Jordan 4 Craft \"Olive\"' role=\"link\">Air Jordan 4 Craft \"Olive\"</div><div class=\"product-card__subtitle\" role=\"link\">Men's Shoes</div></div></div><div class=\"product-card__count-wrapper false false\" data-testid=\"product-card__count-wrapper \"><div class=\"product-card__count-item\"><button aria-expanded=\"false\" class=\"product-card__colorway-btn\" data-testid=\"product-card__colorway-btn\" type=\"button\"><div aria-label=\"Available in 1 Color\" class=\"product-card__product-count\">1 Color</div></button></div></div><div class=\"product-card__animation_wrapper\"><div class=\"product-card__price-wrapper\"><div class=\"product-card__price\" data-testid=\"product-card__price\" role=\"link\"><div class=\"product-price__wrapper css-9xqpgk\"><div class=\"product-price us__styling is--current-price css-11s12ax\" data-testid=\"product-price\" role=\"link\">$210</div></div></div></div></div></div></figure></div></div><div class=\"product-card product-grid__card css-1t0asop\" data-product-position=\"18\" data-testid=\"product-card\"><div class=\"product-card__body\" data-el-type=\"Card\" data-testid=\"product-card__body\"><figure><a class=\"product-card__link-overlay\" data-testid=\"product-card__link-overlay\" href=\"https://www.nike.com/t/blazer-mid-77-vintage-mens-shoes-nw30B2/BQ6806-100\" tabindex=\"-1\">Nike Blazer Mid '77 Vintage</a><a aria-label=\"Nike Blazer Mid '77 Vintage\" class=\"product-card__img-link-overlay\" data-el-type=\"Hero\" data-testid=\"product-card__img-link-overlay\" href=\"https://www.nike.com/t/blazer-mid-77-vintage-mens-shoes-nw30B2/BQ6806-100\"><div class=\"wall-image-loader css-1la3v4n\" data-testid=\"wall-image-loader\"><img alt=\"Nike Blazer Mid '77 Vintage Men's Shoes\" class=\"product-card__hero-image css-1fxh5tw\" height=\"100%\" loading=\"lazy\" sizes=\"\" src=\"data:image/gif;base64,R0lGODlhAQABAIAAAAAAAP///yH5BAEAAAAALAAAAAABAAEAAAIBRAA7\" srcset=\"\" width=\"100%\"/><noscript><img alt=\"Nike Blazer Mid '77 Vintage Men's Shoes\" class=\"product-card__hero-image css-1fxh5tw\" height=\"400\" loading=\"lazy\" width=\"400\"/></noscript></div></a><div class=\"product-card__info disable-animations\"><div class=\"\"><div class=\"product-card__titles\"><div class=\"product-card__title\" id=\"Nike Blazer Mid '77 Vintage\" role=\"link\">Nike Blazer Mid '77 Vintage</div><div class=\"product-card__subtitle\" role=\"link\">Men's Shoes</div></div></div><div class=\"product-card__count-wrapper false false\" data-testid=\"product-card__count-wrapper \"><div class=\"product-card__count-item\"><button aria-expanded=\"false\" class=\"product-card__colorway-btn\" data-testid=\"product-card__colorway-btn\" type=\"button\"><div aria-label=\"Available in 7 Colors\" class=\"product-card__product-count\">7 Colors</div></button></div></div><div class=\"product-card__animation_wrapper\"><div class=\"product-card__price-wrapper\"><div class=\"product-card__price\" data-testid=\"product-card__price\" role=\"link\"><div class=\"product-price__wrapper css-9xqpgk\"><div class=\"product-price us__styling is--current-price css-11s12ax\" data-testid=\"product-price\" role=\"link\">$105</div></div></div></div></div></div></figure></div></div><div class=\"product-card product-grid__card css-1t0asop\" data-product-position=\"19\" data-testid=\"product-card\"><div class=\"product-card__body\" data-el-type=\"Card\" data-testid=\"product-card__body\"><figure><a class=\"product-card__link-overlay\" data-testid=\"product-card__link-overlay\" href=\"https://www.nike.com/t/air-jordan-4-retro-se-craft-big-kids-shoes-fs3w1b/FB9928-200\" tabindex=\"-1\">Air Jordan 4 Retro SE Craft</a><a aria-label=\"Air Jordan 4 Retro SE Craft\" class=\"product-card__img-link-overlay\" data-el-type=\"Hero\" data-testid=\"product-card__img-link-overlay\" href=\"https://www.nike.com/t/air-jordan-4-retro-se-craft-big-kids-shoes-fs3w1b/FB9928-200\"><div class=\"wall-image-loader css-1la3v4n\" data-testid=\"wall-image-loader\"><img alt=\"Air Jordan 4 Retro SE Craft Big Kids' Shoes\" class=\"product-card__hero-image css-1fxh5tw\" height=\"100%\" loading=\"lazy\" sizes=\"\" src=\"data:image/gif;base64,R0lGODlhAQABAIAAAAAAAP///yH5BAEAAAAALAAAAAABAAEAAAIBRAA7\" srcset=\"\" width=\"100%\"/><noscript><img alt=\"Air Jordan 4 Retro SE Craft Big Kids' Shoes\" class=\"product-card__hero-image css-1fxh5tw\" height=\"400\" loading=\"lazy\" width=\"400\"/></noscript></div></a><div class=\"product-card__info disable-animations for--product\"><div class=\"\"><div class=\"product-card__messaging accent--color\" data-testid=\"product-card__messaging\">Best Seller</div><div class=\"product-card__titles\"><div class=\"product-card__title\" id=\"Air Jordan 4 Retro SE Craft\" role=\"link\">Air Jordan 4 Retro SE Craft</div><div class=\"product-card__subtitle\" role=\"link\">Big Kids' Shoes</div></div></div><div class=\"product-card__count-wrapper false false\" data-testid=\"product-card__count-wrapper \"><div class=\"product-card__count-item\"><button aria-expanded=\"false\" class=\"product-card__colorway-btn\" data-testid=\"product-card__colorway-btn\" type=\"button\"><div aria-label=\"Available in 1 Color\" class=\"product-card__product-count\">1 Color</div></button></div></div><div class=\"product-card__animation_wrapper\"><div class=\"product-card__price-wrapper\"><div class=\"product-card__price\" data-testid=\"product-card__price\" role=\"link\"><div class=\"product-price__wrapper css-9xqpgk\"><div class=\"product-price us__styling is--current-price css-11s12ax\" data-testid=\"product-price\" role=\"link\">$160</div></div></div></div></div></div></figure></div></div><div class=\"product-card product-grid__card css-1t0asop\" data-product-position=\"20\" data-testid=\"product-card\"><div class=\"product-card__body\" data-el-type=\"Card\" data-testid=\"product-card__body\"><figure><a class=\"product-card__link-overlay\" data-testid=\"product-card__link-overlay\" href=\"https://www.nike.com/t/jordan-4-retro-se-craft-little-kids-shoes-htFDcz/FB9929-200\" tabindex=\"-1\">Jordan 4 Retro SE Craft</a><a aria-label=\"Jordan 4 Retro SE Craft\" class=\"product-card__img-link-overlay\" data-el-type=\"Hero\" data-testid=\"product-card__img-link-overlay\" href=\"https://www.nike.com/t/jordan-4-retro-se-craft-little-kids-shoes-htFDcz/FB9929-200\"><div class=\"wall-image-loader css-1la3v4n\" data-testid=\"wall-image-loader\"><img alt=\"Jordan 4 Retro SE Craft Little Kids' Shoes\" class=\"product-card__hero-image css-1fxh5tw\" height=\"100%\" loading=\"lazy\" sizes=\"\" src=\"data:image/gif;base64,R0lGODlhAQABAIAAAAAAAP///yH5BAEAAAAALAAAAAABAAEAAAIBRAA7\" srcset=\"\" width=\"100%\"/><noscript><img alt=\"Jordan 4 Retro SE Craft Little Kids' Shoes\" class=\"product-card__hero-image css-1fxh5tw\" height=\"400\" loading=\"lazy\" width=\"400\"/></noscript></div></a><div class=\"product-card__info disable-animations\"><div class=\"\"><div class=\"product-card__titles\"><div class=\"product-card__title\" id=\"Jordan 4 Retro SE Craft\" role=\"link\">Jordan 4 Retro SE Craft</div><div class=\"product-card__subtitle\" role=\"link\">Little Kids' Shoes</div></div></div><div class=\"product-card__count-wrapper false false\" data-testid=\"product-card__count-wrapper \"><div class=\"product-card__count-item\"><button aria-expanded=\"false\" class=\"product-card__colorway-btn\" data-testid=\"product-card__colorway-btn\" type=\"button\"><div aria-label=\"Available in 1 Color\" class=\"product-card__product-count\">1 Color</div></button></div></div><div class=\"product-card__animation_wrapper\"><div class=\"product-card__price-wrapper\"><div class=\"product-card__price\" data-testid=\"product-card__price\" role=\"link\"><div class=\"product-price__wrapper css-9xqpgk\"><div class=\"product-price us__styling is--current-price css-11s12ax\" data-testid=\"product-price\" role=\"link\">$100</div></div></div></div></div></div></figure></div></div><div class=\"product-card product-grid__card css-1t0asop\" data-product-position=\"21\" data-testid=\"product-card\"><div class=\"product-card__body\" data-el-type=\"Card\" data-testid=\"product-card__body\"><figure><a class=\"product-card__link-overlay\" data-testid=\"product-card__link-overlay\" href=\"https://www.nike.com/t/air-force-1-07-womens-shoes-b19lqD/DD8959-100\" tabindex=\"-1\">Nike Air Force 1 '07</a><a aria-label=\"Nike Air Force 1 '07\" class=\"product-card__img-link-overlay\" data-el-type=\"Hero\" data-testid=\"product-card__img-link-overlay\" href=\"https://www.nike.com/t/air-force-1-07-womens-shoes-b19lqD/DD8959-100\"><div class=\"wall-image-loader css-1la3v4n\" data-testid=\"wall-image-loader\"><img alt=\"Nike Air Force 1 '07 Women's Shoes\" class=\"product-card__hero-image css-1fxh5tw\" height=\"100%\" loading=\"lazy\" sizes=\"\" src=\"data:image/gif;base64,R0lGODlhAQABAIAAAAAAAP///yH5BAEAAAAALAAAAAABAAEAAAIBRAA7\" srcset=\"\" width=\"100%\"/><noscript><img alt=\"Nike Air Force 1 '07 Women's Shoes\" class=\"product-card__hero-image css-1fxh5tw\" height=\"400\" loading=\"lazy\" width=\"400\"/></noscript></div></a><div class=\"product-card__info disable-animations for--product\"><div class=\"\"><div class=\"product-card__messaging accent--color\" data-testid=\"product-card__messaging\">Best Seller</div><div class=\"product-card__titles\"><div class=\"product-card__title\" id=\"Nike Air Force 1 '07\" role=\"link\">Nike Air Force 1 '07</div><div class=\"product-card__subtitle\" role=\"link\">Women's Shoes</div></div></div><div class=\"product-card__count-wrapper false false\" data-testid=\"product-card__count-wrapper \"><div class=\"product-card__count-item\"><button aria-expanded=\"false\" class=\"product-card__colorway-btn\" data-testid=\"product-card__colorway-btn\" type=\"button\"><div aria-label=\"Available in 5 Colors\" class=\"product-card__product-count\">5 Colors</div></button></div></div><div class=\"product-card__animation_wrapper\"><div class=\"product-card__price-wrapper\"><div class=\"product-card__price\" data-testid=\"product-card__price\" role=\"link\"><div class=\"product-price__wrapper css-9xqpgk\"><div class=\"product-price us__styling is--current-price css-11s12ax\" data-testid=\"product-price\" role=\"link\">$115</div></div></div></div></div></div></figure></div></div><div class=\"product-card product-grid__card css-1t0asop\" data-product-position=\"22\" data-testid=\"product-card\"><div class=\"product-card__body\" data-el-type=\"Card\" data-testid=\"product-card__body\"><figure><a class=\"product-card__link-overlay\" data-testid=\"product-card__link-overlay\" href=\"https://www.nike.com/t/air-jordan-1-mid-big-kids-shoes-H5qqbF/DQ8423-511\" tabindex=\"-1\">Air Jordan 1 Mid</a><a aria-label=\"Air Jordan 1 Mid\" class=\"product-card__img-link-overlay\" data-el-type=\"Hero\" data-testid=\"product-card__img-link-overlay\" href=\"https://www.nike.com/t/air-jordan-1-mid-big-kids-shoes-H5qqbF/DQ8423-511\"><div class=\"wall-image-loader css-1la3v4n\" data-testid=\"wall-image-loader\"><img alt=\"Air Jordan 1 Mid Big Kids' Shoes\" class=\"product-card__hero-image css-1fxh5tw\" height=\"100%\" loading=\"lazy\" sizes=\"\" src=\"data:image/gif;base64,R0lGODlhAQABAIAAAAAAAP///yH5BAEAAAAALAAAAAABAAEAAAIBRAA7\" srcset=\"\" width=\"100%\"/><noscript><img alt=\"Air Jordan 1 Mid Big Kids' Shoes\" class=\"product-card__hero-image css-1fxh5tw\" height=\"400\" loading=\"lazy\" width=\"400\"/></noscript></div></a><div class=\"product-card__info disable-animations for--product\"><div class=\"\"><div class=\"product-card__messaging accent--color\" data-testid=\"product-card__messaging\">Best Seller</div><div class=\"product-card__titles\"><div class=\"product-card__title\" id=\"Air Jordan 1 Mid\" role=\"link\">Air Jordan 1 Mid</div><div class=\"product-card__subtitle\" role=\"link\">Big Kids' Shoes</div></div></div><div class=\"product-card__count-wrapper false false\" data-testid=\"product-card__count-wrapper \"><div class=\"product-card__count-item\"><button aria-expanded=\"false\" class=\"product-card__colorway-btn\" data-testid=\"product-card__colorway-btn\" type=\"button\"><div aria-label=\"Available in 8 Colors\" class=\"product-card__product-count\">8 Colors</div></button></div></div><div class=\"product-card__animation_wrapper\"><div class=\"product-card__price-wrapper\"><div class=\"product-card__price\" data-testid=\"product-card__price\" role=\"link\"><div class=\"product-price__wrapper css-9xqpgk\"><div class=\"product-price us__styling is--current-price css-11s12ax\" data-testid=\"product-price\" role=\"link\">$110</div></div></div></div></div></div></figure></div></div><div class=\"product-card product-grid__card css-1t0asop\" data-product-position=\"23\" data-testid=\"product-card\"><div class=\"product-card__body\" data-el-type=\"Card\" data-testid=\"product-card__body\"><figure><a class=\"product-card__link-overlay\" data-testid=\"product-card__link-overlay\" href=\"https://www.nike.com/t/air-max-90-mens-shoes-6n3vKB/CN8490-002\" tabindex=\"-1\">Nike Air Max 90</a><a aria-label=\"Nike Air Max 90\" class=\"product-card__img-link-overlay\" data-el-type=\"Hero\" data-testid=\"product-card__img-link-overlay\" href=\"https://www.nike.com/t/air-max-90-mens-shoes-6n3vKB/CN8490-002\"><div class=\"wall-image-loader css-1la3v4n\" data-testid=\"wall-image-loader\"><img alt=\"Nike Air Max 90 Men's Shoes\" class=\"product-card__hero-image css-1fxh5tw\" height=\"100%\" loading=\"lazy\" sizes=\"\" src=\"data:image/gif;base64,R0lGODlhAQABAIAAAAAAAP///yH5BAEAAAAALAAAAAABAAEAAAIBRAA7\" srcset=\"\" width=\"100%\"/><noscript><img alt=\"Nike Air Max 90 Men's Shoes\" class=\"product-card__hero-image css-1fxh5tw\" height=\"400\" loading=\"lazy\" width=\"400\"/></noscript></div></a><div class=\"product-card__info disable-animations for--product\"><div class=\"\"><div class=\"product-card__messaging accent--color\" data-testid=\"product-card__messaging\">Best Seller</div><div class=\"product-card__titles\"><div class=\"product-card__title\" id=\"Nike Air Max 90\" role=\"link\">Nike Air Max 90</div><div class=\"product-card__subtitle\" role=\"link\">Men's Shoes</div></div></div><div class=\"product-card__count-wrapper false false\" data-testid=\"product-card__count-wrapper \"><div class=\"product-card__count-item\"><button aria-expanded=\"false\" class=\"product-card__colorway-btn\" data-testid=\"product-card__colorway-btn\" type=\"button\"><div aria-label=\"Available in 4 Colors\" class=\"product-card__product-count\">4 Colors</div></button></div></div><div class=\"product-card__animation_wrapper\"><div class=\"product-card__price-wrapper\"><div class=\"product-card__price\" data-testid=\"product-card__price\" role=\"link\"><div class=\"product-price__wrapper css-9xqpgk\"><div class=\"product-price us__styling is--current-price css-11s12ax\" data-testid=\"product-price\" role=\"link\">$130</div></div></div></div></div></div></figure></div></div><div class=\"product-card product-grid__card css-1t0asop\" data-product-position=\"24\" data-testid=\"product-card\"><div class=\"product-card__body\" data-el-type=\"Card\" data-testid=\"product-card__body\"><figure><a class=\"product-card__link-overlay\" data-testid=\"product-card__link-overlay\" href=\"https://www.nike.com/t/air-force-1-07-premium-womens-shoes-CrFc5p/DZ2786-400\" tabindex=\"-1\">Nike Air Force 1 '07 Premium</a><a aria-label=\"Nike Air Force 1 '07 Premium\" class=\"product-card__img-link-overlay\" data-el-type=\"Hero\" data-testid=\"product-card__img-link-overlay\" href=\"https://www.nike.com/t/air-force-1-07-premium-womens-shoes-CrFc5p/DZ2786-400\"><div class=\"wall-image-loader css-1la3v4n\" data-testid=\"wall-image-loader\"><img alt=\"Nike Air Force 1 '07 Premium Women's Shoes\" class=\"product-card__hero-image css-1fxh5tw\" height=\"100%\" loading=\"lazy\" sizes=\"\" src=\"data:image/gif;base64,R0lGODlhAQABAIAAAAAAAP///yH5BAEAAAAALAAAAAABAAEAAAIBRAA7\" srcset=\"\" width=\"100%\"/><noscript><img alt=\"Nike Air Force 1 '07 Premium Women's Shoes\" class=\"product-card__hero-image css-1fxh5tw\" height=\"400\" loading=\"lazy\" width=\"400\"/></noscript></div></a><div class=\"product-card__info disable-animations\"><div class=\"\"><div class=\"product-card__titles\"><div class=\"product-card__title\" id=\"Nike Air Force 1 '07 Premium\" role=\"link\">Nike Air Force 1 '07 Premium</div><div class=\"product-card__subtitle\" role=\"link\">Women's Shoes</div></div></div><div class=\"product-card__count-wrapper false false\" data-testid=\"product-card__count-wrapper \"><div class=\"product-card__count-item\"><button aria-expanded=\"false\" class=\"product-card__colorway-btn\" data-testid=\"product-card__colorway-btn\" type=\"button\"><div aria-label=\"Available in 3 Colors\" class=\"product-card__product-count\">3 Colors</div></button></div></div><div class=\"product-card__animation_wrapper\"><div class=\"product-card__price-wrapper\"><div class=\"product-card__price\" data-testid=\"product-card__price\" role=\"link\"><div aria-label=\"current price $110.97, original price $130\" class=\"product-price__wrapper css-9xqpgk\"><div aria-hidden=\"true\" class=\"product-price is--current-price css-1ydfahe\" data-testid=\"product-price-reduced\" role=\"link\">$110.97</div><div aria-hidden=\"true\" class=\"product-price us__styling is--striked-out css-0\" data-testid=\"product-price\" role=\"link\">$130</div></div></div></div></div></div></figure></div></div><div class=\"product-card product-grid__card css-1t0asop\" data-product-position=\"25\" data-testid=\"product-card\"><div class=\"product-card__body\" data-el-type=\"Card\" data-testid=\"product-card__body\"><figure><a class=\"product-card__link-overlay\" data-testid=\"product-card__link-overlay\" href=\"https://www.nike.com/t/dunk-low-womens-shoes-0lZ7gG/DD1503-118\" tabindex=\"-1\">Nike Dunk Low</a><a aria-label=\"Nike Dunk Low\" class=\"product-card__img-link-overlay\" data-el-type=\"Hero\" data-testid=\"product-card__img-link-overlay\" href=\"https://www.nike.com/t/dunk-low-womens-shoes-0lZ7gG/DD1503-118\"><div class=\"wall-image-loader css-1la3v4n\" data-testid=\"wall-image-loader\"><img alt=\"Nike Dunk Low Women's Shoes\" class=\"product-card__hero-image css-1fxh5tw\" height=\"100%\" loading=\"lazy\" sizes=\"\" src=\"data:image/gif;base64,R0lGODlhAQABAIAAAAAAAP///yH5BAEAAAAALAAAAAABAAEAAAIBRAA7\" srcset=\"\" width=\"100%\"/><noscript><img alt=\"Nike Dunk Low Women's Shoes\" class=\"product-card__hero-image css-1fxh5tw\" height=\"400\" loading=\"lazy\" width=\"400\"/></noscript></div></a><div class=\"product-card__info disable-animations\"><div class=\"\"><div class=\"product-card__titles\"><div class=\"product-card__title\" id=\"Nike Dunk Low\" role=\"link\">Nike Dunk Low</div><div class=\"product-card__subtitle\" role=\"link\">Women's Shoes</div></div></div><div class=\"product-card__count-wrapper false false\" data-testid=\"product-card__count-wrapper \"><div class=\"product-card__count-item\"><button aria-expanded=\"false\" class=\"product-card__colorway-btn\" data-testid=\"product-card__colorway-btn\" type=\"button\"><div aria-label=\"Available in 1 Color\" class=\"product-card__product-count\">1 Color</div></button></div></div><div class=\"product-card__animation_wrapper\"><div class=\"product-card__price-wrapper\"><div class=\"product-card__price\" data-testid=\"product-card__price\" role=\"link\"><div class=\"product-price__wrapper css-9xqpgk\"><div class=\"product-price us__styling is--current-price css-11s12ax\" data-testid=\"product-price\" role=\"link\">$115</div></div></div></div></div></div></figure></div></div><span style=\"font-size:0\"></span><div class=\"loader-bar css-19k7nfv\"><div class=\"loader-overlay is--visible css-1s2k3od\"><div class=\"css-wtrpap\"></div></div></div></div></section><div class=\"related_categories css-1es9ksa\"><span class=\"related_categories__title css-10ehrho\">Related Categories</span><ul class=\"related_categories__category_list\"><li class=\"related_categories__list_item css-18cy6ip\"><a class=\"related_categories__link css-17dcp9j\" href=\"https://www.nike.com/w/new-shoes-3n82yzy7ok\">New Shoes</a></li><li class=\"related_categories__list_item css-18cy6ip\"><a class=\"related_categories__link css-17dcp9j\" href=\"https://www.nike.com/w/best-shoes-76m50zy7ok\">Best Shoes</a></li><li class=\"related_categories__list_item css-18cy6ip\"><a class=\"related_categories__link css-17dcp9j\" href=\"https://www.nike.com/w/sale-shoes-3yaepzy7ok\">Sale Shoes</a></li><li class=\"related_categories__list_item css-18cy6ip\"><a class=\"related_categories__link css-17dcp9j\" href=\"https://www.nike.com/w/football-shoes-3hj8mzy7ok\">Football Cleats &amp; Shoes</a></li><li class=\"related_categories__list_item css-18cy6ip\"><a class=\"related_categories__link css-17dcp9j\" href=\"https://www.nike.com/w/mens-sale-training-gym-shoes-3yaepz58jtoznik1zy7ok\">Men's Sale Training &amp; Gym Shoes</a></li><li class=\"related_categories__list_item css-18cy6ip\"><a class=\"related_categories__link css-17dcp9j\" href=\"https://www.nike.com/w/joggers-sweatpants-aepf0\">Joggers &amp; Sweatpants</a></li><li class=\"related_categories__list_item css-18cy6ip\"><a class=\"related_categories__link css-17dcp9j\" href=\"https://www.nike.com/w/running-clothing-37v7jz6ymx6\">Running Clothing</a></li><li class=\"related_categories__list_item css-18cy6ip\"><a class=\"related_categories__link css-17dcp9j\" href=\"https://www.nike.com/w/mens-training-gym-clothing-58jtoz6ymx6znik1\">Men's Training &amp; Gym Clothing</a></li><li class=\"related_categories__list_item css-18cy6ip\"><a class=\"related_categories__link css-17dcp9j\" href=\"https://www.nike.com/w/womens-training-gym-clothing-58jtoz5e1x6z6ymx6\">Workout Clothes for Women</a></li><li class=\"related_categories__list_item css-18cy6ip\"><a class=\"related_categories__link css-17dcp9j\" href=\"https://www.nike.com/w/tops-t-shirts-9om13\">Tops &amp; T-Shirts</a></li></ul></div><div class=\"related_content css-132tjh6\"><section class=\"nds-carousel navigation-mode-buttonAbove grid-aligned css-1sfna0m e1qnw47h0\"><div class=\"nds-box carousel-header css-123ywbb e1iu6vho0\"><span class=\"carousel-title\" id=\"carousel-title-id-0.2207565896913921\">Related Stories</span><div class=\"nav-btn-wrapper\"><button aria-hidden=\"true\" class=\"carousel-btn prev-btn\" tabindex=\"-1\"><div class=\"icon\"><svg aria-hidden=\"true\" fill=\"none\" focusable=\"false\" height=\"24px\" role=\"img\" viewbox=\"0 0 24 24\" width=\"24px\"><path d=\"M15.525 18.966L8.558 12l6.967-6.967\" stroke=\"currentColor\" stroke-width=\"1.5\"></path></svg></div></button><button aria-hidden=\"true\" class=\"carousel-btn next-btn\" tabindex=\"-1\"><div class=\"icon\"><svg aria-hidden=\"true\" fill=\"none\" focusable=\"false\" height=\"24px\" role=\"img\" viewbox=\"0 0 24 24\" width=\"24px\"><path d=\"M8.474 18.966L15.44 12 8.474 5.033\" stroke=\"currentColor\" stroke-width=\"1.5\"></path></svg></div></button></div></div><ul aria-labelledby=\"carousel-title-id-0.2207565896913921\" class=\"slider\"><li class=\"slide item-0 active first\" data-index=\"0\" index=\"0\" slidecount=\"10\" slidenumber=\"1\"><a aria-label=\"The 4 Best Work Shoes by Nike\" data-article-type=\"Buying Guide\" href=\"https://www.nike.com/a/best-work-sneakers\"><img alt=\"The 4 Best Work Shoes by Nike\" src=\"https://static.nike.com/a/images/w_1920,c_limit/fc4b3fbb-01ab-4011-ab49-3cfaf6c4ef16/the-4-best-work-sneakers-by-nike.jpg\"/></a><div class=\"related_content__topic\">Buying Guide</div><a aria-label=\"The 4 Best Work Shoes by Nike\" data-article-type=\"Buying Guide\" href=\"https://www.nike.com/a/best-work-sneakers\"><div>The 4 Best Work Shoes by Nike</div></a></li><li class=\"slide item-1\" data-index=\"1\" index=\"1\" slidecount=\"10\" slidenumber=\"2\"><a aria-label=\"What To Wear to the Airport: 7 Travel Outfit Essentials \" data-article-type=\"Styling Tips\" href=\"https://www.nike.com/a/travel-airport-outfit-ideas\"><img alt=\"What To Wear to the Airport: 7 Travel Outfit Essentials \" src=\"https://static.nike.com/a/images/w_1920,c_limit/ce66792b-3fee-4eed-9c1d-3039e0060a83/what-to-wear-to-the-airport-7-travel-outfit-ideas.jpg\"/></a><div class=\"related_content__topic\">Styling Tips</div><a aria-label=\"What To Wear to the Airport: 7 Travel Outfit Essentials \" data-article-type=\"Styling Tips\" href=\"https://www.nike.com/a/travel-airport-outfit-ideas\"><div>What To Wear to the Airport: 7 Travel Outfit Essentials </div></a></li><li class=\"slide item-2\" data-index=\"2\" index=\"2\" slidecount=\"10\" slidenumber=\"3\"><a aria-label=\"The Best Gift Ideas, According to Nike Well Collective Trainers\" data-article-type=\"Buying Guide\" href=\"https://www.nike.com/a/gift-ideas\"><img alt=\"The Best Gift Ideas, According to Nike Well Collective Trainers\" src=\"https://static.nike.com/a/images/w_1920,c_limit/e97def84-bd4f-4853-86fe-be5cb2fe0bde/the-best-nike-gift-ideas.jpg\"/></a><div class=\"related_content__topic\">Buying Guide</div><a aria-label=\"The Best Gift Ideas, According to Nike Well Collective Trainers\" data-article-type=\"Buying Guide\" href=\"https://www.nike.com/a/gift-ideas\"><div>The Best Gift Ideas, According to Nike Well Collective Trainers</div></a></li><li class=\"slide item-3\" data-index=\"3\" index=\"3\" slidecount=\"10\" slidenumber=\"4\"><a aria-label=\"7 Best Nike Gift Ideas for Runners\" data-article-type=\"Buying Guide\" href=\"https://www.nike.com/a/best-gifts-for-runners\"><img alt=\"7 Best Nike Gift Ideas for Runners\" src=\"https://static.nike.com/a/images/w_1920,c_limit/e78f5de3-4164-48d8-a689-8b002889941d/nike%E2%80%99s-11-best-gift-ideas-for-runners.jpg\"/></a><div class=\"related_content__topic\">Buying Guide</div><a aria-label=\"7 Best Nike Gift Ideas for Runners\" data-article-type=\"Buying Guide\" href=\"https://www.nike.com/a/best-gifts-for-runners\"><div>7 Best Nike Gift Ideas for Runners</div></a></li><li class=\"slide item-4\" data-index=\"4\" index=\"4\" slidecount=\"10\" slidenumber=\"5\"><a aria-label=\"20 Expert-Approved Ideas for Storing Shoes\" data-article-type=\"Product Care\" href=\"https://www.nike.com/a/how-to-store-shoes\"><img alt=\"20 Expert-Approved Ideas for Storing Shoes\" src=\"https://static.nike.com/a/images/w_1920,c_limit/9a0132dd-fed6-4eab-bad3-5a6a9fd3cef4/how-to-store-shoes.jpg\"/></a><div class=\"related_content__topic\">Product Care</div><a aria-label=\"20 Expert-Approved Ideas for Storing Shoes\" data-article-type=\"Product Care\" href=\"https://www.nike.com/a/how-to-store-shoes\"><div>20 Expert-Approved Ideas for Storing Shoes</div></a></li><li class=\"slide item-5\" data-index=\"5\" index=\"5\" slidecount=\"10\" slidenumber=\"6\"><a aria-label=\"Nike Releases the Kobe 8 in Memory of the Basketball Superstar\" data-article-type=\"Product News\" href=\"https://www.nike.com/a/nike-kobe-8-protro-halo-release\"><img alt=\"Nike Releases the Kobe 8 in Memory of the Basketball Superstar\" src=\"https://static.nike.com/a/images/w_1920,c_limit/9e0edb30-c077-4328-9704-aed2967acc3a/nike-releases-the-kobe-8-in-memory-of-the-basketball-superstar.jpg\"/></a><div class=\"related_content__topic\">Product News</div><a aria-label=\"Nike Releases the Kobe 8 in Memory of the Basketball Superstar\" data-article-type=\"Product News\" href=\"https://www.nike.com/a/nike-kobe-8-protro-halo-release\"><div>Nike Releases the Kobe 8 in Memory of the Basketball Superstar</div></a></li><li class=\"slide item-6\" data-index=\"6\" index=\"6\" slidecount=\"10\" slidenumber=\"7\"><a aria-label=\"What To Wear in the Rain\" data-article-type=\"Styling Tips \" href=\"https://www.nike.com/a/rainy-day-outfit-ideas\"><img alt=\"What To Wear in the Rain\" src=\"https://static.nike.com/a/images/w_1920,c_limit/b2b12514-cc01-4cb9-95b2-9d655ba54a15/7-rainy-day-outfits-by-nike-to-shop-now.jpg\"/></a><div class=\"related_content__topic\">Styling Tips </div><a aria-label=\"What To Wear in the Rain\" data-article-type=\"Styling Tips \" href=\"https://www.nike.com/a/rainy-day-outfit-ideas\"><div>What To Wear in the Rain</div></a></li><li class=\"slide item-7\" data-index=\"7\" index=\"7\" slidecount=\"10\" slidenumber=\"8\"><a aria-label=\"Nike Debuts Sabrina Ionescu Partnership with New Apparel Collection and Footwear\" data-article-type=\"Product News\" href=\"https://www.nike.com/a/sabrina-ionescu-1-release-info\"><img alt=\"Nike Debuts Sabrina Ionescu Partnership with New Apparel Collection and Footwear\" src=\"https://static.nike.com/a/images/w_1920,c_limit/aaa89f57-78f0-4020-9c21-7f6cad23468a/nike-debuts-sabrina-ionescu-partnership-with-new-apparel-collection-and-footwear.jpg\"/></a><div class=\"related_content__topic\">Product News</div><a aria-label=\"Nike Debuts Sabrina Ionescu Partnership with New Apparel Collection and Footwear\" data-article-type=\"Product News\" href=\"https://www.nike.com/a/sabrina-ionescu-1-release-info\"><div>Nike Debuts Sabrina Ionescu Partnership with New Apparel Collection and Footwear</div></a></li><li class=\"slide item-8\" data-index=\"8\" index=\"8\" slidecount=\"10\" slidenumber=\"9\"><a aria-label=\"What To Wear to the Gym: 5 Outfit Essentials\" data-article-type=\"Styling Tips\" href=\"https://www.nike.com/a/what-to-wear-to-gym\"><img alt=\"What To Wear to the Gym: 5 Outfit Essentials\" src=\"https://static.nike.com/a/images/w_1920,c_limit/fea76445-ebc1-4492-b2cb-a6c8ec3a225e/what-to-wear-to-the-gym-5-outfit-essentials.jpg\"/></a><div class=\"related_content__topic\">Styling Tips</div><a aria-label=\"What To Wear to the Gym: 5 Outfit Essentials\" data-article-type=\"Styling Tips\" href=\"https://www.nike.com/a/what-to-wear-to-gym\"><div>What To Wear to the Gym: 5 Outfit Essentials</div></a></li><li class=\"slide item-9 last\" data-index=\"9\" index=\"9\" slidecount=\"10\" slidenumber=\"10\"><a aria-label=\"The Best Leggings for Running by Nike\" data-article-type=\"Buying Guide\" href=\"https://www.nike.com/a/best-leggings-for-running\"><img alt=\"The Best Leggings for Running by Nike\" src=\"https://static.nike.com/a/images/w_1920,c_limit/22606e55-c20f-4f2d-9589-43927ed49c8e/the-best-leggings-for-running-by-nike.jpg\"/></a><div class=\"related_content__topic\">Buying Guide</div><a aria-label=\"The Best Leggings for Running by Nike\" data-article-type=\"Buying Guide\" href=\"https://www.nike.com/a/best-leggings-for-running\"><div>The Best Leggings for Running by Nike</div></a></li><li aria-hidden=\"true\" class=\"buffer\"></li></ul></section></div></main><div class=\"loader-overlay css-15o025v\"></div></div>]"
      ]
     },
     "execution_count": 15,
     "metadata": {},
     "output_type": "execute_result"
    }
   ],
   "source": [
    "shoe_elements = soup.find_all('div', class_='product-grid')\n",
    "shoe_elements"
   ]
  },
  {
   "cell_type": "code",
   "execution_count": 21,
   "id": "eece8865",
   "metadata": {},
   "outputs": [
    {
     "data": {
      "text/plain": [
       "[<div class=\"product-card__body\" data-el-type=\"Card\" data-testid=\"product-card__body\"><figure><a class=\"product-card__link-overlay\" data-testid=\"product-card__link-overlay\" href=\"https://www.nike.com/t/air-force-1-07-mens-shoes-jBrhbr/CW2288-111\" tabindex=\"-1\">Nike Air Force 1 '07</a><a aria-label=\"Nike Air Force 1 '07\" class=\"product-card__img-link-overlay\" data-el-type=\"Hero\" data-testid=\"product-card__img-link-overlay\" href=\"https://www.nike.com/t/air-force-1-07-mens-shoes-jBrhbr/CW2288-111\"><div class=\"wall-image-loader css-1la3v4n\" data-testid=\"wall-image-loader\"><img alt=\"Nike Air Force 1 '07 Men's Shoes\" class=\"product-card__hero-image css-1fxh5tw\" height=\"100%\" loading=\"lazy\" sizes=\"\" src=\"data:image/gif;base64,R0lGODlhAQABAIAAAAAAAP///yH5BAEAAAAALAAAAAABAAEAAAIBRAA7\" srcset=\"\" width=\"100%\"/><noscript><img alt=\"Nike Air Force 1 '07 Men's Shoes\" class=\"product-card__hero-image css-1fxh5tw\" height=\"400\" loading=\"lazy\" width=\"400\"/></noscript></div></a><div class=\"product-card__info disable-animations for--product\"><div class=\"\"><div class=\"product-card__messaging accent--color\" data-testid=\"product-card__messaging\">Best Seller</div><div class=\"product-card__titles\"><div class=\"product-card__title\" id=\"Nike Air Force 1 '07\" role=\"link\">Nike Air Force 1 '07</div><div class=\"product-card__subtitle\" role=\"link\">Men's Shoes</div></div></div><div class=\"product-card__count-wrapper false false\" data-testid=\"product-card__count-wrapper \"><div class=\"product-card__count-item\"><button aria-expanded=\"false\" class=\"product-card__colorway-btn\" data-testid=\"product-card__colorway-btn\" type=\"button\"><div aria-label=\"Available in 4 Colors\" class=\"product-card__product-count\">4 Colors</div></button></div></div><div class=\"product-card__animation_wrapper\"><div class=\"product-card__price-wrapper\"><div class=\"product-card__price\" data-testid=\"product-card__price\" role=\"link\"><div class=\"product-price__wrapper css-9xqpgk\"><div class=\"product-price us__styling is--current-price css-11s12ax\" data-testid=\"product-price\" role=\"link\">$115</div></div></div></div></div></div></figure></div>,\n",
       " <div class=\"product-card__body\" data-el-type=\"Card\" data-testid=\"product-card__body\"><figure><a class=\"product-card__link-overlay\" data-testid=\"product-card__link-overlay\" href=\"https://www.nike.com/t/air-jordan-3-retro-mens-shoes-5M3ZlK/CT8532-140\" tabindex=\"-1\">Air Jordan 3 Retro</a><a aria-label=\"Air Jordan 3 Retro\" class=\"product-card__img-link-overlay\" data-el-type=\"Hero\" data-testid=\"product-card__img-link-overlay\" href=\"https://www.nike.com/t/air-jordan-3-retro-mens-shoes-5M3ZlK/CT8532-140\"><div class=\"wall-image-loader css-1la3v4n\" data-testid=\"wall-image-loader\"><img alt=\"Air Jordan 3 Retro Men's Shoes\" class=\"product-card__hero-image css-1fxh5tw\" height=\"100%\" loading=\"lazy\" sizes=\"\" src=\"data:image/gif;base64,R0lGODlhAQABAIAAAAAAAP///yH5BAEAAAAALAAAAAABAAEAAAIBRAA7\" srcset=\"\" width=\"100%\"/><noscript><img alt=\"Air Jordan 3 Retro Men's Shoes\" class=\"product-card__hero-image css-1fxh5tw\" height=\"400\" loading=\"lazy\" width=\"400\"/></noscript></div></a><div class=\"product-card__info disable-animations for--product\"><div class=\"\"><div class=\"product-card__messaging accent--color\" data-testid=\"product-card__messaging\">Just In</div><div class=\"product-card__titles\"><div class=\"product-card__title\" id=\"Air Jordan 3 Retro\" role=\"link\">Air Jordan 3 Retro</div><div class=\"product-card__subtitle\" role=\"link\">Men's Shoes</div></div></div><div class=\"product-card__count-wrapper false false\" data-testid=\"product-card__count-wrapper \"><div class=\"product-card__count-item\"><button aria-expanded=\"false\" class=\"product-card__colorway-btn\" data-testid=\"product-card__colorway-btn\" type=\"button\"><div aria-label=\"Available in 2 Colors\" class=\"product-card__product-count\">2 Colors</div></button></div></div><div class=\"product-card__animation_wrapper\"><div class=\"product-card__price-wrapper\"><div class=\"product-card__price\" data-testid=\"product-card__price\" role=\"link\"><div class=\"product-price__wrapper css-9xqpgk\"><div class=\"product-price us__styling is--current-price css-11s12ax\" data-testid=\"product-price\" role=\"link\">$200</div></div></div></div></div></div></figure></div>,\n",
       " <div class=\"product-card__body\" data-el-type=\"Card\" data-testid=\"product-card__body\"><figure><a class=\"product-card__link-overlay\" data-testid=\"product-card__link-overlay\" href=\"https://www.nike.com/t/jumpman-mvp-mens-shoes-gzmjDz/DZ4475-006\" tabindex=\"-1\">Jumpman MVP</a><a aria-label=\"Jumpman MVP\" class=\"product-card__img-link-overlay\" data-el-type=\"Hero\" data-testid=\"product-card__img-link-overlay\" href=\"https://www.nike.com/t/jumpman-mvp-mens-shoes-gzmjDz/DZ4475-006\"><div class=\"wall-image-loader css-1la3v4n\" data-testid=\"wall-image-loader\"><img alt=\"Jumpman MVP Men's Shoes\" class=\"product-card__hero-image css-1fxh5tw\" height=\"100%\" loading=\"lazy\" sizes=\"\" src=\"data:image/gif;base64,R0lGODlhAQABAIAAAAAAAP///yH5BAEAAAAALAAAAAABAAEAAAIBRAA7\" srcset=\"\" width=\"100%\"/><noscript><img alt=\"Jumpman MVP Men's Shoes\" class=\"product-card__hero-image css-1fxh5tw\" height=\"400\" loading=\"lazy\" width=\"400\"/></noscript></div></a><div class=\"product-card__info disable-animations\"><div class=\"\"><div class=\"product-card__titles\"><div class=\"product-card__title\" id=\"Jumpman MVP\" role=\"link\">Jumpman MVP</div><div class=\"product-card__subtitle\" role=\"link\">Men's Shoes</div></div></div><div class=\"product-card__count-wrapper false false\" data-testid=\"product-card__count-wrapper \"><div class=\"product-card__count-item\"><button aria-expanded=\"false\" class=\"product-card__colorway-btn\" data-testid=\"product-card__colorway-btn\" type=\"button\"><div aria-label=\"Available in 9 Colors\" class=\"product-card__product-count\">9 Colors</div></button></div></div><div class=\"product-card__animation_wrapper\"><div class=\"product-card__price-wrapper\"><div class=\"product-card__price\" data-testid=\"product-card__price\" role=\"link\"><div class=\"product-price__wrapper css-9xqpgk\"><div class=\"product-price us__styling is--current-price css-11s12ax\" data-testid=\"product-price\" role=\"link\">$165</div></div></div></div></div></div></figure></div>,\n",
       " <div class=\"product-card__body\" data-el-type=\"Card\" data-testid=\"product-card__body\"><figure><a class=\"product-card__link-overlay\" data-testid=\"product-card__link-overlay\" href=\"https://www.nike.com/t/dunk-low-big-kids-shoes-RZGMsR/FV0374-100\" tabindex=\"-1\">Nike Dunk Low</a><a aria-label=\"Nike Dunk Low\" class=\"product-card__img-link-overlay\" data-el-type=\"Hero\" data-testid=\"product-card__img-link-overlay\" href=\"https://www.nike.com/t/dunk-low-big-kids-shoes-RZGMsR/FV0374-100\"><div class=\"wall-image-loader css-1la3v4n\" data-testid=\"wall-image-loader\"><img alt=\"Nike Dunk Low Big Kids' Shoes\" class=\"product-card__hero-image css-1fxh5tw\" height=\"100%\" loading=\"lazy\" sizes=\"\" src=\"data:image/gif;base64,R0lGODlhAQABAIAAAAAAAP///yH5BAEAAAAALAAAAAABAAEAAAIBRAA7\" srcset=\"\" width=\"100%\"/><noscript><img alt=\"Nike Dunk Low Big Kids' Shoes\" class=\"product-card__hero-image css-1fxh5tw\" height=\"400\" loading=\"lazy\" width=\"400\"/></noscript></div></a><div class=\"product-card__info disable-animations for--product\"><div class=\"\"><div class=\"product-card__messaging accent--color\" data-testid=\"product-card__messaging\">Best Seller</div><div class=\"product-card__titles\"><div class=\"product-card__title\" id=\"Nike Dunk Low\" role=\"link\">Nike Dunk Low</div><div class=\"product-card__subtitle\" role=\"link\">Big Kids' Shoes</div></div></div><div class=\"product-card__count-wrapper false false\" data-testid=\"product-card__count-wrapper \"><div class=\"product-card__count-item\"><button aria-expanded=\"false\" class=\"product-card__colorway-btn\" data-testid=\"product-card__colorway-btn\" type=\"button\"><div aria-label=\"Available in 1 Color\" class=\"product-card__product-count\">1 Color</div></button></div></div><div class=\"product-card__animation_wrapper\"><div class=\"product-card__price-wrapper\"><div class=\"product-card__price\" data-testid=\"product-card__price\" role=\"link\"><div class=\"product-price__wrapper css-9xqpgk\"><div class=\"product-price us__styling is--current-price css-11s12ax\" data-testid=\"product-price\" role=\"link\">$90</div></div></div></div></div></div></figure></div>,\n",
       " <div class=\"product-card__body\" data-el-type=\"Card\" data-testid=\"product-card__body\"><figure><a class=\"product-card__link-overlay\" data-testid=\"product-card__link-overlay\" href=\"https://www.nike.com/t/air-jordan-1-mid-mens-shoes-X5pM09/DQ8426-106\" tabindex=\"-1\">Air Jordan 1 Mid</a><a aria-label=\"Air Jordan 1 Mid\" class=\"product-card__img-link-overlay\" data-el-type=\"Hero\" data-testid=\"product-card__img-link-overlay\" href=\"https://www.nike.com/t/air-jordan-1-mid-mens-shoes-X5pM09/DQ8426-106\"><div class=\"wall-image-loader css-1la3v4n\" data-testid=\"wall-image-loader\"><img alt=\"Air Jordan 1 Mid Men's Shoes\" class=\"product-card__hero-image css-1fxh5tw\" height=\"100%\" loading=\"lazy\" sizes=\"\" src=\"data:image/gif;base64,R0lGODlhAQABAIAAAAAAAP///yH5BAEAAAAALAAAAAABAAEAAAIBRAA7\" srcset=\"\" width=\"100%\"/><noscript><img alt=\"Air Jordan 1 Mid Men's Shoes\" class=\"product-card__hero-image css-1fxh5tw\" height=\"400\" loading=\"lazy\" width=\"400\"/></noscript></div></a><div class=\"product-card__info disable-animations for--product\"><div class=\"\"><div class=\"product-card__messaging accent--color\" data-testid=\"product-card__messaging\">Best Seller</div><div class=\"product-card__titles\"><div class=\"product-card__title\" id=\"Air Jordan 1 Mid\" role=\"link\">Air Jordan 1 Mid</div><div class=\"product-card__subtitle\" role=\"link\">Men's Shoes</div></div></div><div class=\"product-card__count-wrapper false false\" data-testid=\"product-card__count-wrapper \"><div class=\"product-card__count-item\"><button aria-expanded=\"false\" class=\"product-card__colorway-btn\" data-testid=\"product-card__colorway-btn\" type=\"button\"><div aria-label=\"Available in 6 Colors\" class=\"product-card__product-count\">6 Colors</div></button></div></div><div class=\"product-card__animation_wrapper\"><div class=\"product-card__price-wrapper\"><div class=\"product-card__price\" data-testid=\"product-card__price\" role=\"link\"><div aria-label=\"current price $106.97, original price $125\" class=\"product-price__wrapper css-9xqpgk\"><div aria-hidden=\"true\" class=\"product-price is--current-price css-1ydfahe\" data-testid=\"product-price-reduced\" role=\"link\">$106.97</div><div aria-hidden=\"true\" class=\"product-price us__styling is--striked-out css-0\" data-testid=\"product-price\" role=\"link\">$125</div></div></div></div></div></div></figure></div>,\n",
       " <div class=\"product-card__body\" data-el-type=\"Card\" data-testid=\"product-card__body\"><figure><a class=\"product-card__link-overlay\" data-testid=\"product-card__link-overlay\" href=\"https://www.nike.com/t/court-legacy-next-nature-womens-shoes-8r07x0/DH3161-100\" tabindex=\"-1\">Nike Court Legacy Next Nature</a><a aria-label=\"Nike Court Legacy Next Nature\" class=\"product-card__img-link-overlay\" data-el-type=\"Hero\" data-testid=\"product-card__img-link-overlay\" href=\"https://www.nike.com/t/court-legacy-next-nature-womens-shoes-8r07x0/DH3161-100\"><div class=\"wall-image-loader css-1la3v4n\" data-testid=\"wall-image-loader\"><img alt=\"Nike Court Legacy Next Nature Women's Shoes\" class=\"product-card__hero-image css-1fxh5tw\" height=\"100%\" loading=\"lazy\" sizes=\"\" src=\"data:image/gif;base64,R0lGODlhAQABAIAAAAAAAP///yH5BAEAAAAALAAAAAABAAEAAAIBRAA7\" srcset=\"\" width=\"100%\"/><noscript><img alt=\"Nike Court Legacy Next Nature Women's Shoes\" class=\"product-card__hero-image css-1fxh5tw\" height=\"400\" loading=\"lazy\" width=\"400\"/></noscript></div></a><div class=\"product-card__info disable-animations for--product\"><div class=\"\"><div class=\"product-card__messaging accent--color\" data-testid=\"product-card__messaging\">Best Seller</div><div class=\"product-card__titles\"><div class=\"product-card__title\" id=\"Nike Court Legacy Next Nature\" role=\"link\">Nike Court Legacy Next Nature</div><div class=\"product-card__subtitle\" role=\"link\">Women's Shoes</div></div></div><div class=\"product-card__count-wrapper false false\" data-testid=\"product-card__count-wrapper \"><div class=\"product-card__count-item\"><button aria-expanded=\"false\" class=\"product-card__colorway-btn\" data-testid=\"product-card__colorway-btn\" type=\"button\"><div aria-label=\"Available in 6 Colors\" class=\"product-card__product-count\">6 Colors</div></button></div></div><div class=\"product-card__animation_wrapper\"><div class=\"product-card__price-wrapper\"><div class=\"product-card__price\" data-testid=\"product-card__price\" role=\"link\"><div aria-label=\"current price $59.97, original price $70\" class=\"product-price__wrapper css-9xqpgk\"><div aria-hidden=\"true\" class=\"product-price is--current-price css-1ydfahe\" data-testid=\"product-price-reduced\" role=\"link\">$59.97</div><div aria-hidden=\"true\" class=\"product-price us__styling is--striked-out css-0\" data-testid=\"product-price\" role=\"link\">$70</div></div></div></div></div></div></figure></div>,\n",
       " <div class=\"product-card__body\" data-el-type=\"Card\" data-testid=\"product-card__body\"><figure><a class=\"product-card__link-overlay\" data-testid=\"product-card__link-overlay\" href=\"https://www.nike.com/t/blazer-mid-77-womens-shoes-NPWfjm/CZ1055-100\" tabindex=\"-1\">Nike Blazer Mid '77</a><a aria-label=\"Nike Blazer Mid '77\" class=\"product-card__img-link-overlay\" data-el-type=\"Hero\" data-testid=\"product-card__img-link-overlay\" href=\"https://www.nike.com/t/blazer-mid-77-womens-shoes-NPWfjm/CZ1055-100\"><div class=\"wall-image-loader css-1la3v4n\" data-testid=\"wall-image-loader\"><img alt=\"Nike Blazer Mid '77 Women's Shoes\" class=\"product-card__hero-image css-1fxh5tw\" height=\"100%\" loading=\"lazy\" sizes=\"\" src=\"data:image/gif;base64,R0lGODlhAQABAIAAAAAAAP///yH5BAEAAAAALAAAAAABAAEAAAIBRAA7\" srcset=\"\" width=\"100%\"/><noscript><img alt=\"Nike Blazer Mid '77 Women's Shoes\" class=\"product-card__hero-image css-1fxh5tw\" height=\"400\" loading=\"lazy\" width=\"400\"/></noscript></div></a><div class=\"product-card__info disable-animations\"><div class=\"\"><div class=\"product-card__titles\"><div class=\"product-card__title\" id=\"Nike Blazer Mid '77\" role=\"link\">Nike Blazer Mid '77</div><div class=\"product-card__subtitle\" role=\"link\">Women's Shoes</div></div></div><div class=\"product-card__count-wrapper false false\" data-testid=\"product-card__count-wrapper \"><div class=\"product-card__count-item\"><button aria-expanded=\"false\" class=\"product-card__colorway-btn\" data-testid=\"product-card__colorway-btn\" type=\"button\"><div aria-label=\"Available in 5 Colors\" class=\"product-card__product-count\">5 Colors</div></button></div></div><div class=\"product-card__animation_wrapper\"><div class=\"product-card__price-wrapper\"><div class=\"product-card__price\" data-testid=\"product-card__price\" role=\"link\"><div class=\"product-price__wrapper css-9xqpgk\"><div class=\"product-price us__styling is--current-price css-11s12ax\" data-testid=\"product-price\" role=\"link\">$105</div></div></div></div></div></div></figure></div>,\n",
       " <div class=\"product-card__body\" data-el-type=\"Card\" data-testid=\"product-card__body\"><figure><a class=\"product-card__link-overlay\" data-testid=\"product-card__link-overlay\" href=\"https://www.nike.com/t/gamma-force-shoes-4TR9Xf/FQ8877-100\" tabindex=\"-1\">Nike Gamma Force</a><a aria-label=\"Nike Gamma Force\" class=\"product-card__img-link-overlay\" data-el-type=\"Hero\" data-testid=\"product-card__img-link-overlay\" href=\"https://www.nike.com/t/gamma-force-shoes-4TR9Xf/FQ8877-100\"><div class=\"wall-image-loader css-1la3v4n\" data-testid=\"wall-image-loader\"><img alt=\"Nike Gamma Force Shoes\" class=\"product-card__hero-image css-1fxh5tw\" height=\"100%\" loading=\"lazy\" sizes=\"\" src=\"data:image/gif;base64,R0lGODlhAQABAIAAAAAAAP///yH5BAEAAAAALAAAAAABAAEAAAIBRAA7\" srcset=\"\" width=\"100%\"/><noscript><img alt=\"Nike Gamma Force Shoes\" class=\"product-card__hero-image css-1fxh5tw\" height=\"400\" loading=\"lazy\" width=\"400\"/></noscript></div></a><div class=\"product-card__info disable-animations\"><div class=\"\"><div class=\"product-card__titles\"><div class=\"product-card__title\" id=\"Nike Gamma Force\" role=\"link\">Nike Gamma Force</div><div class=\"product-card__subtitle\" role=\"link\">Shoes</div></div></div><div class=\"product-card__count-wrapper false false\" data-testid=\"product-card__count-wrapper \"><div class=\"product-card__count-item\"><button aria-expanded=\"false\" class=\"product-card__colorway-btn\" data-testid=\"product-card__colorway-btn\" type=\"button\"><div aria-label=\"Available in 8 Colors\" class=\"product-card__product-count\">8 Colors</div></button></div></div><div class=\"product-card__animation_wrapper\"><div class=\"product-card__price-wrapper\"><div class=\"product-card__price\" data-testid=\"product-card__price\" role=\"link\"><div aria-label=\"current price $80.97, original price $95\" class=\"product-price__wrapper css-9xqpgk\"><div aria-hidden=\"true\" class=\"product-price is--current-price css-1ydfahe\" data-testid=\"product-price-reduced\" role=\"link\">$80.97</div><div aria-hidden=\"true\" class=\"product-price us__styling is--striked-out css-0\" data-testid=\"product-price\" role=\"link\">$95</div></div></div></div></div></div></figure></div>,\n",
       " <div class=\"product-card__body\" data-el-type=\"Card\" data-testid=\"product-card__body\"><figure><a class=\"product-card__link-overlay\" data-testid=\"product-card__link-overlay\" href=\"https://www.nike.com/t/dunk-low-cpHbZv/FV6909-800\" tabindex=\"-1\">Nike Dunk Low</a><a aria-label=\"Nike Dunk Low\" class=\"product-card__img-link-overlay\" data-el-type=\"Hero\" data-testid=\"product-card__img-link-overlay\" href=\"https://www.nike.com/t/dunk-low-cpHbZv/FV6909-800\"><div class=\"wall-image-loader css-1la3v4n\" data-testid=\"wall-image-loader\"><img alt=\"Nike Dunk Low Men's Shoes\" class=\"product-card__hero-image css-1fxh5tw\" height=\"100%\" loading=\"lazy\" sizes=\"\" src=\"data:image/gif;base64,R0lGODlhAQABAIAAAAAAAP///yH5BAEAAAAALAAAAAABAAEAAAIBRAA7\" srcset=\"\" width=\"100%\"/><noscript><img alt=\"Nike Dunk Low Men's Shoes\" class=\"product-card__hero-image css-1fxh5tw\" height=\"400\" loading=\"lazy\" width=\"400\"/></noscript></div></a><div class=\"product-card__info disable-animations for--product\"><div class=\"\"><div class=\"product-card__messaging accent--color\" data-testid=\"product-card__messaging\">Just In</div><div class=\"product-card__titles\"><div class=\"product-card__title\" id=\"Nike Dunk Low\" role=\"link\">Nike Dunk Low</div><div class=\"product-card__subtitle\" role=\"link\">Men's Shoes</div></div></div><div class=\"product-card__count-wrapper false false\" data-testid=\"product-card__count-wrapper \"><div class=\"product-card__count-item\"><button aria-expanded=\"false\" class=\"product-card__colorway-btn\" data-testid=\"product-card__colorway-btn\" type=\"button\"><div aria-label=\"Available in 1 Color\" class=\"product-card__product-count\">1 Color</div></button></div></div><div class=\"product-card__animation_wrapper\"><div class=\"product-card__price-wrapper\"><div class=\"product-card__price\" data-testid=\"product-card__price\" role=\"link\"><div class=\"product-price__wrapper css-9xqpgk\"><div class=\"product-price us__styling is--current-price css-11s12ax\" data-testid=\"product-price\" role=\"link\">$115</div></div></div></div></div></div></figure></div>,\n",
       " <div class=\"product-card__body\" data-el-type=\"Card\" data-testid=\"product-card__body\"><figure><a class=\"product-card__link-overlay\" data-testid=\"product-card__link-overlay\" href=\"https://www.nike.com/t/court-legacy-lift-womens-shoes-x0B6BB/DM7590-100\" tabindex=\"-1\">Nike Court Legacy Lift</a><a aria-label=\"Nike Court Legacy Lift\" class=\"product-card__img-link-overlay\" data-el-type=\"Hero\" data-testid=\"product-card__img-link-overlay\" href=\"https://www.nike.com/t/court-legacy-lift-womens-shoes-x0B6BB/DM7590-100\"><div class=\"wall-image-loader css-1la3v4n\" data-testid=\"wall-image-loader\"><img alt=\"Nike Court Legacy Lift Women's Shoes\" class=\"product-card__hero-image css-1fxh5tw\" height=\"100%\" loading=\"lazy\" sizes=\"\" src=\"data:image/gif;base64,R0lGODlhAQABAIAAAAAAAP///yH5BAEAAAAALAAAAAABAAEAAAIBRAA7\" srcset=\"\" width=\"100%\"/><noscript><img alt=\"Nike Court Legacy Lift Women's Shoes\" class=\"product-card__hero-image css-1fxh5tw\" height=\"400\" loading=\"lazy\" width=\"400\"/></noscript></div></a><div class=\"product-card__info disable-animations\"><div class=\"\"><div class=\"product-card__titles\"><div class=\"product-card__title\" id=\"Nike Court Legacy Lift\" role=\"link\">Nike Court Legacy Lift</div><div class=\"product-card__subtitle\" role=\"link\">Women's Shoes</div></div></div><div class=\"product-card__count-wrapper false false\" data-testid=\"product-card__count-wrapper \"><div class=\"product-card__count-item\"><button aria-expanded=\"false\" class=\"product-card__colorway-btn\" data-testid=\"product-card__colorway-btn\" type=\"button\"><div aria-label=\"Available in 9 Colors\" class=\"product-card__product-count\">9 Colors</div></button></div></div><div class=\"product-card__animation_wrapper\"><div class=\"product-card__price-wrapper\"><div class=\"product-card__price\" data-testid=\"product-card__price\" role=\"link\"><div class=\"product-price__wrapper css-9xqpgk\"><div class=\"product-price us__styling is--current-price css-11s12ax\" data-testid=\"product-price\" role=\"link\">$90</div></div></div></div></div></div></figure></div>,\n",
       " <div class=\"product-card__body\" data-el-type=\"Card\" data-testid=\"product-card__body\"><figure><a class=\"product-card__link-overlay\" data-testid=\"product-card__link-overlay\" href=\"https://www.nike.com/t/air-force-1-le-big-kids-shoes-CZDf8b/DH2920-111\" tabindex=\"-1\">Nike Air Force 1 LE</a><a aria-label=\"Nike Air Force 1 LE\" class=\"product-card__img-link-overlay\" data-el-type=\"Hero\" data-testid=\"product-card__img-link-overlay\" href=\"https://www.nike.com/t/air-force-1-le-big-kids-shoes-CZDf8b/DH2920-111\"><div class=\"wall-image-loader css-1la3v4n\" data-testid=\"wall-image-loader\"><img alt=\"Nike Air Force 1 LE Big Kids' Shoes\" class=\"product-card__hero-image css-1fxh5tw\" height=\"100%\" loading=\"lazy\" sizes=\"\" src=\"data:image/gif;base64,R0lGODlhAQABAIAAAAAAAP///yH5BAEAAAAALAAAAAABAAEAAAIBRAA7\" srcset=\"\" width=\"100%\"/><noscript><img alt=\"Nike Air Force 1 LE Big Kids' Shoes\" class=\"product-card__hero-image css-1fxh5tw\" height=\"400\" loading=\"lazy\" width=\"400\"/></noscript></div></a><div class=\"product-card__info disable-animations for--product\"><div class=\"\"><div class=\"product-card__messaging accent--color\" data-testid=\"product-card__messaging\">Best Seller</div><div class=\"product-card__titles\"><div class=\"product-card__title\" id=\"Nike Air Force 1 LE\" role=\"link\">Nike Air Force 1 LE</div><div class=\"product-card__subtitle\" role=\"link\">Big Kids' Shoes</div></div></div><div class=\"product-card__count-wrapper false false\" data-testid=\"product-card__count-wrapper \"><div class=\"product-card__count-item\"><button aria-expanded=\"false\" class=\"product-card__colorway-btn\" data-testid=\"product-card__colorway-btn\" type=\"button\"><div aria-label=\"Available in 1 Color\" class=\"product-card__product-count\">1 Color</div></button></div></div><div class=\"product-card__animation_wrapper\"><div class=\"product-card__price-wrapper\"><div class=\"product-card__price\" data-testid=\"product-card__price\" role=\"link\"><div class=\"product-price__wrapper css-9xqpgk\"><div class=\"product-price us__styling is--current-price css-11s12ax\" data-testid=\"product-price\" role=\"link\">$90</div></div></div></div></div></div></figure></div>,\n",
       " <div class=\"product-card__body\" data-el-type=\"Card\" data-testid=\"product-card__body\"><figure><a class=\"product-card__link-overlay\" data-testid=\"product-card__link-overlay\" href=\"https://www.nike.com/t/dunk-low-retro-premium-mens-shoes-RvlrvD/FB8895-300\" tabindex=\"-1\">Nike Dunk Low Retro Premium</a><a aria-label=\"Nike Dunk Low Retro Premium\" class=\"product-card__img-link-overlay\" data-el-type=\"Hero\" data-testid=\"product-card__img-link-overlay\" href=\"https://www.nike.com/t/dunk-low-retro-premium-mens-shoes-RvlrvD/FB8895-300\"><div class=\"wall-image-loader css-1la3v4n\" data-testid=\"wall-image-loader\"><img alt=\"Nike Dunk Low Retro Premium Men's Shoes\" class=\"product-card__hero-image css-1fxh5tw\" height=\"100%\" loading=\"lazy\" sizes=\"\" src=\"data:image/gif;base64,R0lGODlhAQABAIAAAAAAAP///yH5BAEAAAAALAAAAAABAAEAAAIBRAA7\" srcset=\"\" width=\"100%\"/><noscript><img alt=\"Nike Dunk Low Retro Premium Men's Shoes\" class=\"product-card__hero-image css-1fxh5tw\" height=\"400\" loading=\"lazy\" width=\"400\"/></noscript></div></a><div class=\"product-card__info disable-animations for--product\"><div class=\"\"><div class=\"product-card__messaging accent--color\" data-testid=\"product-card__messaging\">Just In</div><div class=\"product-card__titles\"><div class=\"product-card__title\" id=\"Nike Dunk Low Retro Premium\" role=\"link\">Nike Dunk Low Retro Premium</div><div class=\"product-card__subtitle\" role=\"link\">Men's Shoes</div></div></div><div class=\"product-card__count-wrapper false false\" data-testid=\"product-card__count-wrapper \"><div class=\"product-card__count-item\"><button aria-expanded=\"false\" class=\"product-card__colorway-btn\" data-testid=\"product-card__colorway-btn\" type=\"button\"><div aria-label=\"Available in 2 Colors\" class=\"product-card__product-count\">2 Colors</div></button></div></div><div class=\"product-card__animation_wrapper\"><div class=\"product-card__price-wrapper\"><div class=\"product-card__price\" data-testid=\"product-card__price\" role=\"link\"><div class=\"product-price__wrapper css-9xqpgk\"><div class=\"product-price us__styling is--current-price css-11s12ax\" data-testid=\"product-price\" role=\"link\">$125</div></div></div></div></div></div></figure></div>,\n",
       " <div class=\"product-card__body\" data-el-type=\"Card\" data-testid=\"product-card__body\"><figure><a class=\"product-card__link-overlay\" data-testid=\"product-card__link-overlay\" href=\"https://www.nike.com/t/air-max-270-mens-shoes-KkLcGR/AH8050-002\" tabindex=\"-1\">Nike Air Max 270</a><a aria-label=\"Nike Air Max 270\" class=\"product-card__img-link-overlay\" data-el-type=\"Hero\" data-testid=\"product-card__img-link-overlay\" href=\"https://www.nike.com/t/air-max-270-mens-shoes-KkLcGR/AH8050-002\"><div class=\"wall-image-loader css-1la3v4n\" data-testid=\"wall-image-loader\"><img alt=\"Nike Air Max 270 Men's Shoes\" class=\"product-card__hero-image css-1fxh5tw\" height=\"100%\" loading=\"lazy\" sizes=\"\" src=\"data:image/gif;base64,R0lGODlhAQABAIAAAAAAAP///yH5BAEAAAAALAAAAAABAAEAAAIBRAA7\" srcset=\"\" width=\"100%\"/><noscript><img alt=\"Nike Air Max 270 Men's Shoes\" class=\"product-card__hero-image css-1fxh5tw\" height=\"400\" loading=\"lazy\" width=\"400\"/></noscript></div></a><div class=\"product-card__info disable-animations\"><div class=\"\"><div class=\"product-card__titles\"><div class=\"product-card__title\" id=\"Nike Air Max 270\" role=\"link\">Nike Air Max 270</div><div class=\"product-card__subtitle\" role=\"link\">Men's Shoes</div></div></div><div class=\"product-card__count-wrapper false false\" data-testid=\"product-card__count-wrapper \"><div class=\"product-card__count-item\"><button aria-expanded=\"false\" class=\"product-card__colorway-btn\" data-testid=\"product-card__colorway-btn\" type=\"button\"><div aria-label=\"Available in 5 Colors\" class=\"product-card__product-count\">5 Colors</div></button></div></div><div class=\"product-card__animation_wrapper\"><div class=\"product-card__price-wrapper\"><div class=\"product-card__price\" data-testid=\"product-card__price\" role=\"link\"><div class=\"product-price__wrapper css-9xqpgk\"><div class=\"product-price us__styling is--current-price css-11s12ax\" data-testid=\"product-price\" role=\"link\">$160</div></div></div></div></div></div></figure></div>,\n",
       " <div class=\"product-card__body\" data-el-type=\"Card\" data-testid=\"product-card__body\"><figure><a class=\"product-card__link-overlay\" data-testid=\"product-card__link-overlay\" href=\"https://www.nike.com/t/dunk-low-big-kids-shoes-5XZjcs/FV3653-191\" tabindex=\"-1\">Nike Dunk Low</a><a aria-label=\"Nike Dunk Low\" class=\"product-card__img-link-overlay\" data-el-type=\"Hero\" data-testid=\"product-card__img-link-overlay\" href=\"https://www.nike.com/t/dunk-low-big-kids-shoes-5XZjcs/FV3653-191\"><div class=\"wall-image-loader css-1la3v4n\" data-testid=\"wall-image-loader\"><img alt=\"Nike Dunk Low Big Kids' Shoes\" class=\"product-card__hero-image css-1fxh5tw\" height=\"100%\" loading=\"lazy\" sizes=\"\" src=\"data:image/gif;base64,R0lGODlhAQABAIAAAAAAAP///yH5BAEAAAAALAAAAAABAAEAAAIBRAA7\" srcset=\"\" width=\"100%\"/><noscript><img alt=\"Nike Dunk Low Big Kids' Shoes\" class=\"product-card__hero-image css-1fxh5tw\" height=\"400\" loading=\"lazy\" width=\"400\"/></noscript></div></a><div class=\"product-card__info disable-animations\"><div class=\"\"><div class=\"product-card__titles\"><div class=\"product-card__title\" id=\"Nike Dunk Low\" role=\"link\">Nike Dunk Low</div><div class=\"product-card__subtitle\" role=\"link\">Big Kids' Shoes</div></div></div><div class=\"product-card__count-wrapper false false\" data-testid=\"product-card__count-wrapper \"><div class=\"product-card__count-item\"><button aria-expanded=\"false\" class=\"product-card__colorway-btn\" data-testid=\"product-card__colorway-btn\" type=\"button\"><div aria-label=\"Available in 1 Color\" class=\"product-card__product-count\">1 Color</div></button></div></div><div class=\"product-card__animation_wrapper\"><div class=\"product-card__price-wrapper\"><div class=\"product-card__price\" data-testid=\"product-card__price\" role=\"link\"><div class=\"product-price__wrapper css-9xqpgk\"><div class=\"product-price us__styling is--current-price css-11s12ax\" data-testid=\"product-price\" role=\"link\">$95</div></div></div></div></div></div></figure></div>,\n",
       " <div class=\"product-card__body\" data-el-type=\"Card\" data-testid=\"product-card__body\"><figure><a class=\"product-card__link-overlay\" data-testid=\"product-card__link-overlay\" href=\"https://www.nike.com/t/air-force-1-07-womens-shoes-PqdxJw/FD1448-664\" tabindex=\"-1\">Nike Air Force 1 '07</a><a aria-label=\"Nike Air Force 1 '07\" class=\"product-card__img-link-overlay\" data-el-type=\"Hero\" data-testid=\"product-card__img-link-overlay\" href=\"https://www.nike.com/t/air-force-1-07-womens-shoes-PqdxJw/FD1448-664\"><div class=\"wall-image-loader css-1la3v4n\" data-testid=\"wall-image-loader\"><img alt=\"Nike Air Force 1 '07 Women's Shoes\" class=\"product-card__hero-image css-1fxh5tw\" height=\"100%\" loading=\"lazy\" sizes=\"\" src=\"data:image/gif;base64,R0lGODlhAQABAIAAAAAAAP///yH5BAEAAAAALAAAAAABAAEAAAIBRAA7\" srcset=\"\" width=\"100%\"/><noscript><img alt=\"Nike Air Force 1 '07 Women's Shoes\" class=\"product-card__hero-image css-1fxh5tw\" height=\"400\" loading=\"lazy\" width=\"400\"/></noscript></div></a><div class=\"product-card__info disable-animations\"><div class=\"\"><div class=\"product-card__titles\"><div class=\"product-card__title\" id=\"Nike Air Force 1 '07\" role=\"link\">Nike Air Force 1 '07</div><div class=\"product-card__subtitle\" role=\"link\">Women's Shoes</div></div></div><div class=\"product-card__count-wrapper false false\" data-testid=\"product-card__count-wrapper \"><div class=\"product-card__count-item\"><button aria-expanded=\"false\" class=\"product-card__colorway-btn\" data-testid=\"product-card__colorway-btn\" type=\"button\"><div aria-label=\"Available in 6 Colors\" class=\"product-card__product-count\">6 Colors</div></button></div></div><div class=\"product-card__animation_wrapper\"><div class=\"product-card__price-wrapper\"><div class=\"product-card__price\" data-testid=\"product-card__price\" role=\"link\"><div class=\"product-price__wrapper css-9xqpgk\"><div class=\"product-price us__styling is--current-price css-11s12ax\" data-testid=\"product-price\" role=\"link\">$110</div></div></div></div></div></div></figure></div>,\n",
       " <div class=\"product-card__body\" data-el-type=\"Card\" data-testid=\"product-card__body\"><figure><a class=\"product-card__link-overlay\" data-testid=\"product-card__link-overlay\" href=\"https://www.nike.com/t/air-jordan-4-craft-olive-mens-shoes-GmXFz0/FB9927-200\" tabindex=\"-1\">Air Jordan 4 Craft \"Olive\"</a><a aria-label='Air Jordan 4 Craft \"Olive\"' class=\"product-card__img-link-overlay\" data-el-type=\"Hero\" data-testid=\"product-card__img-link-overlay\" href=\"https://www.nike.com/t/air-jordan-4-craft-olive-mens-shoes-GmXFz0/FB9927-200\"><div class=\"wall-image-loader css-1la3v4n\" data-testid=\"wall-image-loader\"><img alt=\"Air Jordan 4 Craft &quot;Olive&quot; Men's Shoes\" class=\"product-card__hero-image css-1fxh5tw\" height=\"100%\" loading=\"lazy\" sizes=\"\" src=\"data:image/gif;base64,R0lGODlhAQABAIAAAAAAAP///yH5BAEAAAAALAAAAAABAAEAAAIBRAA7\" srcset=\"\" width=\"100%\"/><noscript><img alt=\"Air Jordan 4 Craft &quot;Olive&quot; Men's Shoes\" class=\"product-card__hero-image css-1fxh5tw\" height=\"400\" loading=\"lazy\" width=\"400\"/></noscript></div></a><div class=\"product-card__info disable-animations for--product\"><div class=\"\"><div class=\"product-card__messaging accent--color\" data-testid=\"product-card__messaging\">Best Seller</div><div class=\"product-card__titles\"><div class=\"product-card__title\" id='Air Jordan 4 Craft \"Olive\"' role=\"link\">Air Jordan 4 Craft \"Olive\"</div><div class=\"product-card__subtitle\" role=\"link\">Men's Shoes</div></div></div><div class=\"product-card__count-wrapper false false\" data-testid=\"product-card__count-wrapper \"><div class=\"product-card__count-item\"><button aria-expanded=\"false\" class=\"product-card__colorway-btn\" data-testid=\"product-card__colorway-btn\" type=\"button\"><div aria-label=\"Available in 1 Color\" class=\"product-card__product-count\">1 Color</div></button></div></div><div class=\"product-card__animation_wrapper\"><div class=\"product-card__price-wrapper\"><div class=\"product-card__price\" data-testid=\"product-card__price\" role=\"link\"><div class=\"product-price__wrapper css-9xqpgk\"><div class=\"product-price us__styling is--current-price css-11s12ax\" data-testid=\"product-price\" role=\"link\">$210</div></div></div></div></div></div></figure></div>,\n",
       " <div class=\"product-card__body\" data-el-type=\"Card\" data-testid=\"product-card__body\"><figure><a class=\"product-card__link-overlay\" data-testid=\"product-card__link-overlay\" href=\"https://www.nike.com/t/blazer-mid-77-vintage-mens-shoes-nw30B2/BQ6806-100\" tabindex=\"-1\">Nike Blazer Mid '77 Vintage</a><a aria-label=\"Nike Blazer Mid '77 Vintage\" class=\"product-card__img-link-overlay\" data-el-type=\"Hero\" data-testid=\"product-card__img-link-overlay\" href=\"https://www.nike.com/t/blazer-mid-77-vintage-mens-shoes-nw30B2/BQ6806-100\"><div class=\"wall-image-loader css-1la3v4n\" data-testid=\"wall-image-loader\"><img alt=\"Nike Blazer Mid '77 Vintage Men's Shoes\" class=\"product-card__hero-image css-1fxh5tw\" height=\"100%\" loading=\"lazy\" sizes=\"\" src=\"data:image/gif;base64,R0lGODlhAQABAIAAAAAAAP///yH5BAEAAAAALAAAAAABAAEAAAIBRAA7\" srcset=\"\" width=\"100%\"/><noscript><img alt=\"Nike Blazer Mid '77 Vintage Men's Shoes\" class=\"product-card__hero-image css-1fxh5tw\" height=\"400\" loading=\"lazy\" width=\"400\"/></noscript></div></a><div class=\"product-card__info disable-animations\"><div class=\"\"><div class=\"product-card__titles\"><div class=\"product-card__title\" id=\"Nike Blazer Mid '77 Vintage\" role=\"link\">Nike Blazer Mid '77 Vintage</div><div class=\"product-card__subtitle\" role=\"link\">Men's Shoes</div></div></div><div class=\"product-card__count-wrapper false false\" data-testid=\"product-card__count-wrapper \"><div class=\"product-card__count-item\"><button aria-expanded=\"false\" class=\"product-card__colorway-btn\" data-testid=\"product-card__colorway-btn\" type=\"button\"><div aria-label=\"Available in 7 Colors\" class=\"product-card__product-count\">7 Colors</div></button></div></div><div class=\"product-card__animation_wrapper\"><div class=\"product-card__price-wrapper\"><div class=\"product-card__price\" data-testid=\"product-card__price\" role=\"link\"><div class=\"product-price__wrapper css-9xqpgk\"><div class=\"product-price us__styling is--current-price css-11s12ax\" data-testid=\"product-price\" role=\"link\">$105</div></div></div></div></div></div></figure></div>,\n",
       " <div class=\"product-card__body\" data-el-type=\"Card\" data-testid=\"product-card__body\"><figure><a class=\"product-card__link-overlay\" data-testid=\"product-card__link-overlay\" href=\"https://www.nike.com/t/air-jordan-4-retro-se-craft-big-kids-shoes-fs3w1b/FB9928-200\" tabindex=\"-1\">Air Jordan 4 Retro SE Craft</a><a aria-label=\"Air Jordan 4 Retro SE Craft\" class=\"product-card__img-link-overlay\" data-el-type=\"Hero\" data-testid=\"product-card__img-link-overlay\" href=\"https://www.nike.com/t/air-jordan-4-retro-se-craft-big-kids-shoes-fs3w1b/FB9928-200\"><div class=\"wall-image-loader css-1la3v4n\" data-testid=\"wall-image-loader\"><img alt=\"Air Jordan 4 Retro SE Craft Big Kids' Shoes\" class=\"product-card__hero-image css-1fxh5tw\" height=\"100%\" loading=\"lazy\" sizes=\"\" src=\"data:image/gif;base64,R0lGODlhAQABAIAAAAAAAP///yH5BAEAAAAALAAAAAABAAEAAAIBRAA7\" srcset=\"\" width=\"100%\"/><noscript><img alt=\"Air Jordan 4 Retro SE Craft Big Kids' Shoes\" class=\"product-card__hero-image css-1fxh5tw\" height=\"400\" loading=\"lazy\" width=\"400\"/></noscript></div></a><div class=\"product-card__info disable-animations for--product\"><div class=\"\"><div class=\"product-card__messaging accent--color\" data-testid=\"product-card__messaging\">Best Seller</div><div class=\"product-card__titles\"><div class=\"product-card__title\" id=\"Air Jordan 4 Retro SE Craft\" role=\"link\">Air Jordan 4 Retro SE Craft</div><div class=\"product-card__subtitle\" role=\"link\">Big Kids' Shoes</div></div></div><div class=\"product-card__count-wrapper false false\" data-testid=\"product-card__count-wrapper \"><div class=\"product-card__count-item\"><button aria-expanded=\"false\" class=\"product-card__colorway-btn\" data-testid=\"product-card__colorway-btn\" type=\"button\"><div aria-label=\"Available in 1 Color\" class=\"product-card__product-count\">1 Color</div></button></div></div><div class=\"product-card__animation_wrapper\"><div class=\"product-card__price-wrapper\"><div class=\"product-card__price\" data-testid=\"product-card__price\" role=\"link\"><div class=\"product-price__wrapper css-9xqpgk\"><div class=\"product-price us__styling is--current-price css-11s12ax\" data-testid=\"product-price\" role=\"link\">$160</div></div></div></div></div></div></figure></div>,\n",
       " <div class=\"product-card__body\" data-el-type=\"Card\" data-testid=\"product-card__body\"><figure><a class=\"product-card__link-overlay\" data-testid=\"product-card__link-overlay\" href=\"https://www.nike.com/t/jordan-4-retro-se-craft-little-kids-shoes-htFDcz/FB9929-200\" tabindex=\"-1\">Jordan 4 Retro SE Craft</a><a aria-label=\"Jordan 4 Retro SE Craft\" class=\"product-card__img-link-overlay\" data-el-type=\"Hero\" data-testid=\"product-card__img-link-overlay\" href=\"https://www.nike.com/t/jordan-4-retro-se-craft-little-kids-shoes-htFDcz/FB9929-200\"><div class=\"wall-image-loader css-1la3v4n\" data-testid=\"wall-image-loader\"><img alt=\"Jordan 4 Retro SE Craft Little Kids' Shoes\" class=\"product-card__hero-image css-1fxh5tw\" height=\"100%\" loading=\"lazy\" sizes=\"\" src=\"data:image/gif;base64,R0lGODlhAQABAIAAAAAAAP///yH5BAEAAAAALAAAAAABAAEAAAIBRAA7\" srcset=\"\" width=\"100%\"/><noscript><img alt=\"Jordan 4 Retro SE Craft Little Kids' Shoes\" class=\"product-card__hero-image css-1fxh5tw\" height=\"400\" loading=\"lazy\" width=\"400\"/></noscript></div></a><div class=\"product-card__info disable-animations\"><div class=\"\"><div class=\"product-card__titles\"><div class=\"product-card__title\" id=\"Jordan 4 Retro SE Craft\" role=\"link\">Jordan 4 Retro SE Craft</div><div class=\"product-card__subtitle\" role=\"link\">Little Kids' Shoes</div></div></div><div class=\"product-card__count-wrapper false false\" data-testid=\"product-card__count-wrapper \"><div class=\"product-card__count-item\"><button aria-expanded=\"false\" class=\"product-card__colorway-btn\" data-testid=\"product-card__colorway-btn\" type=\"button\"><div aria-label=\"Available in 1 Color\" class=\"product-card__product-count\">1 Color</div></button></div></div><div class=\"product-card__animation_wrapper\"><div class=\"product-card__price-wrapper\"><div class=\"product-card__price\" data-testid=\"product-card__price\" role=\"link\"><div class=\"product-price__wrapper css-9xqpgk\"><div class=\"product-price us__styling is--current-price css-11s12ax\" data-testid=\"product-price\" role=\"link\">$100</div></div></div></div></div></div></figure></div>,\n",
       " <div class=\"product-card__body\" data-el-type=\"Card\" data-testid=\"product-card__body\"><figure><a class=\"product-card__link-overlay\" data-testid=\"product-card__link-overlay\" href=\"https://www.nike.com/t/air-force-1-07-womens-shoes-b19lqD/DD8959-100\" tabindex=\"-1\">Nike Air Force 1 '07</a><a aria-label=\"Nike Air Force 1 '07\" class=\"product-card__img-link-overlay\" data-el-type=\"Hero\" data-testid=\"product-card__img-link-overlay\" href=\"https://www.nike.com/t/air-force-1-07-womens-shoes-b19lqD/DD8959-100\"><div class=\"wall-image-loader css-1la3v4n\" data-testid=\"wall-image-loader\"><img alt=\"Nike Air Force 1 '07 Women's Shoes\" class=\"product-card__hero-image css-1fxh5tw\" height=\"100%\" loading=\"lazy\" sizes=\"\" src=\"data:image/gif;base64,R0lGODlhAQABAIAAAAAAAP///yH5BAEAAAAALAAAAAABAAEAAAIBRAA7\" srcset=\"\" width=\"100%\"/><noscript><img alt=\"Nike Air Force 1 '07 Women's Shoes\" class=\"product-card__hero-image css-1fxh5tw\" height=\"400\" loading=\"lazy\" width=\"400\"/></noscript></div></a><div class=\"product-card__info disable-animations for--product\"><div class=\"\"><div class=\"product-card__messaging accent--color\" data-testid=\"product-card__messaging\">Best Seller</div><div class=\"product-card__titles\"><div class=\"product-card__title\" id=\"Nike Air Force 1 '07\" role=\"link\">Nike Air Force 1 '07</div><div class=\"product-card__subtitle\" role=\"link\">Women's Shoes</div></div></div><div class=\"product-card__count-wrapper false false\" data-testid=\"product-card__count-wrapper \"><div class=\"product-card__count-item\"><button aria-expanded=\"false\" class=\"product-card__colorway-btn\" data-testid=\"product-card__colorway-btn\" type=\"button\"><div aria-label=\"Available in 5 Colors\" class=\"product-card__product-count\">5 Colors</div></button></div></div><div class=\"product-card__animation_wrapper\"><div class=\"product-card__price-wrapper\"><div class=\"product-card__price\" data-testid=\"product-card__price\" role=\"link\"><div class=\"product-price__wrapper css-9xqpgk\"><div class=\"product-price us__styling is--current-price css-11s12ax\" data-testid=\"product-price\" role=\"link\">$115</div></div></div></div></div></div></figure></div>,\n",
       " <div class=\"product-card__body\" data-el-type=\"Card\" data-testid=\"product-card__body\"><figure><a class=\"product-card__link-overlay\" data-testid=\"product-card__link-overlay\" href=\"https://www.nike.com/t/air-jordan-1-mid-big-kids-shoes-H5qqbF/DQ8423-511\" tabindex=\"-1\">Air Jordan 1 Mid</a><a aria-label=\"Air Jordan 1 Mid\" class=\"product-card__img-link-overlay\" data-el-type=\"Hero\" data-testid=\"product-card__img-link-overlay\" href=\"https://www.nike.com/t/air-jordan-1-mid-big-kids-shoes-H5qqbF/DQ8423-511\"><div class=\"wall-image-loader css-1la3v4n\" data-testid=\"wall-image-loader\"><img alt=\"Air Jordan 1 Mid Big Kids' Shoes\" class=\"product-card__hero-image css-1fxh5tw\" height=\"100%\" loading=\"lazy\" sizes=\"\" src=\"data:image/gif;base64,R0lGODlhAQABAIAAAAAAAP///yH5BAEAAAAALAAAAAABAAEAAAIBRAA7\" srcset=\"\" width=\"100%\"/><noscript><img alt=\"Air Jordan 1 Mid Big Kids' Shoes\" class=\"product-card__hero-image css-1fxh5tw\" height=\"400\" loading=\"lazy\" width=\"400\"/></noscript></div></a><div class=\"product-card__info disable-animations for--product\"><div class=\"\"><div class=\"product-card__messaging accent--color\" data-testid=\"product-card__messaging\">Best Seller</div><div class=\"product-card__titles\"><div class=\"product-card__title\" id=\"Air Jordan 1 Mid\" role=\"link\">Air Jordan 1 Mid</div><div class=\"product-card__subtitle\" role=\"link\">Big Kids' Shoes</div></div></div><div class=\"product-card__count-wrapper false false\" data-testid=\"product-card__count-wrapper \"><div class=\"product-card__count-item\"><button aria-expanded=\"false\" class=\"product-card__colorway-btn\" data-testid=\"product-card__colorway-btn\" type=\"button\"><div aria-label=\"Available in 7 Colors\" class=\"product-card__product-count\">7 Colors</div></button></div></div><div class=\"product-card__animation_wrapper\"><div class=\"product-card__price-wrapper\"><div class=\"product-card__price\" data-testid=\"product-card__price\" role=\"link\"><div class=\"product-price__wrapper css-9xqpgk\"><div class=\"product-price us__styling is--current-price css-11s12ax\" data-testid=\"product-price\" role=\"link\">$110</div></div></div></div></div></div></figure></div>,\n",
       " <div class=\"product-card__body\" data-el-type=\"Card\" data-testid=\"product-card__body\"><figure><a class=\"product-card__link-overlay\" data-testid=\"product-card__link-overlay\" href=\"https://www.nike.com/t/air-max-90-mens-shoes-6n3vKB/CN8490-002\" tabindex=\"-1\">Nike Air Max 90</a><a aria-label=\"Nike Air Max 90\" class=\"product-card__img-link-overlay\" data-el-type=\"Hero\" data-testid=\"product-card__img-link-overlay\" href=\"https://www.nike.com/t/air-max-90-mens-shoes-6n3vKB/CN8490-002\"><div class=\"wall-image-loader css-1la3v4n\" data-testid=\"wall-image-loader\"><img alt=\"Nike Air Max 90 Men's Shoes\" class=\"product-card__hero-image css-1fxh5tw\" height=\"100%\" loading=\"lazy\" sizes=\"\" src=\"data:image/gif;base64,R0lGODlhAQABAIAAAAAAAP///yH5BAEAAAAALAAAAAABAAEAAAIBRAA7\" srcset=\"\" width=\"100%\"/><noscript><img alt=\"Nike Air Max 90 Men's Shoes\" class=\"product-card__hero-image css-1fxh5tw\" height=\"400\" loading=\"lazy\" width=\"400\"/></noscript></div></a><div class=\"product-card__info disable-animations for--product\"><div class=\"\"><div class=\"product-card__messaging accent--color\" data-testid=\"product-card__messaging\">Best Seller</div><div class=\"product-card__titles\"><div class=\"product-card__title\" id=\"Nike Air Max 90\" role=\"link\">Nike Air Max 90</div><div class=\"product-card__subtitle\" role=\"link\">Men's Shoes</div></div></div><div class=\"product-card__count-wrapper false false\" data-testid=\"product-card__count-wrapper \"><div class=\"product-card__count-item\"><button aria-expanded=\"false\" class=\"product-card__colorway-btn\" data-testid=\"product-card__colorway-btn\" type=\"button\"><div aria-label=\"Available in 4 Colors\" class=\"product-card__product-count\">4 Colors</div></button></div></div><div class=\"product-card__animation_wrapper\"><div class=\"product-card__price-wrapper\"><div class=\"product-card__price\" data-testid=\"product-card__price\" role=\"link\"><div class=\"product-price__wrapper css-9xqpgk\"><div class=\"product-price us__styling is--current-price css-11s12ax\" data-testid=\"product-price\" role=\"link\">$130</div></div></div></div></div></div></figure></div>,\n",
       " <div class=\"product-card__body\" data-el-type=\"Card\" data-testid=\"product-card__body\"><figure><a class=\"product-card__link-overlay\" data-testid=\"product-card__link-overlay\" href=\"https://www.nike.com/t/air-force-1-07-premium-womens-shoes-CrFc5p/DZ2786-400\" tabindex=\"-1\">Nike Air Force 1 '07 Premium</a><a aria-label=\"Nike Air Force 1 '07 Premium\" class=\"product-card__img-link-overlay\" data-el-type=\"Hero\" data-testid=\"product-card__img-link-overlay\" href=\"https://www.nike.com/t/air-force-1-07-premium-womens-shoes-CrFc5p/DZ2786-400\"><div class=\"wall-image-loader css-1la3v4n\" data-testid=\"wall-image-loader\"><img alt=\"Nike Air Force 1 '07 Premium Women's Shoes\" class=\"product-card__hero-image css-1fxh5tw\" height=\"100%\" loading=\"lazy\" sizes=\"\" src=\"data:image/gif;base64,R0lGODlhAQABAIAAAAAAAP///yH5BAEAAAAALAAAAAABAAEAAAIBRAA7\" srcset=\"\" width=\"100%\"/><noscript><img alt=\"Nike Air Force 1 '07 Premium Women's Shoes\" class=\"product-card__hero-image css-1fxh5tw\" height=\"400\" loading=\"lazy\" width=\"400\"/></noscript></div></a><div class=\"product-card__info disable-animations\"><div class=\"\"><div class=\"product-card__titles\"><div class=\"product-card__title\" id=\"Nike Air Force 1 '07 Premium\" role=\"link\">Nike Air Force 1 '07 Premium</div><div class=\"product-card__subtitle\" role=\"link\">Women's Shoes</div></div></div><div class=\"product-card__count-wrapper false false\" data-testid=\"product-card__count-wrapper \"><div class=\"product-card__count-item\"><button aria-expanded=\"false\" class=\"product-card__colorway-btn\" data-testid=\"product-card__colorway-btn\" type=\"button\"><div aria-label=\"Available in 3 Colors\" class=\"product-card__product-count\">3 Colors</div></button></div></div><div class=\"product-card__animation_wrapper\"><div class=\"product-card__price-wrapper\"><div class=\"product-card__price\" data-testid=\"product-card__price\" role=\"link\"><div aria-label=\"current price $110.97, original price $130\" class=\"product-price__wrapper css-9xqpgk\"><div aria-hidden=\"true\" class=\"product-price is--current-price css-1ydfahe\" data-testid=\"product-price-reduced\" role=\"link\">$110.97</div><div aria-hidden=\"true\" class=\"product-price us__styling is--striked-out css-0\" data-testid=\"product-price\" role=\"link\">$130</div></div></div></div></div></div></figure></div>,\n",
       " <div class=\"product-card__body\" data-el-type=\"Card\" data-testid=\"product-card__body\"><figure><a class=\"product-card__link-overlay\" data-testid=\"product-card__link-overlay\" href=\"https://www.nike.com/t/dunk-low-womens-shoes-0lZ7gG/DD1503-118\" tabindex=\"-1\">Nike Dunk Low</a><a aria-label=\"Nike Dunk Low\" class=\"product-card__img-link-overlay\" data-el-type=\"Hero\" data-testid=\"product-card__img-link-overlay\" href=\"https://www.nike.com/t/dunk-low-womens-shoes-0lZ7gG/DD1503-118\"><div class=\"wall-image-loader css-1la3v4n\" data-testid=\"wall-image-loader\"><img alt=\"Nike Dunk Low Women's Shoes\" class=\"product-card__hero-image css-1fxh5tw\" height=\"100%\" loading=\"lazy\" sizes=\"\" src=\"data:image/gif;base64,R0lGODlhAQABAIAAAAAAAP///yH5BAEAAAAALAAAAAABAAEAAAIBRAA7\" srcset=\"\" width=\"100%\"/><noscript><img alt=\"Nike Dunk Low Women's Shoes\" class=\"product-card__hero-image css-1fxh5tw\" height=\"400\" loading=\"lazy\" width=\"400\"/></noscript></div></a><div class=\"product-card__info disable-animations\"><div class=\"\"><div class=\"product-card__titles\"><div class=\"product-card__title\" id=\"Nike Dunk Low\" role=\"link\">Nike Dunk Low</div><div class=\"product-card__subtitle\" role=\"link\">Women's Shoes</div></div></div><div class=\"product-card__count-wrapper false false\" data-testid=\"product-card__count-wrapper \"><div class=\"product-card__count-item\"><button aria-expanded=\"false\" class=\"product-card__colorway-btn\" data-testid=\"product-card__colorway-btn\" type=\"button\"><div aria-label=\"Available in 1 Color\" class=\"product-card__product-count\">1 Color</div></button></div></div><div class=\"product-card__animation_wrapper\"><div class=\"product-card__price-wrapper\"><div class=\"product-card__price\" data-testid=\"product-card__price\" role=\"link\"><div class=\"product-price__wrapper css-9xqpgk\"><div class=\"product-price us__styling is--current-price css-11s12ax\" data-testid=\"product-price\" role=\"link\">$115</div></div></div></div></div></div></figure></div>]"
      ]
     },
     "execution_count": 21,
     "metadata": {},
     "output_type": "execute_result"
    }
   ],
   "source": [
    "shoe_elements = soup.find_all('div', class_='product-card__body')\n",
    "shoe_elements"
   ]
  },
  {
   "cell_type": "code",
   "execution_count": 28,
   "id": "6bd2feb7",
   "metadata": {},
   "outputs": [],
   "source": [
    "names=[]\n",
    "category=[]\n",
    "prices=[]\n",
    "colors=[]\n",
    "\n",
    "for shoe in shoe_elements:\n",
    "    Shoenames = shoe.find('div',class_=\"product-card__title\").text.strip()\n",
    "    Category = shoe.find('div',class_=\"product-card__subtitle\").text.strip()\n",
    "    Price = shoe.find('div',class_=\"product-price\").text.strip()\n",
    "    Color = shoe.find('div',class_=\"product-card__count-item\").text.strip()\n",
    "    \n",
    "    names.append(Shoenames)\n",
    "    category.append(Category)\n",
    "    prices.append(Price)\n",
    "    colors.append(Color)"
   ]
  },
  {
   "cell_type": "code",
   "execution_count": 29,
   "id": "43e9ee55",
   "metadata": {},
   "outputs": [],
   "source": [
    "shoe=({'ShoesName':names,'Category':category,'Price':prices,'Colors':colors})"
   ]
  },
  {
   "cell_type": "markdown",
   "id": "de002b06",
   "metadata": {},
   "source": [
    "Table1"
   ]
  },
  {
   "cell_type": "code",
   "execution_count": 30,
   "id": "9f28a183",
   "metadata": {
    "scrolled": true
   },
   "outputs": [
    {
     "name": "stdout",
     "output_type": "stream",
     "text": [
      "                        ShoesName            Category    Price    Colors\n",
      "0            Nike Air Force 1 '07         Men's Shoes     $115  4 Colors\n",
      "1              Air Jordan 3 Retro         Men's Shoes     $200  2 Colors\n",
      "2                     Jumpman MVP         Men's Shoes     $165  9 Colors\n",
      "3                   Nike Dunk Low     Big Kids' Shoes      $90   1 Color\n",
      "4                Air Jordan 1 Mid         Men's Shoes  $106.97  6 Colors\n",
      "5   Nike Court Legacy Next Nature       Women's Shoes   $59.97  6 Colors\n",
      "6             Nike Blazer Mid '77       Women's Shoes     $105  5 Colors\n",
      "7                Nike Gamma Force               Shoes   $80.97  8 Colors\n",
      "8                   Nike Dunk Low         Men's Shoes     $115   1 Color\n",
      "9          Nike Court Legacy Lift       Women's Shoes      $90  9 Colors\n",
      "10            Nike Air Force 1 LE     Big Kids' Shoes      $90   1 Color\n",
      "11    Nike Dunk Low Retro Premium         Men's Shoes     $125  2 Colors\n",
      "12               Nike Air Max 270         Men's Shoes     $160  5 Colors\n",
      "13                  Nike Dunk Low     Big Kids' Shoes      $95   1 Color\n",
      "14           Nike Air Force 1 '07       Women's Shoes     $110  6 Colors\n",
      "15     Air Jordan 4 Craft \"Olive\"         Men's Shoes     $210   1 Color\n",
      "16    Nike Blazer Mid '77 Vintage         Men's Shoes     $105  7 Colors\n",
      "17    Air Jordan 4 Retro SE Craft     Big Kids' Shoes     $160   1 Color\n",
      "18        Jordan 4 Retro SE Craft  Little Kids' Shoes     $100   1 Color\n",
      "19           Nike Air Force 1 '07       Women's Shoes     $115  5 Colors\n",
      "20               Air Jordan 1 Mid     Big Kids' Shoes     $110  7 Colors\n",
      "21                Nike Air Max 90         Men's Shoes     $130  4 Colors\n",
      "22   Nike Air Force 1 '07 Premium       Women's Shoes  $110.97  3 Colors\n",
      "23                  Nike Dunk Low       Women's Shoes     $115   1 Color\n"
     ]
    }
   ],
   "source": [
    "data=pd.DataFrame(shoe)\n",
    "print(data)"
   ]
  },
  {
   "cell_type": "code",
   "execution_count": 31,
   "id": "8f2a2b94",
   "metadata": {},
   "outputs": [],
   "source": [
    "csv_file='Tabl1.csv'\n",
    "data.to_csv(csv_file, index=False)"
   ]
  },
  {
   "cell_type": "code",
   "execution_count": 10,
   "id": "f4805bd4",
   "metadata": {},
   "outputs": [
    {
     "name": "stdout",
     "output_type": "stream",
     "text": [
      "Requirement already satisfied: mysql in c:\\users\\ramm prrasad\\anaconda3\\lib\\site-packages (0.0.3)\n",
      "Requirement already satisfied: mysqlclient in c:\\users\\ramm prrasad\\anaconda3\\lib\\site-packages (from mysql) (2.2.0)\n"
     ]
    }
   ],
   "source": [
    "!pip install mysql"
   ]
  },
  {
   "cell_type": "code",
   "execution_count": 12,
   "id": "11de8799",
   "metadata": {},
   "outputs": [
    {
     "name": "stdout",
     "output_type": "stream",
     "text": [
      "('information_schema',)\n",
      "('kiranasriramshop',)\n",
      "('mydatabase',)\n",
      "('mysql',)\n",
      "('myworld',)\n",
      "('performance_schema',)\n",
      "('sakila',)\n",
      "('sys',)\n",
      "('table1',)\n",
      "('test_table',)\n",
      "('world',)\n"
     ]
    }
   ],
   "source": [
    "import mysql.connector\n",
    "\n",
    "mydb=mysql.connector.connect(\n",
    " host='localhost',\n",
    " user='root',\n",
    " password='Window@12345'\n",
    ")\n",
    "\n",
    "mycursor = mydb.cursor()\n",
    "\n",
    "mycursor.execute('SHOW DATABASES')\n",
    "\n",
    "for x in mycursor:\n",
    "    print(x)"
   ]
  },
  {
   "cell_type": "code",
   "execution_count": 15,
   "id": "9f0c2034",
   "metadata": {},
   "outputs": [
    {
     "name": "stdout",
     "output_type": "stream",
     "text": [
      "('shoe1',)\n"
     ]
    }
   ],
   "source": [
    "import mysql.connector\n",
    "\n",
    "mydb=mysql.connector.connect(\n",
    " host='localhost',\n",
    " user='root',\n",
    " password='Window@12345',\n",
    " database=\"mydatabase\"\n",
    ")\n",
    "\n",
    "mycursor = mydb.cursor()\n",
    "\n",
    "mycursor.execute('SHOW TABLES')\n",
    "\n",
    "for x in mycursor:\n",
    "    print(x)"
   ]
  },
  {
   "cell_type": "code",
   "execution_count": 17,
   "id": "7629412a",
   "metadata": {},
   "outputs": [
    {
     "name": "stdout",
     "output_type": "stream",
     "text": [
      "24 was inserted.\n"
     ]
    }
   ],
   "source": [
    "import pandas as pd\n",
    "import mysql.connector\n",
    "\n",
    "#Connect the database\n",
    "mydb=mysql.connector.connect(\n",
    " host='localhost',\n",
    " user='root',\n",
    " password='Window@12345',\n",
    " database='mydatabase'\n",
    ")\n",
    "\n",
    "mycursor = mydb.cursor()\n",
    "\n",
    "sql=\"INSERT INTO Shoe1 (ShoesName, Category, Price, Colors) VALUES (%s, %s, %s, %s)\"\n",
    "val=[\n",
    "    ('Nike Air Force 1 07 ','Mens Shoes','115','4 Colors'),\n",
    "    ('Nike Blazer Mid 77','Womens Shoes','105','4 Colors'),\n",
    "    ('Nike Air Max 270','Mens Shoes','136.97','9 Colors'),\n",
    "    ('Nike Air Max 270','Womens Shoes','137.97','12 Colors'),\n",
    "    ('Nike Air Force 1 LE','Big Kids Shoes','90','2 Colors'),\n",
    "    ('Nike Air Max 97','Mens Shoes','175','11 Colors'),\n",
    "    ('Nike Air Force 1 07','Womens Shoes','115','5 Colors'),\n",
    "    ('Nike Court Vision Low Next Nature','Womens Shoes','68.97','6 Colors'),\n",
    "    ('Air Jordan 1 Mid SE','Mens Shoes','135','2 Color'),\n",
    "    ('Kobe 6 Protro','Basketball Shoes','190','1 Color'),\n",
    "    ('Nike Dunk Low','Big Kids Shoes','90','1 Color'),\n",
    "    ('Air Jordan 1 Mid SE','Womens Shoes','114.97','9 Colors'),\n",
    "    ('Air Jordan 1 Zoom CMFT 2','Mens Shoes','127','7 Colors'),\n",
    "    ('Air Jordan 1 Mid SE','Mens Shoes','107.97','1 Colors'),\n",
    "    ('Nike Dunk High','Womens Shoes','130','3 Colors'),\n",
    "    ('Nike Air VaproMax Plus ','Mens Shoes','178.97','9 Colors'),\n",
    "    ('Nike Dunk Low','Big Kids Shoes','90','4 Color'),\n",
    "    ('Nike Air Force 1 07 ','Mens Shoes','115','2 Colors'),\n",
    "    ('Nike Air Force 1 07 ','Womens Shoes','110','6 Colors'),\n",
    "    ('Nike Dunk Low Twist','Womens Shoes','125','4 Color'),\n",
    "    ('Nike Court Legacy','Big Kids Shoes','46.97','7 Colors'),\n",
    "    ('Nike Air Max 90','Mens Shoe','130','4 Colors'),\n",
    "    ('Air Jordan 1 Mid','Mens Shoes','106.97','7 Colors'),\n",
    "    ('Nike Blazer Low 77 Vintage' ,'Mens Shoes','90','3 Colors'),\n",
    "]\n",
    "\n",
    "mycursor.executemany(sql, val)\n",
    "\n",
    "mydb.commit()\n",
    "\n",
    "print(mycursor.rowcount, \"was inserted.\")"
   ]
  },
  {
   "cell_type": "markdown",
   "id": "1df332d7",
   "metadata": {},
   "source": [
    "SQl Nike Table.1"
   ]
  },
  {
   "cell_type": "markdown",
   "id": "ef5330e4",
   "metadata": {},
   "source": [
    "1 Write a query  to retrieve all shoe names and their corresponding prices for men's shoes:"
   ]
  },
  {
   "cell_type": "code",
   "execution_count": 18,
   "id": "d37b9bae",
   "metadata": {},
   "outputs": [
    {
     "name": "stdout",
     "output_type": "stream",
     "text": [
      "Nike Air Force 1 07  115\n",
      "Nike Air Max 270 136.97\n",
      "Nike Air Max 97 175\n",
      "Air Jordan 1 Mid SE 135\n",
      "Air Jordan 1 Zoom CMFT 2 127\n",
      "Air Jordan 1 Mid SE 107.97\n",
      "Nike Air VaproMax Plus  178.97\n",
      "Nike Air Force 1 07  115\n",
      "Air Jordan 1 Mid 106.97\n",
      "Nike Blazer Low 77 Vintage 90\n",
      "Nike Air Force 1 07  115\n",
      "Nike Air Max 270 136.97\n",
      "Nike Air Max 97 175\n",
      "Air Jordan 1 Mid SE 135\n",
      "Air Jordan 1 Zoom CMFT 2 127\n",
      "Air Jordan 1 Mid SE 107.97\n",
      "Nike Air VaproMax Plus  178.97\n",
      "Nike Air Force 1 07  115\n",
      "Air Jordan 1 Mid 106.97\n",
      "Nike Blazer Low 77 Vintage 90\n"
     ]
    }
   ],
   "source": [
    "import mysql.connector\n",
    "\n",
    "#Connect the database\n",
    "mydb=mysql.connector.connect(\n",
    " host='localhost',\n",
    " user='root',\n",
    " password='Window@12345',\n",
    " database='mydatabase'\n",
    ")\n",
    "cursor=mydb.cursor()\n",
    "\n",
    "cursor.execute(\"SELECT ShoesName, Price FROM Shoe1 WHERE Category = 'Mens Shoes'\")\n",
    "\n",
    "results=cursor.fetchall()\n",
    "\n",
    "for row in results:\n",
    "    print(row[0], row[1])\n",
    "mydb.close()\n"
   ]
  },
  {
   "cell_type": "markdown",
   "id": "f83e54c1",
   "metadata": {},
   "source": [
    "2 Write a query to retrieve the number of different colors available for each category."
   ]
  },
  {
   "cell_type": "code",
   "execution_count": 19,
   "id": "3e3c9d4b",
   "metadata": {
    "scrolled": true
   },
   "outputs": [
    {
     "name": "stdout",
     "output_type": "stream",
     "text": [
      "('Basketball Shoes', 1)\n",
      "('Big Kids Shoes', 4)\n",
      "('Mens Shoe', 1)\n",
      "('Mens Shoes', 8)\n",
      "('Womens Shoes', 7)\n"
     ]
    }
   ],
   "source": [
    "import mysql.connector\n",
    "\n",
    "#Connect the database\n",
    "mydb=mysql.connector.connect(\n",
    " host='localhost',\n",
    " user='root',\n",
    " password='Window@12345',\n",
    " database='mydatabase'\n",
    ")\n",
    "cursor=mydb.cursor()\n",
    "\n",
    "cursor.execute('SELECT Category, COUNT(DISTINCT Colors) AS NumColors FROM Shoe1 GROUP BY Category')\n",
    "\n",
    "results=cursor.fetchall()\n",
    "\n",
    "for row in results:\n",
    "    print(row)\n",
    "cursor.close()\n",
    "mydb.close()"
   ]
  },
  {
   "cell_type": "markdown",
   "id": "0d30ad80",
   "metadata": {},
   "source": [
    "3 Write a query to find the most expensive men's shoe."
   ]
  },
  {
   "cell_type": "code",
   "execution_count": 20,
   "id": "3db0369f",
   "metadata": {},
   "outputs": [
    {
     "name": "stdout",
     "output_type": "stream",
     "text": [
      "('Nike Blazer Low 77 Vintage', 'Mens Shoes', '90', '3 Colors', 24)\n"
     ]
    }
   ],
   "source": [
    "import mysql.connector\n",
    "\n",
    "#Connect the database\n",
    "mydb=mysql.connector.connect(\n",
    " host='localhost',\n",
    " user='root',\n",
    " password='Window@12345',\n",
    " database='mydatabase'\n",
    ")\n",
    "cursor=mydb.cursor()\n",
    "\n",
    "cursor.execute(\"SELECT * FROM Shoe1 WHERE Category = 'Mens Shoes' ORDER BY Price DESC LIMIT 1\")\n",
    "\n",
    "results=cursor.fetchone()\n",
    "               \n",
    "print(results)\n",
    "               \n",
    "cursor.close()\n",
    "mydb.close()"
   ]
  },
  {
   "cell_type": "markdown",
   "id": "f26b1a3a",
   "metadata": {},
   "source": [
    "4 Write a query to find the cheapest women's shoe in a specific color (e.g., 'Black ')."
   ]
  },
  {
   "cell_type": "code",
   "execution_count": 21,
   "id": "91f619a5",
   "metadata": {},
   "outputs": [
    {
     "name": "stdout",
     "output_type": "stream",
     "text": [
      "No women's Shoe in black found\n"
     ]
    }
   ],
   "source": [
    "import mysql.connector\n",
    "\n",
    "#Connect the database\n",
    "mydb=mysql.connector.connect(\n",
    " host='localhost',\n",
    " user='root',\n",
    " password='Window@12345',\n",
    " database='mydatabase'\n",
    ")\n",
    "cursor=mydb.cursor()\n",
    "\n",
    "cursor.execute(\"SELECT * FROM Shoe1 WHERE Category = 'Womens Shoes' AND Colors = 'Black' ORDER BY Price ASC LIMIT 1\")\n",
    "\n",
    "results=cursor.fetchone()\n",
    "               \n",
    "if results:\n",
    "    print(f\"The cheapest women's shoe in black is {results[0]}priced at {result[2]}\")\n",
    "else:\n",
    "    print(\"No women's Shoe in black found\")\n",
    "    \n",
    "cursor.close()\n",
    "mydb.close()"
   ]
  },
  {
   "cell_type": "markdown",
   "id": "27fbe7fb",
   "metadata": {},
   "source": [
    "5 Write a query to retrieve all shoe names and their corresponding prices for women's shoes."
   ]
  },
  {
   "cell_type": "code",
   "execution_count": 22,
   "id": "feeb1756",
   "metadata": {},
   "outputs": [
    {
     "name": "stdout",
     "output_type": "stream",
     "text": [
      "Nike Blazer Mid 77-$105\n",
      "Nike Air Max 270-$137.97\n",
      "Nike Air Force 1 07-$115\n",
      "Nike Court Vision Low Next Nature-$68.97\n",
      "Air Jordan 1 Mid SE-$114.97\n",
      "Nike Dunk High-$130\n",
      "Nike Air Force 1 07 -$110\n",
      "Nike Dunk Low Twist-$125\n",
      "Nike Blazer Mid 77-$105\n",
      "Nike Air Max 270-$137.97\n",
      "Nike Air Force 1 07-$115\n",
      "Nike Court Vision Low Next Nature-$68.97\n",
      "Air Jordan 1 Mid SE-$114.97\n",
      "Nike Dunk High-$130\n",
      "Nike Air Force 1 07 -$110\n",
      "Nike Dunk Low Twist-$125\n"
     ]
    }
   ],
   "source": [
    "import mysql.connector\n",
    "\n",
    "#Connect the database\n",
    "mydb=mysql.connector.connect(\n",
    " host='localhost',\n",
    " user='root',\n",
    " password='Window@12345',\n",
    " database='mydatabase'\n",
    ")\n",
    "cursor=mydb.cursor()\n",
    "\n",
    "cursor.execute(\"SELECT ShoesName,Price FROM Shoe1 WHERE Category = 'Womens Shoes'\")\n",
    "\n",
    "results=cursor.fetchall()\n",
    "\n",
    "for row in results:\n",
    "    shoe_name = row[0]\n",
    "    price = row[1]\n",
    "    print(f\"{shoe_name}-${price}\")\n",
    "\n",
    "cursor.close()\n",
    "mydb.close()"
   ]
  },
  {
   "cell_type": "code",
   "execution_count": 1,
   "id": "89d81bee",
   "metadata": {
    "scrolled": true
   },
   "outputs": [
    {
     "name": "stdout",
     "output_type": "stream",
     "text": [
      "            color1        color2        color3        color4  \\\n",
      "0            White         Black         Black         White   \n",
      "1    Night Stadium         White          None          None   \n",
      "2            Black         White  Neutral Grey         White   \n",
      "3             None          None          None          None   \n",
      "4     Yellow Ochre         White         Black  Sky J Purple   \n",
      "5            White         White  Summit White         White   \n",
      "6            White         White         White         White   \n",
      "7            White         White         White         White   \n",
      "8             None          None          None          None   \n",
      "9            White         White   Pearl White         White   \n",
      "10            None          None          None          None   \n",
      "11  Burgundy Crush     Oil Green          None          None   \n",
      "12           Khaki         White         White         Black   \n",
      "13            None          None          None          None   \n",
      "14            Sail     Blue Tint         White  Summit White   \n",
      "15            None          None          None          None   \n",
      "16           White  Summit White         White         White   \n",
      "17            None          None          None          None   \n",
      "18            None          None          None          None   \n",
      "19           White         White     Fireberry         Black   \n",
      "20       Pink Wash         White         Black  Purple Venom   \n",
      "21       Iron Grey     Wolf Grey         Black         White   \n",
      "22       Blue Tint  Vachetta Tan    Pearl Pink          None   \n",
      "23           White          None          None          None   \n",
      "\n",
      "               color5          Stylecode  countofsizes  \n",
      "0                None  Style: CW2288-111             1  \n",
      "1                None  Style: CT8532-140             1  \n",
      "2   Sky J Light Olive  Style: DZ4475-006             1  \n",
      "3                None  Style: FV0374-100             0  \n",
      "4               White  Style: DQ8426-106             1  \n",
      "5             Phantom  Style: DH3161-100             1  \n",
      "6               White  Style: CZ1055-100             1  \n",
      "7                Sail  Style: FQ8877-100             1  \n",
      "8                None  Style: FV6909-800             0  \n",
      "9               White  Style: DM7590-100             1  \n",
      "10               None  Style: DH2920-111             0  \n",
      "11               None  Style: FB8895-300             1  \n",
      "12              Black  Style: AH8050-002             1  \n",
      "13               None  Style: FV3653-191             0  \n",
      "14         Pearl Pink  Style: FD1448-664             1  \n",
      "15               None  Style: FB9927-200             0  \n",
      "16              White  Style: BQ6806-100             1  \n",
      "17               None  Style: FB9928-200             0  \n",
      "18               None  Style: FB9929-200             0  \n",
      "19              White  Style: DD8959-100             1  \n",
      "20              White  Style: DQ8423-511             1  \n",
      "21               None  Style: CN8490-002             1  \n",
      "22               None  Style: DZ2786-400             1  \n",
      "23               None  Style: DD1503-118             1  \n"
     ]
    }
   ],
   "source": [
    "import pandas as pd\n",
    "import requests\n",
    "from bs4 import BeautifulSoup\n",
    "\n",
    "#make a request to the landing page\n",
    "landing_url=\"https://www.nike.com/w/shoes-y7ok\"\n",
    "landing_response=requests.get(landing_url)\n",
    "landing_soup=BeautifulSoup(landing_response.content,\"html.parser\")\n",
    "\n",
    "#Find all the individual shoes element on the landing pages \n",
    "shoe_elements = landing_soup.find_all(\"a\", class_=\"product-card__img-link-overlay\")\n",
    "\n",
    "#Create empty lists to store the data\n",
    "colors_list = []\n",
    "sizes_list = []\n",
    "style_code_list = []\n",
    "\n",
    "#Loop through each individual shoes element\n",
    "for shoe_element in shoe_elements:\n",
    "    #Extracting the individual shoe URL\n",
    "    shoe_url = shoe_element[\"href\"]\n",
    "    \n",
    "    #Make a request to the individual shoe page\n",
    "    individual_response = requests.get(shoe_url)\n",
    "    individual_soup = BeautifulSoup(individual_response.content, \"html.parser\")\n",
    "    \n",
    "    #Extract the color information from the individual shoe page\n",
    "    color_elements = individual_soup.find_all('div', class_=\"css-7aigzk colorway-container d-sm-ib d-lg-tc pr1-sm pb1-sm\")\n",
    "    colors = []\n",
    "    for i in range(5):\n",
    "        if i >= len(color_elements):\n",
    "            colors.append('None')\n",
    "            break\n",
    "        color = color_elements[i].find('img')['alt'].split('/')[0]\n",
    "        colors.append(color)\n",
    "    color1 =colors[0] if len(colors) >= 1 else 'None'\n",
    "    color2 =colors[1] if len(colors) >= 2 else 'None'\n",
    "    color3 =colors[2] if len(colors) >= 3 else 'None'\n",
    "    color4 =colors[3] if len(colors) >= 4 else 'None'\n",
    "    color5 =colors[4] if len(colors) >= 5 else 'None'\n",
    "    \n",
    "    #Extracting other details os shoe page\n",
    "    style_code = individual_soup.find('li', class_=\"description-preview__style-color ncss-li\").text.strip()\n",
    "    \n",
    "    #Modify the code below to extract the count of sizes from individual shoe page\n",
    "    sizes = individual_soup.find_all(\"div\", class_=\"css-3gbow5\")\n",
    "    count_of_sizes=len(sizes)\n",
    "    \n",
    "    #Appending the data to respective lists\n",
    "    colors_list.append([color1, color2, color3, color4, color5, style_code, count_of_sizes])\n",
    "    \n",
    "    #create dataframe using list\n",
    "df=pd.DataFrame(colors_list,columns=['color1', 'color2', 'color3', 'color4', 'color5', 'Stylecode', 'countofsizes'])\n",
    "print(df)"
   ]
  },
  {
   "cell_type": "code",
   "execution_count": 2,
   "id": "655dd780",
   "metadata": {},
   "outputs": [],
   "source": [
    "csv_file='Tabl2.csv'\n",
    "df.to_csv(csv_file, index=False)"
   ]
  },
  {
   "cell_type": "code",
   "execution_count": 14,
   "id": "5d6a879d",
   "metadata": {},
   "outputs": [
    {
     "name": "stdout",
     "output_type": "stream",
     "text": [
      "Requirement already satisfied: mysql in c:\\users\\ramm prrasad\\anaconda3\\lib\\site-packages (0.0.3)\n",
      "Requirement already satisfied: mysqlclient in c:\\users\\ramm prrasad\\anaconda3\\lib\\site-packages (from mysql) (2.2.0)\n"
     ]
    }
   ],
   "source": [
    "!pip install mysql"
   ]
  },
  {
   "cell_type": "code",
   "execution_count": 27,
   "id": "cd264dfe",
   "metadata": {},
   "outputs": [],
   "source": [
    "import mysql.connector\n",
    "\n",
    "mydb=mysql.connector.connect(\n",
    " host='localhost',\n",
    " user='root',\n",
    " password='Window@12345',\n",
    " database=\"mydatabase\"\n",
    ")\n",
    "\n",
    "mycursor = mydb.cursor()\n",
    "\n",
    "mycursor.execute('''\n",
    "CREATE TABLE Tab2(\n",
    " color1 VARCHAR(255),\n",
    " color2 VARCHAR(255),\n",
    " color3 VARCHAR(255),\n",
    " color4 VARCHAR(255),\n",
    " color5 VARCHAR(255),\n",
    " stylecode VARCHAR(255),\n",
    " countofsize VARCHAR(255)\n",
    ")\n",
    "''')\n",
    "\n",
    "for x in mycursor:\n",
    "    print(x)"
   ]
  },
  {
   "cell_type": "code",
   "execution_count": 42,
   "id": "02e1b960",
   "metadata": {},
   "outputs": [
    {
     "name": "stdout",
     "output_type": "stream",
     "text": [
      "('shoe1',)\n",
      "('shoe2',)\n",
      "('tab2',)\n",
      "('table2',)\n",
      "('table3',)\n"
     ]
    }
   ],
   "source": [
    "import mysql.connector\n",
    "\n",
    "mydb=mysql.connector.connect(\n",
    " host='localhost',\n",
    " user='root',\n",
    " password='Window@12345',\n",
    " database=\"mydatabase\"\n",
    ")\n",
    "\n",
    "mycursor = mydb.cursor()\n",
    "\n",
    "mycursor.execute('SHOW TABLES')\n",
    "\n",
    "for x in mycursor:\n",
    "    print(x)"
   ]
  },
  {
   "cell_type": "code",
   "execution_count": 45,
   "id": "bc8cba23",
   "metadata": {},
   "outputs": [
    {
     "name": "stdout",
     "output_type": "stream",
     "text": [
      "24 was inserted.\n"
     ]
    }
   ],
   "source": [
    "import pandas as pd\n",
    "import mysql.connector\n",
    "\n",
    "#Connect the database\n",
    "mydb=mysql.connector.connect(\n",
    " host='localhost',\n",
    " user='root',\n",
    " password='Window@12345',\n",
    " database='mydatabase'\n",
    ")\n",
    "\n",
    "mycursor = mydb.cursor()\n",
    "sql=\"INSERT INTO tab2 (color1, color2, color3, color4, color5, stylecode, countofsize) VALUES (%s, %s, %s, %s, %s, %s, %s)\"\n",
    "val=[\n",
    "    ('None','None','None','None','None','StyleFD1643300','0'),\n",
    "    ('None','None','None','None','None','StyleCW1590100','0'),\n",
    "    ('White','Black','White','Sky J Teal','White','StyleBQ6472701','1'),\n",
    "    ('Light Bone','Sea Glass','Hyper Pink','White','White','StyleAH6789100','1'),\n",
    "    ('White','White','Pearl White','White','White','StyleDM7590100','1'),\n",
    "    ('Black','Black','Black','White','Black','StyleBQ5068001','1'),\n",
    "    ('White','Sail','Black','White','Phantom','StyleFQ8885100','1'),\n",
    "    ('Yellow Ochre','White','Black','White','Black','StyleDQ8426106','1'),\n",
    "    ('White','White','White','White','Sail','StyleFQ8877100','1'),\n",
    "    ('White','Black','Black','White','None','StyleCW2288111','1'),\n",
    "    ('Sail','Blue Tint','White','Summit White','Pearl Pink','StyleFD1448664','1'),\n",
    "    ('Khaki','Night Maroon','White','White','White','StyleAH8050002','1'),\n",
    "    ('None','None','None','None','None','StyleFB9928200','0'),\n",
    "    ('Brown Kelp','White','Sky J Orange','Celestial Gold','Sport Spice','StyleFN3722801','1'),\n",
    "    ('Night Stadium','White','None','None','None','StyleCT8532140','1'),\n",
    "    ('Black','White','Black','White','Photon Dust','StyleFN7304100','1'),\n",
    "    ('Phantom','White','White','Black','White','StyleDA5380102','1'),\n",
    "    ('None','None','None','None','None','Style852542007','1'),\n",
    "    ('None','None','None','None','None','StyleFB9927200','0'),\n",
    "    ('White','None','None','None','None','StyleDD1503118','1'),\n",
    "    ('Blue Tint','Vachetta Tan','Pearl Pink','None','None','StyleDZ2786400','1'),\n",
    "    ('Khaki','Volt','University Red','Geode Teal','Black','StyleFD4116200','1'),\n",
    "    ('Black','Black','Wolf Grey','None','None','StyleDJ4701003','1'),\n",
    "    ('Phantom','Light Soft Pink','White','White','Platinum Violet','StyleCD5432101','1'),\n",
    "]\n",
    "\n",
    "mycursor.executemany(sql,val)\n",
    "\n",
    "mydb.commit()\n",
    "\n",
    "print(mycursor.rowcount, \"was inserted.\")"
   ]
  },
  {
   "cell_type": "markdown",
   "id": "1afe9d65",
   "metadata": {},
   "source": [
    "SQL NIKE TABle2"
   ]
  },
  {
   "cell_type": "markdown",
   "id": "afd2e4b6",
   "metadata": {},
   "source": [
    "1 Write a query that retrieves the count of sizes for all styles."
   ]
  },
  {
   "cell_type": "code",
   "execution_count": 51,
   "id": "5dfe89f2",
   "metadata": {
    "scrolled": true
   },
   "outputs": [
    {
     "name": "stdout",
     "output_type": "stream",
     "text": [
      "StyleFD1643300 0\n",
      "StyleCW1590100 0\n",
      "StyleBQ6472701 1\n",
      "StyleAH6789100 1\n",
      "StyleDM7590100 1\n",
      "StyleBQ5068001 1\n",
      "StyleFQ8885100 1\n",
      "StyleDQ8426106 1\n",
      "StyleFQ8877100 1\n",
      "StyleCW2288111 1\n",
      "StyleFD1448664 1\n",
      "StyleAH8050002 1\n",
      "StyleFB9928200 0\n",
      "StyleFN3722801 1\n",
      "StyleCT8532140 1\n",
      "StyleFN7304100 1\n",
      "StyleDA5380102 1\n",
      "Style852542007 1\n",
      "StyleFB9927200 0\n",
      "StyleDD1503118 1\n",
      "StyleDZ2786400 1\n",
      "StyleFD4116200 1\n",
      "StyleDJ4701003 1\n",
      "StyleCD5432101 1\n"
     ]
    }
   ],
   "source": [
    "import mysql.connector\n",
    "\n",
    "#Connect the database\n",
    "mydb=mysql.connector.connect(\n",
    " host='localhost',\n",
    " user='root',\n",
    " password='Window@12345',\n",
    " database='mydatabase'\n",
    ")\n",
    "cursor=mydb.cursor()\n",
    "\n",
    "cursor.execute(\"SELECT stylecode,countofsize FROM tab2 GROUP BY stylecode,countofsize\")\n",
    "\n",
    "results=cursor.fetchall()\n",
    "\n",
    "for row in results:\n",
    "    print(row[0], row[1])\n",
    "mydb.close()\n"
   ]
  },
  {
   "cell_type": "markdown",
   "id": "ece92012",
   "metadata": {},
   "source": [
    "2  Write a query to list all styles with their associated colors."
   ]
  },
  {
   "cell_type": "code",
   "execution_count": 53,
   "id": "939d30f7",
   "metadata": {},
   "outputs": [
    {
     "name": "stdout",
     "output_type": "stream",
     "text": [
      "StyleFD1643300 None\n",
      "StyleCW1590100 None\n",
      "StyleBQ6472701 White\n",
      "StyleAH6789100 Light Bone\n",
      "StyleDM7590100 White\n",
      "StyleBQ5068001 Black\n",
      "StyleFQ8885100 White\n",
      "StyleDQ8426106 Yellow Ochre\n",
      "StyleFQ8877100 White\n",
      "StyleCW2288111 White\n",
      "StyleFD1448664 Sail\n",
      "StyleAH8050002 Khaki\n",
      "StyleFB9928200 None\n",
      "StyleFN3722801 Brown Kelp\n",
      "StyleCT8532140 Night Stadium\n",
      "StyleFN7304100 Black\n",
      "StyleDA5380102 Phantom\n",
      "Style852542007 None\n",
      "StyleFB9927200 None\n",
      "StyleDD1503118 White\n",
      "StyleDZ2786400 Blue Tint\n",
      "StyleFD4116200 Khaki\n",
      "StyleDJ4701003 Black\n",
      "StyleCD5432101 Phantom\n"
     ]
    }
   ],
   "source": [
    "import mysql.connector\n",
    "\n",
    "#Connect the database\n",
    "mydb=mysql.connector.connect(\n",
    " host='localhost',\n",
    " user='root',\n",
    " password='Window@12345',\n",
    " database='mydatabase'\n",
    ")\n",
    "cursor=mydb.cursor()\n",
    "\n",
    "cursor.execute(\"SELECT stylecode,color1,color2,color3,color4,color5 From tab2\")\n",
    "\n",
    "results=cursor.fetchall()\n",
    "\n",
    "for row in results:\n",
    "    print(row[0], row[1])\n",
    "mydb.close()"
   ]
  },
  {
   "cell_type": "markdown",
   "id": "f5496202",
   "metadata": {},
   "source": [
    "3 Write a to find styles that have more than one color."
   ]
  },
  {
   "cell_type": "code",
   "execution_count": 62,
   "id": "ac624f30",
   "metadata": {},
   "outputs": [
    {
     "name": "stdout",
     "output_type": "stream",
     "text": [
      "StyleFD1643300\n",
      "StyleCW1590100\n",
      "StyleBQ6472701\n",
      "StyleAH6789100\n",
      "StyleDM7590100\n",
      "StyleBQ5068001\n",
      "StyleFQ8885100\n",
      "StyleDQ8426106\n",
      "StyleFQ8877100\n",
      "StyleCW2288111\n",
      "StyleFD1448664\n",
      "StyleAH8050002\n",
      "StyleFB9928200\n",
      "StyleFN3722801\n",
      "StyleCT8532140\n",
      "StyleFN7304100\n",
      "StyleDA5380102\n",
      "Style852542007\n",
      "StyleFB9927200\n",
      "StyleDD1503118\n",
      "StyleDZ2786400\n",
      "StyleFD4116200\n",
      "StyleDJ4701003\n",
      "StyleCD5432101\n"
     ]
    }
   ],
   "source": [
    "import mysql.connector\n",
    "\n",
    "#Connect the database\n",
    "mydb=mysql.connector.connect(\n",
    " host='localhost',\n",
    " user='root',\n",
    " password='Window@12345',\n",
    " database='mydatabase'\n",
    ")\n",
    "cursor=mydb.cursor()\n",
    "\n",
    "cursor.execute(\"SELECT stylecode FROM tab2 WHERE (color1 IS NOT NULL)AND(color2 IS NOT NULL)\")\n",
    "\n",
    "results=cursor.fetchall()\n",
    "\n",
    "for row in results:\n",
    "    print(row[0])\n",
    "mydb.close()"
   ]
  },
  {
   "cell_type": "markdown",
   "id": "6e87ffcc",
   "metadata": {},
   "source": [
    "4  Write a query to find the count of sizes available for each color for a specific style code."
   ]
  },
  {
   "cell_type": "code",
   "execution_count": 8,
   "id": "104ef798",
   "metadata": {},
   "outputs": [
    {
     "name": "stdout",
     "output_type": "stream",
     "text": [
      "('StyleAH6789100', 'Light Bone', 1)\n",
      "('StyleAH8050002', 'Khaki', 1)\n",
      "('StyleBQ5068001', 'Black', 1)\n",
      "('StyleBQ6472701', 'White', 1)\n",
      "('StyleCD5432101', 'Phantom', 1)\n",
      "('StyleCT8532140', 'Night Stadium', 1)\n",
      "('StyleCW2288111', 'White', 1)\n",
      "('StyleDA5380102', 'Phantom', 1)\n",
      "('StyleDD1503118', 'White', 1)\n",
      "('StyleDJ4701003', 'Black', 1)\n",
      "('StyleDM7590100', 'White', 1)\n",
      "('StyleDQ8426106', 'Yellow Ochre', 1)\n",
      "('StyleDZ2786400', 'Blue Tint', 1)\n",
      "('StyleFD1448664', 'Sail', 1)\n",
      "('StyleFD4116200', 'Khaki', 1)\n",
      "('StyleFN3722801', 'Brown Kelp', 1)\n",
      "('StyleFN7304100', 'Black', 1)\n",
      "('StyleFQ8877100', 'White', 1)\n",
      "('StyleFQ8885100', 'White', 1)\n"
     ]
    }
   ],
   "source": [
    "import mysql.connector\n",
    "\n",
    "#Connect the database\n",
    "mydb=mysql.connector.connect(\n",
    " host='localhost',\n",
    " user='root',\n",
    " password='Window@12345',\n",
    " database='mydatabase'\n",
    ")\n",
    "cursor=mydb.cursor()\n",
    "\n",
    "sql_query='''\n",
    " Select stylecode,color,Count(DISTINCT countofsize) As countofsizes\n",
    " FROM(\n",
    "   SELECT Stylecode, color1 AS color, countofsize FROM tab2 WHERE color1 IS NOT NULL AND color1 !='None'\n",
    "   UNION ALL\n",
    "   SELECT Stylecode,color1 as Color, countofsize FROM tab2 WHERE color1 IS NOT NULL AND color1 != 'None'\n",
    "   UNION ALL\n",
    "   SELECT Stylecode, color1 as Color, countofsize FROM tab2 WHERE color1 IS NOT NULL AND color1 != 'None'\n",
    "   UNION ALL\n",
    "   SELECT Stylecode, color1 as Color, countofsize FROM tab2 WHERE color1 IS NOT NULL AND color1 != 'None'\n",
    "   UNION ALL\n",
    "   SELECT Stylecode, color1 as Color, countofsize FROM tab2 WHERE color1 IS NOT NULL AND color1 != 'None'\n",
    "  )AS CombinedColors\n",
    "   GROUP BY Stylecode, Color\n",
    "   ORDER BY Stylecode, Color;\n",
    "'''\n",
    "\n",
    "\n",
    "cursor.execute(sql_query)\n",
    "\n",
    "results=cursor.fetchall()\n",
    "\n",
    "for row in results:\n",
    "    print(row)\n",
    "mydb.close()"
   ]
  },
  {
   "cell_type": "markdown",
   "id": "a77a3f3d",
   "metadata": {},
   "source": [
    "5  Write a query to find styles that have a specific color."
   ]
  },
  {
   "cell_type": "code",
   "execution_count": 10,
   "id": "3428bf59",
   "metadata": {},
   "outputs": [],
   "source": [
    "import mysql.connector\n",
    "\n",
    "#Connect the database\n",
    "mydb=mysql.connector.connect(\n",
    " host='localhost',\n",
    " user='root',\n",
    " password='Window@12345',\n",
    " database='mydatabase'\n",
    ")\n",
    "cursor=mydb.cursor()\n",
    "\n",
    "color='color1'\n",
    "\n",
    "cursor.execute(\"SELECT stylecode FROM tab2 WHERE color1= %s OR color2= %s OR color3= %s OR color4= %s OR color5= %s\",(color,color,color,color,color))\n",
    "\n",
    "results=cursor.fetchall()\n",
    "\n",
    "for row in results:\n",
    "    print(row[0])\n",
    "mydb.close()"
   ]
  },
  {
   "cell_type": "markdown",
   "id": "f760d1e6",
   "metadata": {},
   "source": [
    "Table3"
   ]
  },
  {
   "cell_type": "code",
   "execution_count": 18,
   "id": "a9427ecd",
   "metadata": {
    "scrolled": false
   },
   "outputs": [
    {
     "name": "stdout",
     "output_type": "stream",
     "text": [
      "                                               Review Size Comfort Starrating\n",
      "0   [[[<div class=\"star-rating stars d-sm-ib\"><spa...  N/A    NULL  4.8 Stars\n",
      "1   [[[<div class=\"star-rating stars d-sm-ib\"><spa...  N/A    NULL  4.9 Stars\n",
      "2   [[[<div class=\"star-rating stars d-sm-ib\"><spa...  N/A    NULL  4.8 Stars\n",
      "3   [[[<div class=\"star-rating stars d-sm-ib\"><spa...  N/A    NULL  4.9 Stars\n",
      "4   [[[<div class=\"star-rating stars d-sm-ib\"><spa...  N/A    NULL  4.9 Stars\n",
      "5   [[[<div class=\"star-rating stars d-sm-ib\"><spa...  N/A    NULL  4.5 Stars\n",
      "6   [[[<div class=\"star-rating stars d-sm-ib\"><spa...  N/A    NULL  4.6 Stars\n",
      "7   [[[<div class=\"star-rating stars d-sm-ib\"><spa...  N/A    NULL  4.5 Stars\n",
      "8   [[[<div class=\"star-rating stars d-sm-ib\"><spa...  N/A    NULL    0 Stars\n",
      "9   [[[<div class=\"star-rating stars d-sm-ib\"><spa...  N/A    NULL  4.6 Stars\n",
      "10  [[[<div class=\"star-rating stars d-sm-ib\"><spa...  N/A    NULL  4.8 Stars\n",
      "11  [[[<div class=\"star-rating stars d-sm-ib\"><spa...  N/A    NULL    4 Stars\n",
      "12  [[[<div class=\"star-rating stars d-sm-ib\"><spa...  N/A    NULL  4.7 Stars\n",
      "13  [[[<div class=\"star-rating stars d-sm-ib\"><spa...  N/A    NULL  4.4 Stars\n",
      "14  [[[<div class=\"star-rating stars d-sm-ib\"><spa...  N/A    NULL  4.9 Stars\n",
      "15  [[[<div class=\"star-rating stars d-sm-ib\"><spa...  N/A    NULL  4.8 Stars\n",
      "16  [[[<div class=\"star-rating stars d-sm-ib\"><spa...  N/A    NULL  4.7 Stars\n",
      "17  [[[<div class=\"star-rating stars d-sm-ib\"><spa...  N/A    NULL  4.7 Stars\n",
      "18  [[[<div class=\"star-rating stars d-sm-ib\"><spa...  N/A    NULL    0 Stars\n",
      "19  [[[<div class=\"star-rating stars d-sm-ib\"><spa...  N/A    NULL  4.8 Stars\n",
      "20  [[[<div class=\"star-rating stars d-sm-ib\"><spa...  N/A    NULL  4.9 Stars\n",
      "21  [[[<div class=\"star-rating stars d-sm-ib\"><spa...  N/A    NULL  4.7 Stars\n",
      "22  [[[<div class=\"star-rating stars d-sm-ib\"><spa...  N/A    NULL  4.3 Stars\n",
      "23  [[[<div class=\"star-rating stars d-sm-ib\"><spa...  N/A    NULL  4.8 Stars\n"
     ]
    }
   ],
   "source": [
    "import pandas as pd\n",
    "import requests\n",
    "from bs4 import BeautifulSoup\n",
    "\n",
    "#make a request to the landing page\n",
    "landing_url=\"https://www.nike.com/w/shoes-y7ok\"\n",
    "landing_response=requests.get(landing_url)\n",
    "landing_soup=BeautifulSoup(landing_response.content,\"html.parser\")\n",
    "\n",
    "#Find all the individual shoes element on the landing pages \n",
    "shoe_elements = landing_soup.find_all(\"a\", class_=\"product-card__img-link-overlay\")\n",
    "\n",
    "#Create empty lists to store the data\n",
    "review_list = []\n",
    "Size_list = []\n",
    "Comfort_list = []\n",
    "starrating_list = []\n",
    "\n",
    "\n",
    "#Loop through each individual shoes element\n",
    "for shoe_element in shoe_elements:\n",
    "    #Extracting the individual shoe URL\n",
    "    shoe_url = shoe_element[\"href\"]\n",
    "    \n",
    "    #Make a request to the individual shoe page\n",
    "    individual_response = requests.get(shoe_url)\n",
    "    individual_soup = BeautifulSoup(individual_response.content, \"html.parser\")\n",
    "    \n",
    "    #Extract the  information from the individual shoe page\n",
    "    \n",
    "    review=individual_soup.find('div', class_=\"css-1e0k2gt\")\n",
    "    sizes = individual_soup.find(\"a\", class_=\"text-color-secondary pr0-sm d-sm-ib sizeGuide css-1i84jnn\")\n",
    "    starrating=individual_soup.find('p', class_=\"d-sm-ib pl4-sm\").text.strip()\n",
    "    \n",
    "    if sizes is not None:\n",
    "        sizes = sizes.text.strip()\n",
    "    else:\n",
    "        sizes = \"N/A\"\n",
    "    #extracting other information\n",
    "    comfort_element=individual_soup.find_all('div', class_=\"epdp-headline-sm body-1\")\n",
    "    comfort_info=[comfort.find('p') for comfort in comfort_element] if comfort_element else \"NULL\" \n",
    "    \n",
    "    \n",
    "    #Appending the data to respective lists\n",
    "    \n",
    "    review_list.append(review)\n",
    "    Size_list.append(sizes)\n",
    "    Comfort_list.append(comfort_info)\n",
    "    starrating_list.append(starrating)\n",
    "        \n",
    "                                   \n",
    "    #create dataframe \n",
    "data = {\n",
    "    \"Review\":review_list,\n",
    "    \"Size\":Size_list,\n",
    "    \"Comfort\":Comfort_list,\n",
    "    \"Starrating\":starrating_list\n",
    "}                                   \n",
    "df=pd.DataFrame(data)\n",
    "print(df)"
   ]
  },
  {
   "cell_type": "code",
   "execution_count": 5,
   "id": "78aa0ea8",
   "metadata": {},
   "outputs": [],
   "source": [
    "csv_file='Table3.csv'\n",
    "df.to_csv(csv_file, index=False)"
   ]
  },
  {
   "cell_type": "markdown",
   "id": "541efee1",
   "metadata": {},
   "source": [
    "#web driver not working in system unable to scrap dynamic data "
   ]
  },
  {
   "cell_type": "code",
   "execution_count": 3,
   "id": "e0dbbafb",
   "metadata": {},
   "outputs": [],
   "source": [
    "#concatenate the DataFrames\n",
    "df1=pd.read_csv('Tabl1.csv')\n",
    "df2=pd.read_csv('Tabl2.csv')\n",
    "df3=pd.read_csv('Table3.csv')\n",
    "\n",
    "Combined_df=pd.concat([df1,df2,df3])"
   ]
  },
  {
   "cell_type": "code",
   "execution_count": 33,
   "id": "1bbecf23",
   "metadata": {},
   "outputs": [
    {
     "name": "stdout",
     "output_type": "stream",
     "text": [
      "               ShoesName         Category    Price    Colors color1 color2  \\\n",
      "0   Nike Air Force 1 '07      Men's Shoes     $115  4 Colors    NaN    NaN   \n",
      "1     Air Jordan 3 Retro      Men's Shoes     $200  2 Colors    NaN    NaN   \n",
      "2            Jumpman MVP      Men's Shoes     $165  9 Colors    NaN    NaN   \n",
      "3          Nike Dunk Low  Big Kids' Shoes      $90   1 Color    NaN    NaN   \n",
      "4       Air Jordan 1 Mid      Men's Shoes  $106.97  6 Colors    NaN    NaN   \n",
      "..                   ...              ...      ...       ...    ...    ...   \n",
      "19                   NaN              NaN      NaN       NaN    NaN    NaN   \n",
      "20                   NaN              NaN      NaN       NaN    NaN    NaN   \n",
      "21                   NaN              NaN      NaN       NaN    NaN    NaN   \n",
      "22                   NaN              NaN      NaN       NaN    NaN    NaN   \n",
      "23                   NaN              NaN      NaN       NaN    NaN    NaN   \n",
      "\n",
      "   color3 color4 color5 Stylecode  countofsizes  \\\n",
      "0     NaN    NaN    NaN       NaN           NaN   \n",
      "1     NaN    NaN    NaN       NaN           NaN   \n",
      "2     NaN    NaN    NaN       NaN           NaN   \n",
      "3     NaN    NaN    NaN       NaN           NaN   \n",
      "4     NaN    NaN    NaN       NaN           NaN   \n",
      "..    ...    ...    ...       ...           ...   \n",
      "19    NaN    NaN    NaN       NaN           NaN   \n",
      "20    NaN    NaN    NaN       NaN           NaN   \n",
      "21    NaN    NaN    NaN       NaN           NaN   \n",
      "22    NaN    NaN    NaN       NaN           NaN   \n",
      "23    NaN    NaN    NaN       NaN           NaN   \n",
      "\n",
      "                                               Review  Size  Comfort  \\\n",
      "0                                                 NaN   NaN      NaN   \n",
      "1                                                 NaN   NaN      NaN   \n",
      "2                                                 NaN   NaN      NaN   \n",
      "3                                                 NaN   NaN      NaN   \n",
      "4                                                 NaN   NaN      NaN   \n",
      "..                                                ...   ...      ...   \n",
      "19  4.3 StarsWrite a ReviewI LOVE!!!Marissa6421217...   NaN      NaN   \n",
      "20  4.8 StarsWrite a ReviewProductMeghna344164012 ...   NaN      NaN   \n",
      "21  4.8 StarsWrite a ReviewFireOscar971086375 - De...   NaN      NaN   \n",
      "22  4.8 StarsWrite a ReviewThe best anniversary sh...   NaN      NaN   \n",
      "23  5 StarsWrite a ReviewBuy them!!!TiffanyH180171...   NaN      NaN   \n",
      "\n",
      "   Starrating  \n",
      "0         NaN  \n",
      "1         NaN  \n",
      "2         NaN  \n",
      "3         NaN  \n",
      "4         NaN  \n",
      "..        ...  \n",
      "19  4.3 Stars  \n",
      "20  4.8 Stars  \n",
      "21  4.8 Stars  \n",
      "22  4.8 Stars  \n",
      "23    5 Stars  \n",
      "\n",
      "[72 rows x 15 columns]\n"
     ]
    }
   ],
   "source": [
    "print(Combined_df)"
   ]
  },
  {
   "cell_type": "code",
   "execution_count": null,
   "id": "a90064ca",
   "metadata": {},
   "outputs": [],
   "source": []
  }
 ],
 "metadata": {
  "kernelspec": {
   "display_name": "Python 3 (ipykernel)",
   "language": "python",
   "name": "python3"
  },
  "language_info": {
   "codemirror_mode": {
    "name": "ipython",
    "version": 3
   },
   "file_extension": ".py",
   "mimetype": "text/x-python",
   "name": "python",
   "nbconvert_exporter": "python",
   "pygments_lexer": "ipython3",
   "version": "3.9.13"
  }
 },
 "nbformat": 4,
 "nbformat_minor": 5
}
