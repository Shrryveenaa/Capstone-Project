{
 "cells": [
  {
   "cell_type": "code",
   "execution_count": 1,
   "id": "cccbe8d0",
   "metadata": {},
   "outputs": [],
   "source": [
    "import requests\n",
    "from bs4 import BeautifulSoup\n",
    "import pandas as pd"
   ]
  },
  {
   "cell_type": "code",
   "execution_count": 2,
   "id": "278cf5e4",
   "metadata": {
    "scrolled": true
   },
   "outputs": [
    {
     "data": {
      "text/plain": [
       "<Response [200]>"
      ]
     },
     "execution_count": 2,
     "metadata": {},
     "output_type": "execute_result"
    }
   ],
   "source": [
    "url=requests.get(\"https://us.puma.com/us/en/search?q=shoes\")\n",
    "url"
   ]
  },
  {
   "cell_type": "code",
   "execution_count": 3,
   "id": "178250d0",
   "metadata": {},
   "outputs": [],
   "source": [
    "soup=BeautifulSoup(url.text,'html.parser')\n"
   ]
  },
  {
   "cell_type": "code",
   "execution_count": 4,
   "id": "26bef76c",
   "metadata": {},
   "outputs": [],
   "source": [
    "shoe_elements= soup.find_all(\"div\",class_=\"relative w-full flex flex-col gap-2\")\n"
   ]
  },
  {
   "cell_type": "code",
   "execution_count": 5,
   "id": "b4270e4d",
   "metadata": {},
   "outputs": [
    {
     "name": "stdout",
     "output_type": "stream",
     "text": [
      "                                            ShoesName Category          Price  \\\n",
      "0   PUMA x LAMELO BALL MB.01 Golden Child Men's Ba...      Men        $140.00   \n",
      "1   PUMA x LAMELO BALL MB.03 Toxic Men's Basketbal...      Men        $125.00   \n",
      "2   PUMA x LAMELO BALL MB.01 Golden Child Big Kids...      NaN        $120.00   \n",
      "3   FENTY x PUMA Creeper Phatty Women's SneakersPU...    Women        $140.00   \n",
      "4   Viz Runner Repeat Men's Running SneakersPuma B...      Men   $37.99$65.00   \n",
      "5   Riaze Prowl Rainbow Women's SneakersPuma Black...    Women   $45.99$85.00   \n",
      "6     Suede Classic XXI SneakersPuma Black-Puma White      NaN         $75.00   \n",
      "7   PUMA x LAMELO BALL MB.03 Chino Hills Men's Bas...      Men        $125.00   \n",
      "8   Star Vital Women's Training ShoesPUMA Black-PU...    Women   $32.99$65.00   \n",
      "9   Softride Sophia 2 Women's Slip-on ShoesFuture ...    Women   $34.99$70.00   \n",
      "10  FENTY x PUMA Creeper Phatty Women's SneakersLa...    Women        $140.00   \n",
      "11  Better Foam Prowl Slip On Women's Training Sho...    Women   $40.99$65.00   \n",
      "12  PUMA x LAMELO BALL MB.03 LaFrancé Men's Basket...      Men        $125.00   \n",
      "13   Ella Lace Up Women's ShoesPuma White-Puma Silver    Women   $29.99$60.00   \n",
      "14  Suede Classic XXI Women's SneakersIcy Blue-PUM...    Women   $49.99$75.00   \n",
      "15    GV Special+ Men's SneakersPuma Black-Puma Black      Men   $52.99$75.00   \n",
      "16  Contempt Demi Men's Training ShoesPuma Black-A...      Men   $40.99$65.00   \n",
      "17  Viz Runner Repeat Men's Running SneakersPuma W...      Men   $37.99$65.00   \n",
      "18  FENTY x PUMA Creeper Phatty Women's SneakersSp...    Women        $140.00   \n",
      "19  PUMA Serve Pro Men's SneakersPuma Black-Puma B...      Men   $32.99$65.00   \n",
      "20       Suede Classic XXI SneakersPeacoat-Puma White      NaN         $75.00   \n",
      "21    RS-X Camo Dye Men's SneakersMyrtle-Fall Foliage      Men  $65.99$120.00   \n",
      "22  Softride Sophia 2 Women's Slip-on ShoesPUMA Bl...    Women   $34.99$70.00   \n",
      "23  SCUDERIA FERRARI x JOSHUA VIDES Speedcat Pro M...      Men        $450.00   \n",
      "\n",
      "     Colors  \n",
      "0   1 Color  \n",
      "1   1 Color  \n",
      "2   1 Color  \n",
      "3      none  \n",
      "4      none  \n",
      "5   1 Color  \n",
      "6      none  \n",
      "7   1 Color  \n",
      "8      none  \n",
      "9      none  \n",
      "10     none  \n",
      "11  1 Color  \n",
      "12  1 Color  \n",
      "13     none  \n",
      "14     none  \n",
      "15     none  \n",
      "16     none  \n",
      "17     none  \n",
      "18     none  \n",
      "19     none  \n",
      "20     none  \n",
      "21  1 Color  \n",
      "22     none  \n",
      "23  1 Color  \n"
     ]
    }
   ],
   "source": [
    "import requests\n",
    "from bs4 import BeautifulSoup\n",
    "import pandas as pd\n",
    "\n",
    "url=requests.get(\"https://us.puma.com/us/en/search?q=shoes\")\n",
    "\n",
    "soup=BeautifulSoup(url.text,'html.parser')\n",
    "\n",
    "shoe_elements= soup.find_all(\"div\",class_=\"relative w-full flex flex-col gap-2\")\n",
    "\n",
    "names=[]\n",
    "category=[]\n",
    "prices=[]\n",
    "colors=[]\n",
    "\n",
    "for shoe in shoe_elements:\n",
    "    Shoenames = shoe.find('h3',class_=\"w-full mobile:text-sm mobile:pr-0 font-bold text-base pr-5 line-clamp-2\").text.strip()\n",
    "    Category = shoe.find('h3',class_=\"w-full mobile:text-sm mobile:pr-0 font-bold text-base pr-5 line-clamp-2\")\n",
    "    Price = shoe.find('div',class_=\"flex flex-col flex-none mobile:items-start items-end text-sm md:text-base mobile:mt-2\")\n",
    "    Color = shoe.find('span',class_=\"text-puma-black-300 uppercase text-xs whitespace-nowrap\")\n",
    "    \n",
    "    names.append(Shoenames)\n",
    "    category.append(Category.text.strip() if Category else \"\")\n",
    "    prices.append(Price.text.strip() if Price else \"\")\n",
    "    colors.append(Color.text.strip() if Color else \"none\")\n",
    "\n",
    "shoes={'ShoesName':names,'Category':category,'Price':prices,'Colors':colors}\n",
    "data= pd.DataFrame(shoes)\n",
    "\n",
    "data['Category'] = data['Category'].str.extract('(Men|Women)', expand=False) \n",
    "print(data)"
   ]
  },
  {
   "cell_type": "code",
   "execution_count": 6,
   "id": "d6380da7",
   "metadata": {},
   "outputs": [],
   "source": [
    "csv_file='PTable1.csv'\n",
    "data.to_csv(csv_file, index=False)"
   ]
  },
  {
   "cell_type": "code",
   "execution_count": 7,
   "id": "a516be52",
   "metadata": {},
   "outputs": [
    {
     "name": "stdout",
     "output_type": "stream",
     "text": [
      "Requirement already satisfied: mysql in c:\\users\\ramm prrasad\\anaconda3\\lib\\site-packages (0.0.3)\n",
      "Requirement already satisfied: mysqlclient in c:\\users\\ramm prrasad\\anaconda3\\lib\\site-packages (from mysql) (2.2.0)\n"
     ]
    }
   ],
   "source": [
    "!pip install mysql"
   ]
  },
  {
   "cell_type": "code",
   "execution_count": 8,
   "id": "9551462d",
   "metadata": {},
   "outputs": [
    {
     "ename": "ProgrammingError",
     "evalue": "1050 (42S01): Table 'ptable1' already exists",
     "output_type": "error",
     "traceback": [
      "\u001b[1;31m---------------------------------------------------------------------------\u001b[0m",
      "\u001b[1;31mMySQLInterfaceError\u001b[0m                       Traceback (most recent call last)",
      "\u001b[1;32m~\\anaconda3\\lib\\site-packages\\mysql\\connector\\connection_cext.py\u001b[0m in \u001b[0;36mcmd_query\u001b[1;34m(self, query, raw, buffered, raw_as_string)\u001b[0m\n\u001b[0;32m    607\u001b[0m                 \u001b[0mquery\u001b[0m \u001b[1;33m=\u001b[0m \u001b[0mquery\u001b[0m\u001b[1;33m.\u001b[0m\u001b[0mencode\u001b[0m\u001b[1;33m(\u001b[0m\u001b[1;34m\"utf-8\"\u001b[0m\u001b[1;33m)\u001b[0m\u001b[1;33m\u001b[0m\u001b[1;33m\u001b[0m\u001b[0m\n\u001b[1;32m--> 608\u001b[1;33m             self._cmysql.query(\n\u001b[0m\u001b[0;32m    609\u001b[0m                 \u001b[0mquery\u001b[0m\u001b[1;33m,\u001b[0m\u001b[1;33m\u001b[0m\u001b[1;33m\u001b[0m\u001b[0m\n",
      "\u001b[1;31mMySQLInterfaceError\u001b[0m: Table 'ptable1' already exists",
      "\nThe above exception was the direct cause of the following exception:\n",
      "\u001b[1;31mProgrammingError\u001b[0m                          Traceback (most recent call last)",
      "\u001b[1;32m~\\AppData\\Local\\Temp\\ipykernel_12876\\1213599973.py\u001b[0m in \u001b[0;36m<module>\u001b[1;34m\u001b[0m\n\u001b[0;32m     10\u001b[0m \u001b[0mmycursor\u001b[0m \u001b[1;33m=\u001b[0m \u001b[0mmydb\u001b[0m\u001b[1;33m.\u001b[0m\u001b[0mcursor\u001b[0m\u001b[1;33m(\u001b[0m\u001b[1;33m)\u001b[0m\u001b[1;33m\u001b[0m\u001b[1;33m\u001b[0m\u001b[0m\n\u001b[0;32m     11\u001b[0m \u001b[1;33m\u001b[0m\u001b[0m\n\u001b[1;32m---> 12\u001b[1;33m mycursor.execute('''\n\u001b[0m\u001b[0;32m     13\u001b[0m CREATE TABLE ptable1(\n\u001b[0;32m     14\u001b[0m  \u001b[0mShoesName\u001b[0m \u001b[0mVARCHAR\u001b[0m\u001b[1;33m(\u001b[0m\u001b[1;36m255\u001b[0m\u001b[1;33m)\u001b[0m\u001b[1;33m,\u001b[0m\u001b[1;33m\u001b[0m\u001b[1;33m\u001b[0m\u001b[0m\n",
      "\u001b[1;32m~\\anaconda3\\lib\\site-packages\\mysql\\connector\\cursor_cext.py\u001b[0m in \u001b[0;36mexecute\u001b[1;34m(self, operation, params, multi)\u001b[0m\n\u001b[0;32m    328\u001b[0m \u001b[1;33m\u001b[0m\u001b[0m\n\u001b[0;32m    329\u001b[0m         \u001b[1;32mtry\u001b[0m\u001b[1;33m:\u001b[0m\u001b[1;33m\u001b[0m\u001b[1;33m\u001b[0m\u001b[0m\n\u001b[1;32m--> 330\u001b[1;33m             result = self._cnx.cmd_query(\n\u001b[0m\u001b[0;32m    331\u001b[0m                 \u001b[0mstmt\u001b[0m\u001b[1;33m,\u001b[0m\u001b[1;33m\u001b[0m\u001b[1;33m\u001b[0m\u001b[0m\n\u001b[0;32m    332\u001b[0m                 \u001b[0mraw\u001b[0m\u001b[1;33m=\u001b[0m\u001b[0mself\u001b[0m\u001b[1;33m.\u001b[0m\u001b[0m_raw\u001b[0m\u001b[1;33m,\u001b[0m\u001b[1;33m\u001b[0m\u001b[1;33m\u001b[0m\u001b[0m\n",
      "\u001b[1;32m~\\anaconda3\\lib\\site-packages\\mysql\\connector\\connection_cext.py\u001b[0m in \u001b[0;36mcmd_query\u001b[1;34m(self, query, raw, buffered, raw_as_string)\u001b[0m\n\u001b[0;32m    614\u001b[0m             )\n\u001b[0;32m    615\u001b[0m         \u001b[1;32mexcept\u001b[0m \u001b[0mMySQLInterfaceError\u001b[0m \u001b[1;32mas\u001b[0m \u001b[0merr\u001b[0m\u001b[1;33m:\u001b[0m\u001b[1;33m\u001b[0m\u001b[1;33m\u001b[0m\u001b[0m\n\u001b[1;32m--> 616\u001b[1;33m             raise get_mysql_exception(\n\u001b[0m\u001b[0;32m    617\u001b[0m                 \u001b[0merr\u001b[0m\u001b[1;33m.\u001b[0m\u001b[0merrno\u001b[0m\u001b[1;33m,\u001b[0m \u001b[0mmsg\u001b[0m\u001b[1;33m=\u001b[0m\u001b[0merr\u001b[0m\u001b[1;33m.\u001b[0m\u001b[0mmsg\u001b[0m\u001b[1;33m,\u001b[0m \u001b[0msqlstate\u001b[0m\u001b[1;33m=\u001b[0m\u001b[0merr\u001b[0m\u001b[1;33m.\u001b[0m\u001b[0msqlstate\u001b[0m\u001b[1;33m\u001b[0m\u001b[1;33m\u001b[0m\u001b[0m\n\u001b[0;32m    618\u001b[0m             ) from err\n",
      "\u001b[1;31mProgrammingError\u001b[0m: 1050 (42S01): Table 'ptable1' already exists"
     ]
    }
   ],
   "source": [
    "import mysql.connector\n",
    "\n",
    "mydb=mysql.connector.connect(\n",
    " host='localhost',\n",
    " user='root',\n",
    " password='Window@12345',\n",
    " database=\"mydatabase\"\n",
    ")\n",
    "\n",
    "mycursor = mydb.cursor()\n",
    "\n",
    "mycursor.execute('''\n",
    "CREATE TABLE ptable1(\n",
    " ShoesName VARCHAR(255),\n",
    " Category VARCHAR(255),\n",
    " Price VARCHAR(255),\n",
    " Colors VARCHAR(255)\n",
    ")\n",
    "''')\n",
    "\n",
    "for x in mycursor:\n",
    "    print(x)"
   ]
  },
  {
   "cell_type": "code",
   "execution_count": 9,
   "id": "e3c76ed3",
   "metadata": {},
   "outputs": [
    {
     "name": "stdout",
     "output_type": "stream",
     "text": [
      "('ptable1',)\n",
      "('shoe1',)\n",
      "('shoe2',)\n",
      "('tab2',)\n",
      "('table2',)\n",
      "('table3',)\n"
     ]
    }
   ],
   "source": [
    "import mysql.connector\n",
    "\n",
    "mydb=mysql.connector.connect(\n",
    " host='localhost',\n",
    " user='root',\n",
    " password='Window@12345',\n",
    " database=\"mydatabase\"\n",
    ")\n",
    "\n",
    "mycursor = mydb.cursor()\n",
    "\n",
    "mycursor.execute('SHOW TABLES')\n",
    "\n",
    "for x in mycursor:\n",
    "    print(x)"
   ]
  },
  {
   "cell_type": "code",
   "execution_count": 10,
   "id": "1d309753",
   "metadata": {},
   "outputs": [
    {
     "name": "stdout",
     "output_type": "stream",
     "text": [
      "24 was inserted.\n"
     ]
    }
   ],
   "source": [
    "import pandas as pd\n",
    "import mysql.connector\n",
    "\n",
    "#Connect the database\n",
    "mydb=mysql.connector.connect(\n",
    " host='localhost',\n",
    " user='root',\n",
    " password='Window@12345',\n",
    " database='mydatabase'\n",
    ")\n",
    "\n",
    "mycursor = mydb.cursor()\n",
    "sql=\"INSERT INTO ptable1 (ShoesName, Category, Price, Colors) VALUES (%s, %s, %s, %s)\"\n",
    "val=[\n",
    "    ('PUMA x LAMELO BALL MB.01 Golden Child Mens Basketball ShoesMetallic Gold-Fiery Coral','Men','$140.00','1 Color'),\n",
    "    ('PUMA x LAMELO BALL MB.03 Toxic Mens Basketball ShoesPurple Glimmer-Green Gecko','Men','$125.00','1 Color'),\n",
    "    ('PUMA x LAMELO BALL MB.01 Golden Child Big Kids Basketball ShoesMetallic Gold-Fiery Coral','NAN','$120.00','1 Color'),\n",
    "    ('FENTY x PUMA Creeper Phatty Womens SneakersPUMA Black-Warm White-Gum','Women','$140.00','none'),\n",
    "    ('Viz Runner Repeat Mens Running SneakersPuma Black-Puma White','Men','$37.99$65.00','none'),\n",
    "    ('Riaze Prowl Rainbow Womens SneakersPuma Black-Luminous Pink','Women','$85.00','1 Color'),\n",
    "    ('Suede Classic XXI SneakersPuma Black-Puma White','NaN','$75.00','none'),\n",
    "    ('PUMA x LAMELO BALL MB.03 Chino Hills Mens Basketball ShoesFeather Gray-Lime Smash','Men','$125.00','1 Color'),\n",
    "    ('Star Vital Womens Training ShoesPUMA Black-PUMA Silver','Women','$32.99$65.00','none'),\n",
    "    ('Softride Sophia 2 Womens Slip-on ShoesFuture Pink-Rose Gold-Frosty Pink','Women','$34.99$70.00','none'),\n",
    "    ('FENTY x PUMA Creeper Phatty Womens SneakersLavender Alert-Burnt Red-Gum','Women','$140.00','none'),\n",
    "    ('Better Foam Prowl Slip On Womens Training ShoesPUMA Black-PUMA Gold-Ash Gray','Women','$40.99$65.00','1 Color'),\n",
    "    ('PUMA x LAMELO BALL MB.03 LaFrancé Mens Basketball ShoesFluro Green Pes-PUMA Green-Fluro Yellow Pes','Men','$125.00','1 Color'),\n",
    "    ('Ella Lace Up Womens ShoesPuma White-Puma Silver','Women','$29.99$60.00','none'),\n",
    "    ('Suede Classic XXI Womens SneakersIcy Blue-PUMA White','Women','$49.99$75.00','none'),\n",
    "    ('GV Special+ Mens SneakersPuma Black-Puma Black','Men','$52.99$75.00','none'),\n",
    "    ('Suede Classic XXI SneakersPuma Black-Puma Black','NaN','$75.00','none'),\n",
    "    ('Contempt Demi Mens Training ShoesPuma Black-Asphalt','Men','$40.99$65.00','none'),\n",
    "    ('Viz Runner Repeat Mens Running SneakersPuma White-Puma Black','Men','$37.99$65.00','none'),\n",
    "    ('FENTY x PUMA Creeper Phatty Womens SneakersSpeed Blue-Lime Pow-Gum','Women','$140.00','none'),\n",
    "    ('PUMA Serve Pro Mens SneakersPuma Black-Puma Black-Puma White-Puma Team Gold','Men','$32.99$65.00','none'),\n",
    "    ('RS-X Camo Dye Mens SneakersMyrtle-Fall Foliage','Men','$65.99$120.00','1 Color'),\n",
    "    ('Suede Classic XXI SneakersPeacoat-Puma White','NaN','$75.00','none'),\n",
    "    ('Softride Sophia 2 Womens Slip-on ShoesPUMA Black-PUMA White','Women','$34.99$70.00','none'),\n",
    "]\n",
    "\n",
    "mycursor.executemany(sql,val)\n",
    "\n",
    "mydb.commit()\n",
    "\n",
    "print(mycursor.rowcount, \"was inserted.\")"
   ]
  },
  {
   "cell_type": "markdown",
   "id": "a865c6c0",
   "metadata": {},
   "source": [
    "1 Write a query to retrieve all shoe names and their corresponding prices for men's shoes:"
   ]
  },
  {
   "cell_type": "code",
   "execution_count": 11,
   "id": "94255616",
   "metadata": {},
   "outputs": [
    {
     "name": "stdout",
     "output_type": "stream",
     "text": [
      "PUMA x LAMELO BALL MB.01 Golden Child Mens Basketball ShoesMetallic Gold-Fiery Coral $140.00\n",
      "PUMA x LAMELO BALL MB.03 Toxic Mens Basketball ShoesPurple Glimmer-Green Gecko $125.00\n",
      "Viz Runner Repeat Mens Running SneakersPuma Black-Puma White $37.99$65.00\n",
      "PUMA x LAMELO BALL MB.03 Chino Hills Mens Basketball ShoesFeather Gray-Lime Smash $125.00\n",
      "PUMA x LAMELO BALL MB.03 LaFrancé Mens Basketball ShoesFluro Green Pes-PUMA Green-Fluro Yellow Pes $125.00\n",
      "GV Special+ Mens SneakersPuma Black-Puma Black $52.99$75.00\n",
      "Contempt Demi Mens Training ShoesPuma Black-Asphalt $40.99$65.00\n",
      "Viz Runner Repeat Mens Running SneakersPuma White-Puma Black $37.99$65.00\n",
      "PUMA Serve Pro Mens SneakersPuma Black-Puma Black-Puma White-Puma Team Gold $32.99$65.00\n",
      "RS-X Camo Dye Mens SneakersMyrtle-Fall Foliage $65.99$120.00\n",
      "PUMA x LAMELO BALL MB.01 Golden Child Mens Basketball ShoesMetallic Gold-Fiery Coral $140.00\n",
      "PUMA x LAMELO BALL MB.03 Toxic Mens Basketball ShoesPurple Glimmer-Green Gecko $125.00\n",
      "Viz Runner Repeat Mens Running SneakersPuma Black-Puma White $37.99$65.00\n",
      "PUMA x LAMELO BALL MB.03 Chino Hills Mens Basketball ShoesFeather Gray-Lime Smash $125.00\n",
      "PUMA x LAMELO BALL MB.03 LaFrancé Mens Basketball ShoesFluro Green Pes-PUMA Green-Fluro Yellow Pes $125.00\n",
      "GV Special+ Mens SneakersPuma Black-Puma Black $52.99$75.00\n",
      "Contempt Demi Mens Training ShoesPuma Black-Asphalt $40.99$65.00\n",
      "Viz Runner Repeat Mens Running SneakersPuma White-Puma Black $37.99$65.00\n",
      "PUMA Serve Pro Mens SneakersPuma Black-Puma Black-Puma White-Puma Team Gold $32.99$65.00\n",
      "RS-X Camo Dye Mens SneakersMyrtle-Fall Foliage $65.99$120.00\n",
      "PUMA x LAMELO BALL MB.01 Golden Child Mens Basketball ShoesMetallic Gold-Fiery Coral $140.00\n",
      "PUMA x LAMELO BALL MB.03 Toxic Mens Basketball ShoesPurple Glimmer-Green Gecko $125.00\n",
      "Viz Runner Repeat Mens Running SneakersPuma Black-Puma White $37.99$65.00\n",
      "PUMA x LAMELO BALL MB.03 Chino Hills Mens Basketball ShoesFeather Gray-Lime Smash $125.00\n",
      "PUMA x LAMELO BALL MB.03 LaFrancé Mens Basketball ShoesFluro Green Pes-PUMA Green-Fluro Yellow Pes $125.00\n",
      "GV Special+ Mens SneakersPuma Black-Puma Black $52.99$75.00\n",
      "Contempt Demi Mens Training ShoesPuma Black-Asphalt $40.99$65.00\n",
      "Viz Runner Repeat Mens Running SneakersPuma White-Puma Black $37.99$65.00\n",
      "PUMA Serve Pro Mens SneakersPuma Black-Puma Black-Puma White-Puma Team Gold $32.99$65.00\n",
      "RS-X Camo Dye Mens SneakersMyrtle-Fall Foliage $65.99$120.00\n",
      "PUMA x LAMELO BALL MB.01 Golden Child Mens Basketball ShoesMetallic Gold-Fiery Coral $140.00\n",
      "PUMA x LAMELO BALL MB.03 Toxic Mens Basketball ShoesPurple Glimmer-Green Gecko $125.00\n",
      "Viz Runner Repeat Mens Running SneakersPuma Black-Puma White $37.99$65.00\n",
      "PUMA x LAMELO BALL MB.03 Chino Hills Mens Basketball ShoesFeather Gray-Lime Smash $125.00\n",
      "PUMA x LAMELO BALL MB.03 LaFrancé Mens Basketball ShoesFluro Green Pes-PUMA Green-Fluro Yellow Pes $125.00\n",
      "GV Special+ Mens SneakersPuma Black-Puma Black $52.99$75.00\n",
      "Contempt Demi Mens Training ShoesPuma Black-Asphalt $40.99$65.00\n",
      "Viz Runner Repeat Mens Running SneakersPuma White-Puma Black $37.99$65.00\n",
      "PUMA Serve Pro Mens SneakersPuma Black-Puma Black-Puma White-Puma Team Gold $32.99$65.00\n",
      "RS-X Camo Dye Mens SneakersMyrtle-Fall Foliage $65.99$120.00\n"
     ]
    }
   ],
   "source": [
    "import mysql.connector\n",
    "\n",
    "#Connect the database\n",
    "mydb=mysql.connector.connect(\n",
    " host='localhost',\n",
    " user='root',\n",
    " password='Window@12345',\n",
    " database='mydatabase'\n",
    ")\n",
    "cursor=mydb.cursor()\n",
    "\n",
    "cursor.execute(\"SELECT ShoesName, Price FROM ptable1 WHERE Category = 'Men'\")\n",
    "\n",
    "results=cursor.fetchall()\n",
    "\n",
    "for row in results:\n",
    "    print(row[0], row[1])\n",
    "mydb.close()"
   ]
  },
  {
   "cell_type": "markdown",
   "id": "56aed993",
   "metadata": {},
   "source": [
    "2 Write a query to retrieve the number of different colors available for each category."
   ]
  },
  {
   "cell_type": "code",
   "execution_count": 12,
   "id": "a100b6b7",
   "metadata": {},
   "outputs": [
    {
     "name": "stdout",
     "output_type": "stream",
     "text": [
      "('Men', 2)\n",
      "('NAN', 2)\n",
      "('Women', 2)\n"
     ]
    }
   ],
   "source": [
    "import mysql.connector\n",
    "\n",
    "#Connect the database\n",
    "mydb=mysql.connector.connect(\n",
    " host='localhost',\n",
    " user='root',\n",
    " password='Window@12345',\n",
    " database='mydatabase'\n",
    ")\n",
    "cursor=mydb.cursor()\n",
    "\n",
    "cursor.execute('SELECT Category, COUNT(DISTINCT Colors) AS NumColors FROM ptable1 GROUP BY Category')\n",
    "\n",
    "results=cursor.fetchall()\n",
    "\n",
    "for row in results:\n",
    "    print(row)\n",
    "cursor.close()\n",
    "mydb.close()"
   ]
  },
  {
   "cell_type": "markdown",
   "id": "50a89894",
   "metadata": {},
   "source": [
    "3 Write a query to find the most expensive men's shoe."
   ]
  },
  {
   "cell_type": "code",
   "execution_count": 13,
   "id": "01020336",
   "metadata": {},
   "outputs": [
    {
     "name": "stdout",
     "output_type": "stream",
     "text": [
      "('RS-X Camo Dye Mens SneakersMyrtle-Fall Foliage', 'Men', '$65.99$120.00', '1 Color')\n"
     ]
    }
   ],
   "source": [
    "import mysql.connector\n",
    "\n",
    "#Connect the database\n",
    "mydb=mysql.connector.connect(\n",
    " host='localhost',\n",
    " user='root',\n",
    " password='Window@12345',\n",
    " database='mydatabase'\n",
    ")\n",
    "cursor=mydb.cursor()\n",
    "\n",
    "cursor.execute(\"SELECT * FROM ptable1 WHERE Category = 'Men' ORDER BY Price DESC LIMIT 1\")\n",
    "\n",
    "results=cursor.fetchone()\n",
    "               \n",
    "print(results)\n",
    "               \n",
    "cursor.close()\n",
    "mydb.close()"
   ]
  },
  {
   "cell_type": "markdown",
   "id": "4310c5d1",
   "metadata": {},
   "source": [
    "4 Write a query to find the cheapest women's shoe in a specific color (e.g., 'Black ')."
   ]
  },
  {
   "cell_type": "code",
   "execution_count": 14,
   "id": "86174b22",
   "metadata": {},
   "outputs": [
    {
     "name": "stdout",
     "output_type": "stream",
     "text": [
      "No women's Shoe in black found\n"
     ]
    }
   ],
   "source": [
    "import mysql.connector\n",
    "\n",
    "#Connect the database\n",
    "mydb=mysql.connector.connect(\n",
    " host='localhost',\n",
    " user='root',\n",
    " password='Window@12345',\n",
    " database='mydatabase'\n",
    ")\n",
    "cursor=mydb.cursor()\n",
    "\n",
    "cursor.execute(\"SELECT * FROM ptable1 WHERE Category = 'Women' AND Colors = 'Black' ORDER BY Price ASC LIMIT 1\")\n",
    "\n",
    "results=cursor.fetchone()\n",
    "               \n",
    "if results:\n",
    "    print(f\"The cheapest women's shoe in black is {results[0]}priced at {result[2]}\")\n",
    "else:\n",
    "    print(\"No women's Shoe in black found\")\n",
    "    \n",
    "cursor.close()\n",
    "mydb.close()"
   ]
  },
  {
   "cell_type": "markdown",
   "id": "97645fba",
   "metadata": {},
   "source": [
    "5 Write a query to retrieve all shoe names and their corresponding prices for women's shoes."
   ]
  },
  {
   "cell_type": "code",
   "execution_count": 15,
   "id": "e1436147",
   "metadata": {},
   "outputs": [
    {
     "name": "stdout",
     "output_type": "stream",
     "text": [
      "FENTY x PUMA Creeper Phatty Womens SneakersPUMA Black-Warm White-Gum-$$140.00\n",
      "Riaze Prowl Rainbow Womens SneakersPuma Black-Luminous Pink-$$85.00\n",
      "Star Vital Womens Training ShoesPUMA Black-PUMA Silver-$$32.99$65.00\n",
      "Softride Sophia 2 Womens Slip-on ShoesFuture Pink-Rose Gold-Frosty Pink-$$34.99$70.00\n",
      "FENTY x PUMA Creeper Phatty Womens SneakersLavender Alert-Burnt Red-Gum-$$140.00\n",
      "Better Foam Prowl Slip On Womens Training ShoesPUMA Black-PUMA Gold-Ash Gray-$$40.99$65.00\n",
      "Ella Lace Up Womens ShoesPuma White-Puma Silver-$$29.99$60.00\n",
      "Suede Classic XXI Womens SneakersIcy Blue-PUMA White-$$49.99$75.00\n",
      "FENTY x PUMA Creeper Phatty Womens SneakersSpeed Blue-Lime Pow-Gum-$$140.00\n",
      "Softride Sophia 2 Womens Slip-on ShoesPUMA Black-PUMA White-$$34.99$70.00\n",
      "FENTY x PUMA Creeper Phatty Womens SneakersPUMA Black-Warm White-Gum-$$140.00\n",
      "Riaze Prowl Rainbow Womens SneakersPuma Black-Luminous Pink-$$85.00\n",
      "Star Vital Womens Training ShoesPUMA Black-PUMA Silver-$$32.99$65.00\n",
      "Softride Sophia 2 Womens Slip-on ShoesFuture Pink-Rose Gold-Frosty Pink-$$34.99$70.00\n",
      "FENTY x PUMA Creeper Phatty Womens SneakersLavender Alert-Burnt Red-Gum-$$140.00\n",
      "Better Foam Prowl Slip On Womens Training ShoesPUMA Black-PUMA Gold-Ash Gray-$$40.99$65.00\n",
      "Ella Lace Up Womens ShoesPuma White-Puma Silver-$$29.99$60.00\n",
      "Suede Classic XXI Womens SneakersIcy Blue-PUMA White-$$49.99$75.00\n",
      "FENTY x PUMA Creeper Phatty Womens SneakersSpeed Blue-Lime Pow-Gum-$$140.00\n",
      "Softride Sophia 2 Womens Slip-on ShoesPUMA Black-PUMA White-$$34.99$70.00\n",
      "FENTY x PUMA Creeper Phatty Womens SneakersPUMA Black-Warm White-Gum-$$140.00\n",
      "Riaze Prowl Rainbow Womens SneakersPuma Black-Luminous Pink-$$85.00\n",
      "Star Vital Womens Training ShoesPUMA Black-PUMA Silver-$$32.99$65.00\n",
      "Softride Sophia 2 Womens Slip-on ShoesFuture Pink-Rose Gold-Frosty Pink-$$34.99$70.00\n",
      "FENTY x PUMA Creeper Phatty Womens SneakersLavender Alert-Burnt Red-Gum-$$140.00\n",
      "Better Foam Prowl Slip On Womens Training ShoesPUMA Black-PUMA Gold-Ash Gray-$$40.99$65.00\n",
      "Ella Lace Up Womens ShoesPuma White-Puma Silver-$$29.99$60.00\n",
      "Suede Classic XXI Womens SneakersIcy Blue-PUMA White-$$49.99$75.00\n",
      "FENTY x PUMA Creeper Phatty Womens SneakersSpeed Blue-Lime Pow-Gum-$$140.00\n",
      "Softride Sophia 2 Womens Slip-on ShoesPUMA Black-PUMA White-$$34.99$70.00\n",
      "FENTY x PUMA Creeper Phatty Womens SneakersPUMA Black-Warm White-Gum-$$140.00\n",
      "Riaze Prowl Rainbow Womens SneakersPuma Black-Luminous Pink-$$85.00\n",
      "Star Vital Womens Training ShoesPUMA Black-PUMA Silver-$$32.99$65.00\n",
      "Softride Sophia 2 Womens Slip-on ShoesFuture Pink-Rose Gold-Frosty Pink-$$34.99$70.00\n",
      "FENTY x PUMA Creeper Phatty Womens SneakersLavender Alert-Burnt Red-Gum-$$140.00\n",
      "Better Foam Prowl Slip On Womens Training ShoesPUMA Black-PUMA Gold-Ash Gray-$$40.99$65.00\n",
      "Ella Lace Up Womens ShoesPuma White-Puma Silver-$$29.99$60.00\n",
      "Suede Classic XXI Womens SneakersIcy Blue-PUMA White-$$49.99$75.00\n",
      "FENTY x PUMA Creeper Phatty Womens SneakersSpeed Blue-Lime Pow-Gum-$$140.00\n",
      "Softride Sophia 2 Womens Slip-on ShoesPUMA Black-PUMA White-$$34.99$70.00\n"
     ]
    }
   ],
   "source": [
    "import mysql.connector\n",
    "\n",
    "#Connect the database\n",
    "mydb=mysql.connector.connect(\n",
    " host='localhost',\n",
    " user='root',\n",
    " password='Window@12345',\n",
    " database='mydatabase'\n",
    ")\n",
    "cursor=mydb.cursor()\n",
    "\n",
    "cursor.execute(\"SELECT ShoesName,Price FROM ptable1 WHERE Category = 'Women'\")\n",
    "\n",
    "results=cursor.fetchall()\n",
    "\n",
    "for row in results:\n",
    "    shoe_name = row[0]\n",
    "    price = row[1]\n",
    "    print(f\"{shoe_name}-${price}\")\n",
    "\n",
    "cursor.close()\n",
    "mydb.close()"
   ]
  },
  {
   "cell_type": "code",
   "execution_count": null,
   "id": "76e56b78",
   "metadata": {},
   "outputs": [],
   "source": []
  }
 ],
 "metadata": {
  "kernelspec": {
   "display_name": "Python 3 (ipykernel)",
   "language": "python",
   "name": "python3"
  },
  "language_info": {
   "codemirror_mode": {
    "name": "ipython",
    "version": 3
   },
   "file_extension": ".py",
   "mimetype": "text/x-python",
   "name": "python",
   "nbconvert_exporter": "python",
   "pygments_lexer": "ipython3",
   "version": "3.9.13"
  }
 },
 "nbformat": 4,
 "nbformat_minor": 5
}
